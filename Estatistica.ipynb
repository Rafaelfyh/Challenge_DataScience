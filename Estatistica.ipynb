{
  "nbformat": 4,
  "nbformat_minor": 0,
  "metadata": {
    "colab": {
      "private_outputs": true,
      "provenance": [],
      "collapsed_sections": [],
      "authorship_tag": "ABX9TyNh0AnOvj8oBxreMfPWNN8n",
      "include_colab_link": true
    },
    "kernelspec": {
      "name": "python3",
      "display_name": "Python 3"
    },
    "language_info": {
      "name": "python"
    }
  },
  "cells": [
    {
      "cell_type": "markdown",
      "metadata": {
        "id": "view-in-github",
        "colab_type": "text"
      },
      "source": [
        "<a href=\"https://colab.research.google.com/github/Rafaelfyh/Challenge_DataScience/blob/main/Estatistica.ipynb\" target=\"_parent\"><img src=\"https://colab.research.google.com/assets/colab-badge.svg\" alt=\"Open In Colab\"/></a>"
      ]
    },
    {
      "cell_type": "code",
      "execution_count": null,
      "metadata": {
        "id": "M1_BNgCMpZei"
      },
      "outputs": [],
      "source": [
        "import math\n",
        "\n",
        "n = 18"
      ]
    },
    {
      "cell_type": "code",
      "source": [
        "# raiz quadrada\n",
        "\n",
        "raiz = math.sqrt(n)\n",
        "print('A raiz de {} é igual a {:.2f}'.format(n, raiz))"
      ],
      "metadata": {
        "id": "dX2UOr_mpvzm"
      },
      "execution_count": null,
      "outputs": []
    },
    {
      "cell_type": "code",
      "source": [
        "# raiz de n outra forma\n",
        "\n",
        "raiz2 = n ** 0.5\n",
        "print(raiz2)"
      ],
      "metadata": {
        "id": "1dXA--RJqN9F"
      },
      "execution_count": null,
      "outputs": []
    },
    {
      "cell_type": "code",
      "source": [
        "# com 2 casas decimais \n",
        "print('{:.2f}'.format(raiz2))"
      ],
      "metadata": {
        "id": "H3yQ9ht1qt89"
      },
      "execution_count": null,
      "outputs": []
    },
    {
      "cell_type": "code",
      "source": [
        "#importando random\n",
        "#randint \n",
        "\n",
        "import random\n",
        "\n",
        "num = random.randint (1,10)\n",
        "print(num)"
      ],
      "metadata": {
        "id": "ev05zHyB5ymZ"
      },
      "execution_count": null,
      "outputs": []
    },
    {
      "cell_type": "code",
      "source": [
        "# importando ranndom dentro randint\n",
        "\n",
        "from random import random, randint\n",
        "\n",
        "num2 = random()\n",
        "num2"
      ],
      "metadata": {
        "id": "YudfKKCcNcY4"
      },
      "execution_count": null,
      "outputs": []
    },
    {
      "cell_type": "code",
      "source": [
        "random?"
      ],
      "metadata": {
        "id": "thjul4dDSfH7"
      },
      "execution_count": null,
      "outputs": []
    },
    {
      "cell_type": "markdown",
      "source": [
        "#Estrutura condicional"
      ],
      "metadata": {
        "id": "9HsJs7F9TJLL"
      }
    },
    {
      "cell_type": "code",
      "source": [
        "# Se nota maior ou igual 6 aprovado se nao reprovado \n",
        "nota = 7\n",
        "\n",
        "if nota >= 6:\n",
        "  print('Aprovado')\n",
        "else:\n",
        "  print('Reprovado')  "
      ],
      "metadata": {
        "id": "ou7W-xBISjBI"
      },
      "execution_count": null,
      "outputs": []
    },
    {
      "cell_type": "code",
      "source": [],
      "metadata": {
        "id": "UpBoQrC-UV7m"
      },
      "execution_count": null,
      "outputs": []
    },
    {
      "cell_type": "code",
      "source": [
        "# if se, else negaçao, condição diferente\n",
        "# Se nota maior ou igual 6 aprovado se nao reprovado \n",
        "# Se nota for entre 5 e 6 recuperação\n",
        "\n",
        "nota = 8\n",
        "\n",
        "if nota >= 6:\n",
        "  print('Aprovado')\n",
        "\n",
        "# nota maior ou igual a 5 e menor que 6 recuperação \n",
        "\n",
        "elif nota >= 5 and nota < 6:\n",
        "  print('Recuperação')\n",
        "else:\n",
        "  print('Reprovado') \n"
      ],
      "metadata": {
        "id": "4ji4oNWsUGdj"
      },
      "execution_count": null,
      "outputs": []
    },
    {
      "cell_type": "markdown",
      "source": [
        "#Estrutura de repetição"
      ],
      "metadata": {
        "id": "2C2A2QljVkp1"
      }
    },
    {
      "cell_type": "code",
      "source": [
        "#for e while\n",
        "# for  \"e\" valor in = que está dentro do range que é = estencao de numero como: eliminando o ultimo numero (0,4) \n",
        "\n",
        "for e in range(0, 4):\n",
        "  print(e)\n"
      ],
      "metadata": {
        "id": "sgmHHVmCVkKY"
      },
      "execution_count": null,
      "outputs": []
    },
    {
      "cell_type": "code",
      "source": [
        "lista = [3, 4, 5, 6]\n",
        "for numero in lista:\n",
        "  print(numero * 2)"
      ],
      "metadata": {
        "id": "1WzcjB16ctuq"
      },
      "execution_count": null,
      "outputs": []
    },
    {
      "cell_type": "code",
      "source": [
        "lista = [2, 4, 6, 8]\n",
        "for numero in lista:\n",
        " print(numero * 3)"
      ],
      "metadata": {
        "id": "bynfQ5uhdQY8"
      },
      "execution_count": null,
      "outputs": []
    },
    {
      "cell_type": "code",
      "source": [
        "# = está atribuindo valor a uma variavel\n",
        "# == operador relacional\n",
        "soma = 0\n",
        "cont = 0\n",
        "for c in range (1, 6):\n",
        "    num = int(input('digite o {} o valor: '.format(c)))\n",
        "    if num % 2 == 0:\n",
        "        soma = soma + num\n",
        "        count = cont + 1\n",
        "print('Você informou {} números pares e a soma deles é igual a {}'.format(cont, soma))"
      ],
      "metadata": {
        "id": "rCdzTKF-S32W"
      },
      "execution_count": null,
      "outputs": []
    },
    {
      "cell_type": "code",
      "source": [
        "# while enquanto\n",
        "# enquanto c menor igual 10 \n",
        "# s igual c +10 print retorno s\n",
        "# c = c resultado 10 + c depois print retorn fim\n",
        "\n",
        "c = 1\n",
        "while c <= 11:\n",
        "     s = c+ 10\n",
        "     print(s)\n",
        "     c = c+1\n",
        "print('FIM')      "
      ],
      "metadata": {
        "id": "UGJtHLVanaY5"
      },
      "execution_count": null,
      "outputs": []
    },
    {
      "cell_type": "markdown",
      "source": [
        "# Listas, Tuplas e Dicionários "
      ],
      "metadata": {
        "id": "ukGXWhM4NBYs"
      }
    },
    {
      "cell_type": "markdown",
      "source": [
        "Listas []\n",
        "Tuplas()\n",
        "Dicionários{}"
      ],
      "metadata": {
        "id": "JCnaDWWxNKG_"
      }
    },
    {
      "cell_type": "code",
      "source": [
        "# no lugar [2] substita 6\n",
        "num = [2, 5, 7, 9]\n",
        "num [2] = 6\n",
        "print(num)"
      ],
      "metadata": {
        "id": "1S_ArUKEMtfz"
      },
      "execution_count": null,
      "outputs": []
    },
    {
      "cell_type": "code",
      "source": [
        "# incluir numero em lista\n",
        "# se rodar o comando ele acrescenta mais um numero\n",
        "\n",
        "num.append(8)\n",
        "num"
      ],
      "metadata": {
        "id": "Rc4SmnBpOD15"
      },
      "execution_count": null,
      "outputs": []
    },
    {
      "cell_type": "code",
      "source": [
        "# ordem crescente\n",
        "\n",
        "num.sort()\n",
        "num"
      ],
      "metadata": {
        "id": "f7X-cGNNOfRr"
      },
      "execution_count": null,
      "outputs": []
    },
    {
      "cell_type": "code",
      "source": [
        "# adicionar o zero a posição 3\n",
        "\n",
        "num.insert(3, 0)\n",
        "num"
      ],
      "metadata": {
        "id": "f-zY1bGNOstI"
      },
      "execution_count": null,
      "outputs": []
    },
    {
      "cell_type": "markdown",
      "source": [],
      "metadata": {
        "id": "2YCkgNjZOc3X"
      }
    },
    {
      "cell_type": "code",
      "source": [
        "# remover o numero 9\n",
        "\n",
        "num.remove(9)\n",
        "num\n"
      ],
      "metadata": {
        "id": "QpOe-n1YO9WA"
      },
      "execution_count": null,
      "outputs": []
    },
    {
      "cell_type": "code",
      "source": [
        "# tuplas imutável ()\n",
        "\n",
        "num2 = (2, 5, 7, 9)"
      ],
      "metadata": {
        "id": "4iEF7QnRQthR"
      },
      "execution_count": null,
      "outputs": []
    },
    {
      "cell_type": "code",
      "source": [
        "# dicionario {} e valor, numero não coloca aspas\n",
        "\n",
        "pessoas = {'nome': 'Luciano', 'sexo': 'masculino', 'idade': 46}\n",
        "print(pessoas)"
      ],
      "metadata": {
        "id": "a6p6WTvhRUfR"
      },
      "execution_count": null,
      "outputs": []
    },
    {
      "cell_type": "code",
      "source": [
        "# incluir no dicionario\n",
        "\n",
        "pessoas['time'] = 'Corinthians'\n",
        "print(pessoas)"
      ],
      "metadata": {
        "id": "fySCBZ0HSJSO"
      },
      "execution_count": null,
      "outputs": []
    },
    {
      "cell_type": "code",
      "source": [
        "# deletar dentro de dicionario\n",
        "\n",
        "del pessoas['idade']\n",
        "print(pessoas)"
      ],
      "metadata": {
        "id": "33ANrkUgSpI_"
      },
      "execution_count": null,
      "outputs": []
    },
    {
      "cell_type": "markdown",
      "source": [
        "#Vetores (Arrays) Matrizes"
      ],
      "metadata": {
        "id": "Ffy6MlJWTCh-"
      }
    },
    {
      "cell_type": "markdown",
      "source": [
        "Criar funções"
      ],
      "metadata": {
        "id": "I6QJy_1mTO_k"
      }
    },
    {
      "cell_type": "code",
      "source": [
        "def identificação(nome,idade):\n",
        "   print('Olá' , nome, '\\nVocê é jovem, tem apenas', idade, 'anos')\n",
        "identificação('Luciano', 46)"
      ],
      "metadata": {
        "id": "ZhK9g1C8TKPm"
      },
      "execution_count": null,
      "outputs": []
    },
    {
      "cell_type": "code",
      "source": [
        "# montar função\n",
        "\n",
        "def maior (x,y):\n",
        "  if x < y:\n",
        "   print ('O maior número é', y)\n",
        "  elif x == y:\n",
        "    print ('Os número são iguais')\n",
        "  else:\n",
        "    print ('o maior número é', x)  \n",
        "maior (18, 16)    "
      ],
      "metadata": {
        "id": "y1TFM9bBUaD-"
      },
      "execution_count": null,
      "outputs": []
    },
    {
      "cell_type": "code",
      "source": [
        "#Teorema de pitagoras\n",
        "\n",
        "def pitagoras (cat1, cat2, hip):\n",
        "# calcular hipotenusa\n",
        "  if hip == '?':\n",
        "#hipotenusa igual primeiro cateto ao quadrado mais segundo cateto elevado (1/2) que quer dizer extrair ao quadrado\n",
        "    hip = (cat1**2+cat2**2)**(1/2)\n",
        "    print ('A hipotenusa é', hip)\n",
        "# calcular cateto um \n",
        "  elif cat1 == '?':\n",
        "    cat1 = (hip**2-cat2**2)**(1/2)  \n",
        "    print ('O cateto é', cat1)\n",
        "  elif cat2 == '?':\n",
        "    cat2 = (hip**2-cat1**2)**(1/2)\n",
        "    print ('O cateto é', cat2)  \n",
        "pitagoras (4, '?', 9)    "
      ],
      "metadata": {
        "id": "yMtqc_MFVz7J"
      },
      "execution_count": null,
      "outputs": []
    }
  ]
}