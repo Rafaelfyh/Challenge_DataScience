{
  "nbformat": 4,
  "nbformat_minor": 0,
  "metadata": {
    "colab": {
      "provenance": [],
      "collapsed_sections": [
        "erKQhaWbp9Gk"
      ],
      "include_colab_link": true
    },
    "kernelspec": {
      "name": "python3",
      "display_name": "Python 3"
    },
    "language_info": {
      "name": "python"
    }
  },
  "cells": [
    {
      "cell_type": "markdown",
      "metadata": {
        "id": "view-in-github",
        "colab_type": "text"
      },
      "source": [
        "<a href=\"https://colab.research.google.com/github/Rafaelfyh/Challenge_DataScience/blob/main/Din%C3%A2mica_Spark_Grupo_21_DEX4.ipynb\" target=\"_parent\"><img src=\"https://colab.research.google.com/assets/colab-badge.svg\" alt=\"Open In Colab\"/></a>"
      ]
    },
    {
      "cell_type": "markdown",
      "source": [
        "# DEX 4 Grupo 21, nomes e ID: 27710 Andreia Sampaio da costa, 13720 Vinicius Azevedo dos santos, 15084 Rafael Queiroz de Oliveira"
      ],
      "metadata": {
        "id": "k8BDMDLC8pga"
      }
    },
    {
      "cell_type": "markdown",
      "source": [
        "# **SETUP**"
      ],
      "metadata": {
        "id": "6kQXgVUDm36y"
      }
    },
    {
      "cell_type": "markdown",
      "source": [
        "## Spark UI"
      ],
      "metadata": {
        "id": "hjE_B03_m9Rt"
      }
    },
    {
      "cell_type": "code",
      "source": [
        "!pip install -q pyspark\n",
        "!pip install -q pyngrok"
      ],
      "metadata": {
        "id": "LxWd0qTjmraa",
        "colab": {
          "base_uri": "https://localhost:8080/"
        },
        "outputId": "5701a5bd-5c81-417d-98d7-4a07d3309f24"
      },
      "execution_count": 1,
      "outputs": [
        {
          "output_type": "stream",
          "name": "stdout",
          "text": [
            "\u001b[K     |████████████████████████████████| 281.4 MB 37 kB/s \n",
            "\u001b[K     |████████████████████████████████| 199 kB 36.2 MB/s \n",
            "\u001b[?25h  Building wheel for pyspark (setup.py) ... \u001b[?25l\u001b[?25hdone\n",
            "\u001b[K     |████████████████████████████████| 745 kB 4.9 MB/s \n",
            "\u001b[?25h  Building wheel for pyngrok (setup.py) ... \u001b[?25l\u001b[?25hdone\n"
          ]
        }
      ]
    },
    {
      "cell_type": "code",
      "execution_count": 2,
      "metadata": {
        "colab": {
          "base_uri": "https://localhost:8080/",
          "height": 219
        },
        "id": "R3ZdnLL5e2ks",
        "outputId": "9ab3013f-aec3-4ed4-ca27-933eb8692b5f"
      },
      "outputs": [
        {
          "output_type": "execute_result",
          "data": {
            "text/plain": [
              "<pyspark.sql.session.SparkSession at 0x7f69f0517550>"
            ],
            "text/html": [
              "\n",
              "            <div>\n",
              "                <p><b>SparkSession - in-memory</b></p>\n",
              "                \n",
              "        <div>\n",
              "            <p><b>SparkContext</b></p>\n",
              "\n",
              "            <p><a href=\"http://2ca9276c7f27:4050\">Spark UI</a></p>\n",
              "\n",
              "            <dl>\n",
              "              <dt>Version</dt>\n",
              "                <dd><code>v3.3.1</code></dd>\n",
              "              <dt>Master</dt>\n",
              "                <dd><code>local[*]</code></dd>\n",
              "              <dt>AppName</dt>\n",
              "                <dd><code>pyspark-shell</code></dd>\n",
              "            </dl>\n",
              "        </div>\n",
              "        \n",
              "            </div>\n",
              "        "
            ]
          },
          "metadata": {},
          "execution_count": 2
        }
      ],
      "source": [
        "from pyspark.sql import SparkSession\n",
        "spark = SparkSession.builder.config('spark.ui.port', '4050').getOrCreate()\n",
        "spark"
      ]
    },
    {
      "cell_type": "code",
      "source": [
        "# Fazer login no site https://dashboard.ngrok.com/get-started/setup para obter autenticação própria\n",
        "ngrok_token = '27WqUGZ1SkzPl4bQunMXJyasbWZ_5pCgLCsppL7ufk9rzK7j4'"
      ],
      "metadata": {
        "id": "VK5ksALRlODl"
      },
      "execution_count": 3,
      "outputs": []
    },
    {
      "cell_type": "code",
      "source": [
        "get_ipython().system_raw(f'ngrok authtoken {ngrok_token}')\n",
        "get_ipython().system_raw('ngrok http 4050 &')\n",
        "!sleep 3\n",
        "print('URL para interface Spark:')\n",
        "!curl -s http://localhost:4040/api/tunnels | grep -Po 'public_url\":\"(?=https)\\K[^\"]*'"
      ],
      "metadata": {
        "colab": {
          "base_uri": "https://localhost:8080/"
        },
        "id": "gKPmX_f1gV7C",
        "outputId": "7e210ace-04b3-4c36-e4b6-78816a8f1929"
      },
      "execution_count": 4,
      "outputs": [
        {
          "output_type": "stream",
          "name": "stdout",
          "text": [
            "URL para interface Spark:\n"
          ]
        }
      ]
    },
    {
      "cell_type": "markdown",
      "source": [
        "## Libraries"
      ],
      "metadata": {
        "id": "3hm3CvMdn3Jd"
      }
    },
    {
      "cell_type": "code",
      "source": [
        "import pandas as pd\n",
        "from google.colab import files\n",
        "\n",
        "import pyspark.sql.functions as F\n",
        "from pyspark.sql.window import Window"
      ],
      "metadata": {
        "id": "Yi82wbeZn2jT"
      },
      "execution_count": 86,
      "outputs": []
    },
    {
      "cell_type": "markdown",
      "source": [
        "# Load data"
      ],
      "metadata": {
        "id": "D6PpCkDmnjOv"
      }
    },
    {
      "cell_type": "code",
      "source": [
        "# Load file\n",
        "_ = files.upload()"
      ],
      "metadata": {
        "colab": {
          "base_uri": "https://localhost:8080/",
          "height": 73
        },
        "id": "JOMjC3OennnG",
        "outputId": "62548dd3-6f52-449d-f705-f89c79886783"
      },
      "execution_count": 6,
      "outputs": [
        {
          "output_type": "display_data",
          "data": {
            "text/plain": [
              "<IPython.core.display.HTML object>"
            ],
            "text/html": [
              "\n",
              "     <input type=\"file\" id=\"files-761ea540-1fa3-4f31-b2c0-be019f7d3a08\" name=\"files[]\" multiple disabled\n",
              "        style=\"border:none\" />\n",
              "     <output id=\"result-761ea540-1fa3-4f31-b2c0-be019f7d3a08\">\n",
              "      Upload widget is only available when the cell has been executed in the\n",
              "      current browser session. Please rerun this cell to enable.\n",
              "      </output>\n",
              "      <script>// Copyright 2017 Google LLC\n",
              "//\n",
              "// Licensed under the Apache License, Version 2.0 (the \"License\");\n",
              "// you may not use this file except in compliance with the License.\n",
              "// You may obtain a copy of the License at\n",
              "//\n",
              "//      http://www.apache.org/licenses/LICENSE-2.0\n",
              "//\n",
              "// Unless required by applicable law or agreed to in writing, software\n",
              "// distributed under the License is distributed on an \"AS IS\" BASIS,\n",
              "// WITHOUT WARRANTIES OR CONDITIONS OF ANY KIND, either express or implied.\n",
              "// See the License for the specific language governing permissions and\n",
              "// limitations under the License.\n",
              "\n",
              "/**\n",
              " * @fileoverview Helpers for google.colab Python module.\n",
              " */\n",
              "(function(scope) {\n",
              "function span(text, styleAttributes = {}) {\n",
              "  const element = document.createElement('span');\n",
              "  element.textContent = text;\n",
              "  for (const key of Object.keys(styleAttributes)) {\n",
              "    element.style[key] = styleAttributes[key];\n",
              "  }\n",
              "  return element;\n",
              "}\n",
              "\n",
              "// Max number of bytes which will be uploaded at a time.\n",
              "const MAX_PAYLOAD_SIZE = 100 * 1024;\n",
              "\n",
              "function _uploadFiles(inputId, outputId) {\n",
              "  const steps = uploadFilesStep(inputId, outputId);\n",
              "  const outputElement = document.getElementById(outputId);\n",
              "  // Cache steps on the outputElement to make it available for the next call\n",
              "  // to uploadFilesContinue from Python.\n",
              "  outputElement.steps = steps;\n",
              "\n",
              "  return _uploadFilesContinue(outputId);\n",
              "}\n",
              "\n",
              "// This is roughly an async generator (not supported in the browser yet),\n",
              "// where there are multiple asynchronous steps and the Python side is going\n",
              "// to poll for completion of each step.\n",
              "// This uses a Promise to block the python side on completion of each step,\n",
              "// then passes the result of the previous step as the input to the next step.\n",
              "function _uploadFilesContinue(outputId) {\n",
              "  const outputElement = document.getElementById(outputId);\n",
              "  const steps = outputElement.steps;\n",
              "\n",
              "  const next = steps.next(outputElement.lastPromiseValue);\n",
              "  return Promise.resolve(next.value.promise).then((value) => {\n",
              "    // Cache the last promise value to make it available to the next\n",
              "    // step of the generator.\n",
              "    outputElement.lastPromiseValue = value;\n",
              "    return next.value.response;\n",
              "  });\n",
              "}\n",
              "\n",
              "/**\n",
              " * Generator function which is called between each async step of the upload\n",
              " * process.\n",
              " * @param {string} inputId Element ID of the input file picker element.\n",
              " * @param {string} outputId Element ID of the output display.\n",
              " * @return {!Iterable<!Object>} Iterable of next steps.\n",
              " */\n",
              "function* uploadFilesStep(inputId, outputId) {\n",
              "  const inputElement = document.getElementById(inputId);\n",
              "  inputElement.disabled = false;\n",
              "\n",
              "  const outputElement = document.getElementById(outputId);\n",
              "  outputElement.innerHTML = '';\n",
              "\n",
              "  const pickedPromise = new Promise((resolve) => {\n",
              "    inputElement.addEventListener('change', (e) => {\n",
              "      resolve(e.target.files);\n",
              "    });\n",
              "  });\n",
              "\n",
              "  const cancel = document.createElement('button');\n",
              "  inputElement.parentElement.appendChild(cancel);\n",
              "  cancel.textContent = 'Cancel upload';\n",
              "  const cancelPromise = new Promise((resolve) => {\n",
              "    cancel.onclick = () => {\n",
              "      resolve(null);\n",
              "    };\n",
              "  });\n",
              "\n",
              "  // Wait for the user to pick the files.\n",
              "  const files = yield {\n",
              "    promise: Promise.race([pickedPromise, cancelPromise]),\n",
              "    response: {\n",
              "      action: 'starting',\n",
              "    }\n",
              "  };\n",
              "\n",
              "  cancel.remove();\n",
              "\n",
              "  // Disable the input element since further picks are not allowed.\n",
              "  inputElement.disabled = true;\n",
              "\n",
              "  if (!files) {\n",
              "    return {\n",
              "      response: {\n",
              "        action: 'complete',\n",
              "      }\n",
              "    };\n",
              "  }\n",
              "\n",
              "  for (const file of files) {\n",
              "    const li = document.createElement('li');\n",
              "    li.append(span(file.name, {fontWeight: 'bold'}));\n",
              "    li.append(span(\n",
              "        `(${file.type || 'n/a'}) - ${file.size} bytes, ` +\n",
              "        `last modified: ${\n",
              "            file.lastModifiedDate ? file.lastModifiedDate.toLocaleDateString() :\n",
              "                                    'n/a'} - `));\n",
              "    const percent = span('0% done');\n",
              "    li.appendChild(percent);\n",
              "\n",
              "    outputElement.appendChild(li);\n",
              "\n",
              "    const fileDataPromise = new Promise((resolve) => {\n",
              "      const reader = new FileReader();\n",
              "      reader.onload = (e) => {\n",
              "        resolve(e.target.result);\n",
              "      };\n",
              "      reader.readAsArrayBuffer(file);\n",
              "    });\n",
              "    // Wait for the data to be ready.\n",
              "    let fileData = yield {\n",
              "      promise: fileDataPromise,\n",
              "      response: {\n",
              "        action: 'continue',\n",
              "      }\n",
              "    };\n",
              "\n",
              "    // Use a chunked sending to avoid message size limits. See b/62115660.\n",
              "    let position = 0;\n",
              "    do {\n",
              "      const length = Math.min(fileData.byteLength - position, MAX_PAYLOAD_SIZE);\n",
              "      const chunk = new Uint8Array(fileData, position, length);\n",
              "      position += length;\n",
              "\n",
              "      const base64 = btoa(String.fromCharCode.apply(null, chunk));\n",
              "      yield {\n",
              "        response: {\n",
              "          action: 'append',\n",
              "          file: file.name,\n",
              "          data: base64,\n",
              "        },\n",
              "      };\n",
              "\n",
              "      let percentDone = fileData.byteLength === 0 ?\n",
              "          100 :\n",
              "          Math.round((position / fileData.byteLength) * 100);\n",
              "      percent.textContent = `${percentDone}% done`;\n",
              "\n",
              "    } while (position < fileData.byteLength);\n",
              "  }\n",
              "\n",
              "  // All done.\n",
              "  yield {\n",
              "    response: {\n",
              "      action: 'complete',\n",
              "    }\n",
              "  };\n",
              "}\n",
              "\n",
              "scope.google = scope.google || {};\n",
              "scope.google.colab = scope.google.colab || {};\n",
              "scope.google.colab._files = {\n",
              "  _uploadFiles,\n",
              "  _uploadFilesContinue,\n",
              "};\n",
              "})(self);\n",
              "</script> "
            ]
          },
          "metadata": {}
        },
        {
          "output_type": "stream",
          "name": "stdout",
          "text": [
            "Saving vgsales.csv to vgsales.csv\n"
          ]
        }
      ]
    },
    {
      "cell_type": "markdown",
      "source": [
        "## Data Description\n",
        "\n",
        "This dataset contains records of popular video games in North America, Japan, Europe and other parts of the world. Every video game in this dataset has at least 100k global sales.\n",
        "\n",
        "[Source](https://www.kaggle.com/datasets/gregorut/videogamesales/code?datasetId=284&sortBy=voteCount) of dataset."
      ],
      "metadata": {
        "id": "7Rl5rJY6AaGB"
      }
    },
    {
      "cell_type": "markdown",
      "source": [
        "## Data Dictionary\n",
        "\n",
        "| Column       | Explanation                                               |\n",
        "|:-------------|:----------------------------------------------------------|\n",
        "| Rank         | Ranking of overall sales                                  |\n",
        "| Name         | Name of the game                                          |\n",
        "| Platform     | Platform of the games release (i.e. PC,PS4, etc.)         |\n",
        "| Year         | Year the game was released in                             |\n",
        "| Genre        | Genre of the game                                         |\n",
        "| Publisher    | Publisher of the game                                     |\n",
        "| NA_Sales     | Number of sales in North America (in millions)            |\n",
        "| EU_Sales     | Number of sales in Europe (in millions)                   |\n",
        "| JP_Sales     | Number of sales in Japan (in millions)                    |\n",
        "| Other_Sales  | Number of sales in other parts of the world (in millions) |\n",
        "| Global_Sales | Number of total sales (in millions)                       |"
      ],
      "metadata": {
        "id": "UA1MxT30BH3y"
      }
    },
    {
      "cell_type": "markdown",
      "source": [
        "# Questões"
      ],
      "metadata": {
        "id": "3Da460witUFZ"
      }
    },
    {
      "cell_type": "markdown",
      "source": [
        "## Questão 1\n",
        "\n",
        "Leia os dados com Spark, certificando-se que\n",
        "\n",
        "1. A tabela tenha duas partições e\n",
        "\n",
        "2. As colunas da tabela tenham este respectivo schema:\n",
        "\n",
        "|Column|Data type|\n",
        "|---|---|\n",
        "|Rank|integer|\n",
        "|Name|string|\n",
        "|Platform|string|\n",
        "|Year|integer|\n",
        "|Genre|string|\n",
        "|Publisher|string|\n",
        "|NA_Sales|double|\n",
        "|EU_Sales|double|\n",
        "|JP_Sales|double|\n",
        "|Other_Sales|double|\n",
        "|Global_Sales|double|"
      ],
      "metadata": {
        "id": "MS3XUkPRrOzh"
      }
    },
    {
      "cell_type": "code",
      "source": [
        "df = spark.read.csv('vgsales.csv', header=True, inferSchema=True)"
      ],
      "metadata": {
        "id": "kPSMhD8iyBkn"
      },
      "execution_count": 8,
      "outputs": []
    },
    {
      "cell_type": "code",
      "source": [
        "df = df.withColumn('Year', F.col('Year').cast('int'))"
      ],
      "metadata": {
        "id": "Ea_3V2u50g1x"
      },
      "execution_count": 18,
      "outputs": []
    },
    {
      "cell_type": "code",
      "source": [
        "df.rdd.getNumPartitions()"
      ],
      "metadata": {
        "id": "ijg3-iMHr-_C",
        "colab": {
          "base_uri": "https://localhost:8080/"
        },
        "outputId": "796d1ad5-1e76-4bd9-facb-542a2d4ac535"
      },
      "execution_count": 19,
      "outputs": [
        {
          "output_type": "execute_result",
          "data": {
            "text/plain": [
              "2"
            ]
          },
          "metadata": {},
          "execution_count": 19
        }
      ]
    },
    {
      "cell_type": "code",
      "source": [
        "df = df.repartition(2)\n",
        "df.rdd.getNumPartitions()"
      ],
      "metadata": {
        "colab": {
          "base_uri": "https://localhost:8080/"
        },
        "id": "AvPGhGhtyWM1",
        "outputId": "61a95158-7e51-4681-b629-52aa0ca844c0"
      },
      "execution_count": 20,
      "outputs": [
        {
          "output_type": "execute_result",
          "data": {
            "text/plain": [
              "2"
            ]
          },
          "metadata": {},
          "execution_count": 20
        }
      ]
    },
    {
      "cell_type": "code",
      "source": [
        "df.printSchema()"
      ],
      "metadata": {
        "colab": {
          "base_uri": "https://localhost:8080/"
        },
        "id": "LWQG9Q4Cyold",
        "outputId": "8b9880f1-e95f-459b-e312-475a083bb481"
      },
      "execution_count": 21,
      "outputs": [
        {
          "output_type": "stream",
          "name": "stdout",
          "text": [
            "root\n",
            " |-- Rank: integer (nullable = true)\n",
            " |-- Name: string (nullable = true)\n",
            " |-- Platform: string (nullable = true)\n",
            " |-- Year: integer (nullable = true)\n",
            " |-- Genre: string (nullable = true)\n",
            " |-- Publisher: string (nullable = true)\n",
            " |-- NA_Sales: double (nullable = true)\n",
            " |-- EU_Sales: double (nullable = true)\n",
            " |-- JP_Sales: double (nullable = true)\n",
            " |-- Other_Sales: double (nullable = true)\n",
            " |-- Global_Sales: double (nullable = true)\n",
            "\n"
          ]
        }
      ]
    },
    {
      "cell_type": "code",
      "source": [
        "df.pandas_api().head() "
      ],
      "metadata": {
        "colab": {
          "base_uri": "https://localhost:8080/",
          "height": 206
        },
        "id": "Tq3nYaZc0UEZ",
        "outputId": "a7ebba29-5fe6-4b20-a69d-3a44623cf33e"
      },
      "execution_count": 22,
      "outputs": [
        {
          "output_type": "execute_result",
          "data": {
            "text/plain": [
              "   Rank                      Name Platform  Year    Genre                    Publisher  NA_Sales  EU_Sales  JP_Sales  Other_Sales  Global_Sales\n",
              "0  2343                   NFL 2K2      PS2  2001   Sports                         Sega      0.44      0.34       0.0         0.11          0.89\n",
              "1  3886  Prince of Persia Trilogy      PS3  2010   Action                      Ubisoft      0.17      0.25       0.0         0.09          0.51\n",
              "2  8880    Hot Wheels: Beat That!      Wii  2007   Racing                   Activision      0.13      0.00       0.0         0.01          0.15\n",
              "3  1190             Twisted Metal       PS  1995   Action  Sony Computer Entertainment      1.32      0.19       0.0         0.05          1.56\n",
              "4  9936          Turok: Evolution      GBA  2002  Shooter        Acclaim Entertainment      0.08      0.03       0.0         0.00          0.12"
            ],
            "text/html": [
              "<div>\n",
              "<style scoped>\n",
              "    .dataframe tbody tr th:only-of-type {\n",
              "        vertical-align: middle;\n",
              "    }\n",
              "\n",
              "    .dataframe tbody tr th {\n",
              "        vertical-align: top;\n",
              "    }\n",
              "\n",
              "    .dataframe thead th {\n",
              "        text-align: right;\n",
              "    }\n",
              "</style>\n",
              "<table border=\"1\" class=\"dataframe\">\n",
              "  <thead>\n",
              "    <tr style=\"text-align: right;\">\n",
              "      <th></th>\n",
              "      <th>Rank</th>\n",
              "      <th>Name</th>\n",
              "      <th>Platform</th>\n",
              "      <th>Year</th>\n",
              "      <th>Genre</th>\n",
              "      <th>Publisher</th>\n",
              "      <th>NA_Sales</th>\n",
              "      <th>EU_Sales</th>\n",
              "      <th>JP_Sales</th>\n",
              "      <th>Other_Sales</th>\n",
              "      <th>Global_Sales</th>\n",
              "    </tr>\n",
              "  </thead>\n",
              "  <tbody>\n",
              "    <tr>\n",
              "      <th>0</th>\n",
              "      <td>2343</td>\n",
              "      <td>NFL 2K2</td>\n",
              "      <td>PS2</td>\n",
              "      <td>2001</td>\n",
              "      <td>Sports</td>\n",
              "      <td>Sega</td>\n",
              "      <td>0.44</td>\n",
              "      <td>0.34</td>\n",
              "      <td>0.0</td>\n",
              "      <td>0.11</td>\n",
              "      <td>0.89</td>\n",
              "    </tr>\n",
              "    <tr>\n",
              "      <th>1</th>\n",
              "      <td>3886</td>\n",
              "      <td>Prince of Persia Trilogy</td>\n",
              "      <td>PS3</td>\n",
              "      <td>2010</td>\n",
              "      <td>Action</td>\n",
              "      <td>Ubisoft</td>\n",
              "      <td>0.17</td>\n",
              "      <td>0.25</td>\n",
              "      <td>0.0</td>\n",
              "      <td>0.09</td>\n",
              "      <td>0.51</td>\n",
              "    </tr>\n",
              "    <tr>\n",
              "      <th>2</th>\n",
              "      <td>8880</td>\n",
              "      <td>Hot Wheels: Beat That!</td>\n",
              "      <td>Wii</td>\n",
              "      <td>2007</td>\n",
              "      <td>Racing</td>\n",
              "      <td>Activision</td>\n",
              "      <td>0.13</td>\n",
              "      <td>0.00</td>\n",
              "      <td>0.0</td>\n",
              "      <td>0.01</td>\n",
              "      <td>0.15</td>\n",
              "    </tr>\n",
              "    <tr>\n",
              "      <th>3</th>\n",
              "      <td>1190</td>\n",
              "      <td>Twisted Metal</td>\n",
              "      <td>PS</td>\n",
              "      <td>1995</td>\n",
              "      <td>Action</td>\n",
              "      <td>Sony Computer Entertainment</td>\n",
              "      <td>1.32</td>\n",
              "      <td>0.19</td>\n",
              "      <td>0.0</td>\n",
              "      <td>0.05</td>\n",
              "      <td>1.56</td>\n",
              "    </tr>\n",
              "    <tr>\n",
              "      <th>4</th>\n",
              "      <td>9936</td>\n",
              "      <td>Turok: Evolution</td>\n",
              "      <td>GBA</td>\n",
              "      <td>2002</td>\n",
              "      <td>Shooter</td>\n",
              "      <td>Acclaim Entertainment</td>\n",
              "      <td>0.08</td>\n",
              "      <td>0.03</td>\n",
              "      <td>0.0</td>\n",
              "      <td>0.00</td>\n",
              "      <td>0.12</td>\n",
              "    </tr>\n",
              "  </tbody>\n",
              "</table>\n",
              "</div>"
            ]
          },
          "metadata": {},
          "execution_count": 22
        }
      ]
    },
    {
      "cell_type": "markdown",
      "source": [
        "## Questão 2\n",
        "\n",
        "Construa uma tabela com:\n",
        "- contagem das observações\n",
        "- média\n",
        "- desvio padrão\n",
        "- valor mínimo\n",
        "- valor máximo\n",
        "\n",
        "para todas as coluna de vendas (que possuem \"Sales\" no nome).\n",
        "\n",
        "**Dica:** uma **única função** consegue calcular todos estes valores."
      ],
      "metadata": {
        "id": "GJe0H1AQsL15"
      }
    },
    {
      "cell_type": "code",
      "source": [
        "lista_sales = [coluna for coluna in df.columns if 'Sales' in coluna]\n",
        "df.select(*lista_sales).describe().show()"
      ],
      "metadata": {
        "id": "CLGOCHisRt_m",
        "colab": {
          "base_uri": "https://localhost:8080/"
        },
        "outputId": "0f7b7163-7723-4e43-c82c-5016c00030e1"
      },
      "execution_count": 29,
      "outputs": [
        {
          "output_type": "stream",
          "name": "stdout",
          "text": [
            "+-------+------------------+-------------------+-------------------+--------------------+------------------+\n",
            "|summary|          NA_Sales|           EU_Sales|           JP_Sales|         Other_Sales|      Global_Sales|\n",
            "+-------+------------------+-------------------+-------------------+--------------------+------------------+\n",
            "|  count|             16598|              16598|              16598|               16598|             16598|\n",
            "|   mean|0.2646674298108155|0.14665200626581024|0.07778166044101428|0.048063019640918934|0.5374406555006714|\n",
            "| stddev|0.8166830292988791| 0.5053512312869121| 0.3092906480822032| 0.18858840291271461|1.5550279355699124|\n",
            "|    min|               0.0|                0.0|                0.0|                 0.0|              0.01|\n",
            "|    max|             41.49|              29.02|              10.22|               10.57|             82.74|\n",
            "+-------+------------------+-------------------+-------------------+--------------------+------------------+\n",
            "\n"
          ]
        }
      ]
    },
    {
      "cell_type": "markdown",
      "source": [
        "## Questão 3\n",
        "\n",
        "Para cada variável categórica do tipo string, calcule quantas categorias distintas estão presentes."
      ],
      "metadata": {
        "id": "qw6Yw6OELil0"
      }
    },
    {
      "cell_type": "code",
      "source": [
        "lista_dados = [field['name'] for field in df.schema.jsonValue()['fields'] if field['type'] == 'string']\n",
        "\n",
        "df.select(*[F.count_distinct(col) for col in lista_dados]).show()"
      ],
      "metadata": {
        "id": "MXxCgIl7Rvze",
        "colab": {
          "base_uri": "https://localhost:8080/"
        },
        "outputId": "1a63c764-568e-403f-ce06-2651846cfeaf"
      },
      "execution_count": 30,
      "outputs": [
        {
          "output_type": "stream",
          "name": "stdout",
          "text": [
            "+--------------------+------------------------+---------------------+-------------------------+\n",
            "|count(DISTINCT Name)|count(DISTINCT Platform)|count(DISTINCT Genre)|count(DISTINCT Publisher)|\n",
            "+--------------------+------------------------+---------------------+-------------------------+\n",
            "|               11493|                      31|                   12|                      579|\n",
            "+--------------------+------------------------+---------------------+-------------------------+\n",
            "\n"
          ]
        }
      ]
    },
    {
      "cell_type": "markdown",
      "source": [
        "## Questão 4\n",
        "\n",
        "Qual plataforma vendeu mais, mundialmente, considerando todo o período histórico diponível dos dados?  \n",
        "Mostre as top 10 plataformas em vendas."
      ],
      "metadata": {
        "id": "qlb1nF-0UTby"
      }
    },
    {
      "cell_type": "code",
      "source": [
        "(\n",
        "  df\n",
        " .groupby('Platform')\n",
        " .agg(\n",
        "    F.sum('Global_Sales').alias('Global_Sales_sum')\n",
        " )\n",
        " .orderBy(F.desc('Global_Sales_sum'))\n",
        ".limit(10)\n",
        " .show()\n",
        ")"
      ],
      "metadata": {
        "id": "viv9CMtVRw1I",
        "colab": {
          "base_uri": "https://localhost:8080/"
        },
        "outputId": "ff90926f-c510-43df-d7bd-68907f950fee"
      },
      "execution_count": 36,
      "outputs": [
        {
          "output_type": "stream",
          "name": "stdout",
          "text": [
            "+--------+------------------+\n",
            "|Platform|  Global_Sales_sum|\n",
            "+--------+------------------+\n",
            "|     PS2|1255.6399999999956|\n",
            "|    X360| 979.9600000000003|\n",
            "|     PS3| 957.8400000000025|\n",
            "|     Wii| 926.7099999999973|\n",
            "|      DS| 822.4899999999982|\n",
            "|      PS| 730.6599999999992|\n",
            "|     GBA|318.49999999999943|\n",
            "|     PSP| 296.2799999999996|\n",
            "|     PS4| 278.0999999999999|\n",
            "|      PC|258.82000000000085|\n",
            "+--------+------------------+\n",
            "\n"
          ]
        }
      ]
    },
    {
      "cell_type": "markdown",
      "source": [
        "## Questão 5\n",
        "\n",
        "Faça uma tabela com os jogos que aparecem em múltiplas plataformas, ordene de forma que os jogos com mais plataformas apareçam primeiro e responda:\n",
        "- Qual jogo aparece em mais plataformas? Em quantas plataformas?"
      ],
      "metadata": {
        "id": "ktxA1kpuT1ak"
      }
    },
    {
      "cell_type": "code",
      "source": [
        "(\n",
        "  df\n",
        " .groupby('Name')\n",
        " .agg(\n",
        "    F.countDistinct('Platform').alias('n_platform')\n",
        " )\n",
        " .where('n_platform>1')\n",
        " .orderBy(F.desc('n_platform'))\n",
        " .limit(1)\n",
        " .show()\n",
        ")"
      ],
      "metadata": {
        "id": "cf7mFwYORx7K",
        "colab": {
          "base_uri": "https://localhost:8080/"
        },
        "outputId": "72916451-74c9-49a7-f768-0fd85a5360ec"
      },
      "execution_count": 48,
      "outputs": [
        {
          "output_type": "stream",
          "name": "stdout",
          "text": [
            "+--------------------+----------+\n",
            "|                Name|n_platform|\n",
            "+--------------------+----------+\n",
            "|Need for Speed: M...|        10|\n",
            "+--------------------+----------+\n",
            "\n"
          ]
        }
      ]
    },
    {
      "cell_type": "markdown",
      "source": [
        "**Resposta:** Need for Speed: Most Wanted. Aparece em 10 plataformas."
      ],
      "metadata": {
        "id": "0jxfWN5sVPy0"
      }
    },
    {
      "cell_type": "markdown",
      "source": [
        "## Questão 6\n",
        "\n",
        "Utilize a API do Pandas no Spark para calcular a soma das vendas globais para cada ano e gênero de jogo. Faça então um gráfico de linhas com os anos no eixo `x`, as vendas no eixo `y`, de forma que cada linha corresponda a um gênero de jogo.\n",
        "\n",
        "**Dica:** após o cálculo, passar os dados para Pandas antes da plotagem, ou plotar diretamente aproveitando os métodos da classe `pyspark.pandas.DataFrame`.\n",
        "\n",
        "Analise o gráfico e responda:\n",
        "- Entre 1980 e 1990, quais gêneros mais venderam?\n",
        "- Entre 2000 e 2015, quais gêneros mais venderam?"
      ],
      "metadata": {
        "id": "KTKsAT2KUVgZ"
      }
    },
    {
      "cell_type": "code",
      "source": [
        "(\n",
        "  df\n",
        "  .pandas_api()\n",
        " .groupby(['Genre', 'Year'])[['Global_Sales']].sum() \n",
        " .sort_index()\n",
        " .reset_index()\n",
        " .plot.line(x='Year', y='Global_Sales', color='Genre')\n",
        ")\n"
      ],
      "metadata": {
        "id": "zO39_am_Ry3W",
        "colab": {
          "base_uri": "https://localhost:8080/",
          "height": 542
        },
        "outputId": "bdeef54a-5078-44ee-d78d-d06c1867f0c4"
      },
      "execution_count": 66,
      "outputs": [
        {
          "output_type": "display_data",
          "data": {
            "text/html": [
              "<html>\n",
              "<head><meta charset=\"utf-8\" /></head>\n",
              "<body>\n",
              "    <div>            <script src=\"https://cdnjs.cloudflare.com/ajax/libs/mathjax/2.7.5/MathJax.js?config=TeX-AMS-MML_SVG\"></script><script type=\"text/javascript\">if (window.MathJax) {MathJax.Hub.Config({SVG: {font: \"STIX-Web\"}});}</script>                <script type=\"text/javascript\">window.PlotlyConfig = {MathJaxConfig: 'local'};</script>\n",
              "        <script src=\"https://cdn.plot.ly/plotly-2.8.3.min.js\"></script>                <div id=\"4cab1779-fe17-45bd-91f1-06503201e3d6\" class=\"plotly-graph-div\" style=\"height:525px; width:100%;\"></div>            <script type=\"text/javascript\">                                    window.PLOTLYENV=window.PLOTLYENV || {};                                    if (document.getElementById(\"4cab1779-fe17-45bd-91f1-06503201e3d6\")) {                    Plotly.newPlot(                        \"4cab1779-fe17-45bd-91f1-06503201e3d6\",                        [{\"hovertemplate\":\"Genre=Action<br>Year=%{x}<br>Global_Sales=%{y}<extra></extra>\",\"legendgroup\":\"Action\",\"line\":{\"color\":\"#636efa\",\"dash\":\"solid\"},\"marker\":{\"symbol\":\"circle\"},\"mode\":\"lines\",\"name\":\"Action\",\"orientation\":\"v\",\"showlegend\":true,\"x\":[1980,1981,1982,1983,1984,1985,1986,1987,1988,1989,1990,1991,1992,1993,1994,1995,1996,1997,1998,1999,2000,2001,2002,2003,2004,2005,2006,2007,2008,2009,2010,2011,2012,2013,2014,2015,2016,2017],\"xaxis\":\"x\",\"y\":[0.34,14.84,6.52,2.8600000000000003,1.85,3.52,13.74,1.12,1.75,4.64,6.390000000000001,6.76,3.83,1.81,1.55,3.5700000000000003,20.58,27.58,39.44,27.78,34.03999999999999,59.39000000000001,86.77000000000001,67.92999999999999,76.26,85.68999999999998,66.58000000000003,106.50000000000001,136.39000000000001,139.36000000000007,117.63999999999996,118.96000000000004,122.04000000000005,125.21999999999998,99.02000000000001,70.70000000000003,19.909999999999997,0.01],\"yaxis\":\"y\",\"type\":\"scatter\"},{\"hovertemplate\":\"Genre=Adventure<br>Year=%{x}<br>Global_Sales=%{y}<extra></extra>\",\"legendgroup\":\"Adventure\",\"line\":{\"color\":\"#EF553B\",\"dash\":\"solid\"},\"marker\":{\"symbol\":\"circle\"},\"mode\":\"lines\",\"name\":\"Adventure\",\"orientation\":\"v\",\"showlegend\":true,\"x\":[1983,1987,1991,1992,1993,1994,1995,1996,1997,1998,1999,2000,2001,2002,2003,2004,2005,2006,2007,2008,2009,2010,2011,2012,2013,2014,2015,2016],\"xaxis\":\"x\",\"y\":[0.4,4.38,2.24,12.239999999999998,0.07,3.74,0.72,4.19,4.960000000000001,9.05,7.6,2.98,9.120000000000001,11.05,2.14,8.7,8.53,11.469999999999999,24.47,25.01999999999999,20.679999999999993,16.569999999999993,15.979999999999995,5.99,6.6099999999999985,6.059999999999997,8.029999999999998,1.8100000000000003],\"yaxis\":\"y\",\"type\":\"scatter\"},{\"hovertemplate\":\"Genre=Fighting<br>Year=%{x}<br>Global_Sales=%{y}<extra></extra>\",\"legendgroup\":\"Fighting\",\"line\":{\"color\":\"#00cc96\",\"dash\":\"solid\"},\"marker\":{\"symbol\":\"circle\"},\"mode\":\"lines\",\"name\":\"Fighting\",\"orientation\":\"v\",\"showlegend\":true,\"x\":[1980,1985,1987,1991,1992,1993,1994,1995,1996,1997,1998,1999,2000,2001,2002,2003,2004,2005,2006,2007,2008,2009,2010,2011,2012,2013,2014,2015,2016],\"xaxis\":\"x\",\"y\":[0.77,1.05,5.42,0.39,15.249999999999998,8.75,8.47,14.85,18.060000000000002,11.76,31.659999999999997,14.259999999999998,20.22,18.12,25.02,23.73,16.779999999999998,19.72,22.55,17.61,35.379999999999995,32.15,14.89,22.680000000000003,9.509999999999998,7.210000000000002,16.15,7.78,3.8600000000000003],\"yaxis\":\"y\",\"type\":\"scatter\"},{\"hovertemplate\":\"Genre=Misc<br>Year=%{x}<br>Global_Sales=%{y}<extra></extra>\",\"legendgroup\":\"Misc\",\"line\":{\"color\":\"#ab63fa\",\"dash\":\"solid\"},\"marker\":{\"symbol\":\"circle\"},\"mode\":\"lines\",\"name\":\"Misc\",\"orientation\":\"v\",\"showlegend\":true,\"x\":[1980,1982,1983,1984,1989,1991,1992,1993,1994,1995,1996,1997,1998,1999,2000,2001,2002,2003,2004,2005,2006,2007,2008,2009,2010,2011,2012,2013,2014,2015,2016],\"xaxis\":\"x\",\"y\":[2.71,0.87,2.14,1.45,1.28,0.08,4.9399999999999995,0.3,2.8599999999999994,6.4,10.68,5.6899999999999995,11.94,20.650000000000002,15.54,16.4,15.67,23.820000000000004,31.319999999999986,61.23999999999999,67.35000000000001,92.27000000000001,87.03000000000002,76.94,96.86000000000004,56.079999999999984,22.92,25.65,23.679999999999996,11.690000000000001,1.17],\"yaxis\":\"y\",\"type\":\"scatter\"},{\"hovertemplate\":\"Genre=Platform<br>Year=%{x}<br>Global_Sales=%{y}<extra></extra>\",\"legendgroup\":\"Platform\",\"line\":{\"color\":\"#FFA15A\",\"dash\":\"solid\"},\"marker\":{\"symbol\":\"circle\"},\"mode\":\"lines\",\"name\":\"Platform\",\"orientation\":\"v\",\"showlegend\":true,\"x\":[1981,1982,1983,1984,1985,1986,1987,1988,1989,1990,1991,1992,1993,1994,1995,1996,1997,1998,1999,2000,2001,2002,2003,2004,2005,2006,2007,2008,2009,2010,2011,2012,2013,2014,2015,2016],\"xaxis\":\"x\",\"y\":[6.93,5.03,6.93,0.69,43.17,9.39,1.7400000000000002,27.73,20.66,22.97,7.64,13.420000000000002,18.67,28.740000000000002,16.69,28.23,21.85,29.879999999999995,20.82,16.060000000000002,39.28,45.97000000000001,42.89,47.339999999999996,23.560000000000002,49.80000000000001,35.589999999999996,35.7,41.089999999999996,31.900000000000002,28.109999999999996,18.55,25.12,8.89,6.050000000000001,2.0700000000000003],\"yaxis\":\"y\",\"type\":\"scatter\"},{\"hovertemplate\":\"Genre=Puzzle<br>Year=%{x}<br>Global_Sales=%{y}<extra></extra>\",\"legendgroup\":\"Puzzle\",\"line\":{\"color\":\"#19d3f3\",\"dash\":\"solid\"},\"marker\":{\"symbol\":\"circle\"},\"mode\":\"lines\",\"name\":\"Puzzle\",\"orientation\":\"v\",\"showlegend\":true,\"x\":[1981,1982,1983,1984,1985,1988,1989,1990,1991,1992,1993,1994,1995,1996,1997,1998,1999,2000,2001,2002,2003,2004,2005,2006,2007,2008,2009,2010,2011,2012,2013,2014,2015],\"xaxis\":\"x\",\"y\":[2.2399999999999998,10.03,0.78,3.14,3.2100000000000004,5.58,37.75,6.0,3.2399999999999998,4.84,3.17,1.53,2.71,3.9099999999999997,5.889999999999999,6.34,1.3599999999999999,3.82,8.0,5.339999999999999,2.42,8.43,20.449999999999996,10.899999999999999,23.999999999999993,15.589999999999996,20.309999999999995,11.18,5.109999999999999,1.7600000000000002,0.99,1.5000000000000002,0.7000000000000001],\"yaxis\":\"y\",\"type\":\"scatter\"},{\"hovertemplate\":\"Genre=Racing<br>Year=%{x}<br>Global_Sales=%{y}<extra></extra>\",\"legendgroup\":\"Racing\",\"line\":{\"color\":\"#FF6692\",\"dash\":\"solid\"},\"marker\":{\"symbol\":\"circle\"},\"mode\":\"lines\",\"name\":\"Racing\",\"orientation\":\"v\",\"showlegend\":true,\"x\":[1981,1982,1984,1986,1988,1990,1991,1992,1993,1994,1995,1996,1997,1998,1999,2000,2001,2002,2003,2004,2005,2006,2007,2008,2009,2010,2011,2012,2013,2014,2015,2016],\"xaxis\":\"x\",\"y\":[0.48,1.5699999999999998,5.949999999999999,1.96,2.14,6.26,1.14,9.04,0.36,2.1900000000000004,6.09,28.239999999999995,31.909999999999993,27.900000000000002,37.269999999999996,19.990000000000002,55.81,30.199999999999996,52.19,47.86,56.42000000000001,34.09,39.17,70.66000000000001,34.19,34.93,35.01,14.459999999999997,13.040000000000001,16.689999999999998,7.920000000000001,1.6400000000000001],\"yaxis\":\"y\",\"type\":\"scatter\"},{\"hovertemplate\":\"Genre=Role-Playing<br>Year=%{x}<br>Global_Sales=%{y}<extra></extra>\",\"legendgroup\":\"Role-Playing\",\"line\":{\"color\":\"#B6E880\",\"dash\":\"solid\"},\"marker\":{\"symbol\":\"circle\"},\"mode\":\"lines\",\"name\":\"Role-Playing\",\"orientation\":\"v\",\"showlegend\":true,\"x\":[1986,1987,1988,1989,1990,1991,1992,1993,1994,1995,1996,1997,1998,1999,2000,2001,2002,2003,2004,2005,2006,2007,2008,2009,2010,2011,2012,2013,2014,2015,2016,2017],\"xaxis\":\"x\",\"y\":[2.52,4.65,5.88,2.2,4.52,3.25,6.86,5.590000000000001,7.110000000000001,14.260000000000002,43.96000000000001,21.790000000000003,28.090000000000003,49.09,29.029999999999998,22.059999999999995,45.13,30.279999999999998,53.95,28.549999999999997,57.729999999999976,43.89,59.83,47.900000000000006,70.52000000000001,53.370000000000005,47.809999999999995,44.919999999999995,45.86000000000001,36.44,6.76,0.04],\"yaxis\":\"y\",\"type\":\"scatter\"},{\"hovertemplate\":\"Genre=Shooter<br>Year=%{x}<br>Global_Sales=%{y}<extra></extra>\",\"legendgroup\":\"Shooter\",\"line\":{\"color\":\"#FF97FF\",\"dash\":\"solid\"},\"marker\":{\"symbol\":\"circle\"},\"mode\":\"lines\",\"name\":\"Shooter\",\"orientation\":\"v\",\"showlegend\":true,\"x\":[1980,1981,1982,1983,1984,1985,1986,1987,1988,1989,1991,1992,1993,1994,1995,1996,1997,1998,1999,2000,2001,2002,2003,2004,2005,2006,2007,2008,2009,2010,2011,2012,2013,2014,2015,2016],\"xaxis\":\"x\",\"y\":[7.069999999999999,10.04,3.79,0.48,31.099999999999998,1.0,3.8900000000000006,0.71,0.51,1.2,2.0,0.29000000000000004,3.08,8.299999999999999,4.15,6.91,22.169999999999998,9.799999999999999,12.25,6.8100000000000005,24.770000000000003,48.57999999999999,27.139999999999997,46.94999999999999,41.599999999999994,38.36999999999999,71.04000000000002,59.50999999999999,69.89000000000001,77.41000000000001,99.35999999999999,72.85999999999999,62.80000000000001,66.0,66.15,18.22],\"yaxis\":\"y\",\"type\":\"scatter\"},{\"hovertemplate\":\"Genre=Simulation<br>Year=%{x}<br>Global_Sales=%{y}<extra></extra>\",\"legendgroup\":\"Simulation\",\"line\":{\"color\":\"#FECB52\",\"dash\":\"solid\"},\"marker\":{\"symbol\":\"circle\"},\"mode\":\"lines\",\"name\":\"Simulation\",\"orientation\":\"v\",\"showlegend\":true,\"x\":[1981,1985,1988,1990,1991,1992,1993,1994,1995,1996,1997,1998,1999,2000,2001,2002,2003,2004,2005,2006,2007,2008,2009,2010,2011,2012,2013,2014,2015,2016,2020],\"xaxis\":\"x\",\"y\":[0.45,0.03,0.03,1.14,2.14,2.14,0.19,2.73,4.18,11.330000000000002,9.65,7.109999999999999,11.44,3.38,19.54,10.809999999999999,21.21,10.850000000000001,49.27000000000001,21.769999999999996,48.96999999999999,46.76,33.709999999999994,22.14999999999999,15.28,13.379999999999999,8.67,5.550000000000001,5.62,0.39,0.29],\"yaxis\":\"y\",\"type\":\"scatter\"},{\"hovertemplate\":\"Genre=Sports<br>Year=%{x}<br>Global_Sales=%{y}<extra></extra>\",\"legendgroup\":\"Sports\",\"line\":{\"color\":\"#636efa\",\"dash\":\"solid\"},\"marker\":{\"symbol\":\"circle\"},\"mode\":\"lines\",\"name\":\"Sports\",\"orientation\":\"v\",\"showlegend\":true,\"x\":[1980,1981,1982,1983,1984,1985,1986,1987,1988,1989,1990,1991,1992,1993,1994,1995,1996,1997,1998,1999,2000,2001,2002,2003,2004,2005,2006,2007,2008,2009,2010,2011,2012,2013,2014,2015,2016],\"xaxis\":\"x\",\"y\":[0.49,0.79,1.05,3.2,6.18,1.96,5.57,3.7199999999999998,3.5999999999999996,5.720000000000001,2.11,2.41,2.95,3.18,8.389999999999999,7.9799999999999995,17.45,30.020000000000003,41.78999999999999,30.290000000000003,41.19,51.43000000000001,65.41999999999999,56.11,63.67999999999999,59.54,136.16000000000003,98.2,95.34,138.52000000000004,92.53,56.989999999999995,30.93,41.55,46.660000000000004,41.540000000000006,14.6],\"yaxis\":\"y\",\"type\":\"scatter\"},{\"hovertemplate\":\"Genre=Strategy<br>Year=%{x}<br>Global_Sales=%{y}<extra></extra>\",\"legendgroup\":\"Strategy\",\"line\":{\"color\":\"#EF553B\",\"dash\":\"solid\"},\"marker\":{\"symbol\":\"circle\"},\"mode\":\"lines\",\"name\":\"Strategy\",\"orientation\":\"v\",\"showlegend\":true,\"x\":[1991,1992,1993,1994,1995,1996,1997,1998,1999,2000,2001,2002,2003,2004,2005,2006,2007,2008,2009,2010,2011,2012,2013,2014,2015,2016],\"xaxis\":\"x\",\"y\":[0.94,0.36,0.81,3.56,6.510000000000001,5.61,7.710000000000001,13.469999999999999,18.459999999999997,8.5,7.549999999999999,5.56,7.99,7.1899999999999995,5.37,4.2700000000000005,9.419999999999998,11.69,12.559999999999995,13.869999999999997,9.059999999999999,3.3299999999999996,6.329999999999999,0.99,1.8200000000000003,0.5],\"yaxis\":\"y\",\"type\":\"scatter\"}],                        {\"template\":{\"data\":{\"bar\":[{\"error_x\":{\"color\":\"#2a3f5f\"},\"error_y\":{\"color\":\"#2a3f5f\"},\"marker\":{\"line\":{\"color\":\"#E5ECF6\",\"width\":0.5},\"pattern\":{\"fillmode\":\"overlay\",\"size\":10,\"solidity\":0.2}},\"type\":\"bar\"}],\"barpolar\":[{\"marker\":{\"line\":{\"color\":\"#E5ECF6\",\"width\":0.5},\"pattern\":{\"fillmode\":\"overlay\",\"size\":10,\"solidity\":0.2}},\"type\":\"barpolar\"}],\"carpet\":[{\"aaxis\":{\"endlinecolor\":\"#2a3f5f\",\"gridcolor\":\"white\",\"linecolor\":\"white\",\"minorgridcolor\":\"white\",\"startlinecolor\":\"#2a3f5f\"},\"baxis\":{\"endlinecolor\":\"#2a3f5f\",\"gridcolor\":\"white\",\"linecolor\":\"white\",\"minorgridcolor\":\"white\",\"startlinecolor\":\"#2a3f5f\"},\"type\":\"carpet\"}],\"choropleth\":[{\"colorbar\":{\"outlinewidth\":0,\"ticks\":\"\"},\"type\":\"choropleth\"}],\"contour\":[{\"colorbar\":{\"outlinewidth\":0,\"ticks\":\"\"},\"colorscale\":[[0.0,\"#0d0887\"],[0.1111111111111111,\"#46039f\"],[0.2222222222222222,\"#7201a8\"],[0.3333333333333333,\"#9c179e\"],[0.4444444444444444,\"#bd3786\"],[0.5555555555555556,\"#d8576b\"],[0.6666666666666666,\"#ed7953\"],[0.7777777777777778,\"#fb9f3a\"],[0.8888888888888888,\"#fdca26\"],[1.0,\"#f0f921\"]],\"type\":\"contour\"}],\"contourcarpet\":[{\"colorbar\":{\"outlinewidth\":0,\"ticks\":\"\"},\"type\":\"contourcarpet\"}],\"heatmap\":[{\"colorbar\":{\"outlinewidth\":0,\"ticks\":\"\"},\"colorscale\":[[0.0,\"#0d0887\"],[0.1111111111111111,\"#46039f\"],[0.2222222222222222,\"#7201a8\"],[0.3333333333333333,\"#9c179e\"],[0.4444444444444444,\"#bd3786\"],[0.5555555555555556,\"#d8576b\"],[0.6666666666666666,\"#ed7953\"],[0.7777777777777778,\"#fb9f3a\"],[0.8888888888888888,\"#fdca26\"],[1.0,\"#f0f921\"]],\"type\":\"heatmap\"}],\"heatmapgl\":[{\"colorbar\":{\"outlinewidth\":0,\"ticks\":\"\"},\"colorscale\":[[0.0,\"#0d0887\"],[0.1111111111111111,\"#46039f\"],[0.2222222222222222,\"#7201a8\"],[0.3333333333333333,\"#9c179e\"],[0.4444444444444444,\"#bd3786\"],[0.5555555555555556,\"#d8576b\"],[0.6666666666666666,\"#ed7953\"],[0.7777777777777778,\"#fb9f3a\"],[0.8888888888888888,\"#fdca26\"],[1.0,\"#f0f921\"]],\"type\":\"heatmapgl\"}],\"histogram\":[{\"marker\":{\"pattern\":{\"fillmode\":\"overlay\",\"size\":10,\"solidity\":0.2}},\"type\":\"histogram\"}],\"histogram2d\":[{\"colorbar\":{\"outlinewidth\":0,\"ticks\":\"\"},\"colorscale\":[[0.0,\"#0d0887\"],[0.1111111111111111,\"#46039f\"],[0.2222222222222222,\"#7201a8\"],[0.3333333333333333,\"#9c179e\"],[0.4444444444444444,\"#bd3786\"],[0.5555555555555556,\"#d8576b\"],[0.6666666666666666,\"#ed7953\"],[0.7777777777777778,\"#fb9f3a\"],[0.8888888888888888,\"#fdca26\"],[1.0,\"#f0f921\"]],\"type\":\"histogram2d\"}],\"histogram2dcontour\":[{\"colorbar\":{\"outlinewidth\":0,\"ticks\":\"\"},\"colorscale\":[[0.0,\"#0d0887\"],[0.1111111111111111,\"#46039f\"],[0.2222222222222222,\"#7201a8\"],[0.3333333333333333,\"#9c179e\"],[0.4444444444444444,\"#bd3786\"],[0.5555555555555556,\"#d8576b\"],[0.6666666666666666,\"#ed7953\"],[0.7777777777777778,\"#fb9f3a\"],[0.8888888888888888,\"#fdca26\"],[1.0,\"#f0f921\"]],\"type\":\"histogram2dcontour\"}],\"mesh3d\":[{\"colorbar\":{\"outlinewidth\":0,\"ticks\":\"\"},\"type\":\"mesh3d\"}],\"parcoords\":[{\"line\":{\"colorbar\":{\"outlinewidth\":0,\"ticks\":\"\"}},\"type\":\"parcoords\"}],\"pie\":[{\"automargin\":true,\"type\":\"pie\"}],\"scatter\":[{\"marker\":{\"colorbar\":{\"outlinewidth\":0,\"ticks\":\"\"}},\"type\":\"scatter\"}],\"scatter3d\":[{\"line\":{\"colorbar\":{\"outlinewidth\":0,\"ticks\":\"\"}},\"marker\":{\"colorbar\":{\"outlinewidth\":0,\"ticks\":\"\"}},\"type\":\"scatter3d\"}],\"scattercarpet\":[{\"marker\":{\"colorbar\":{\"outlinewidth\":0,\"ticks\":\"\"}},\"type\":\"scattercarpet\"}],\"scattergeo\":[{\"marker\":{\"colorbar\":{\"outlinewidth\":0,\"ticks\":\"\"}},\"type\":\"scattergeo\"}],\"scattergl\":[{\"marker\":{\"colorbar\":{\"outlinewidth\":0,\"ticks\":\"\"}},\"type\":\"scattergl\"}],\"scattermapbox\":[{\"marker\":{\"colorbar\":{\"outlinewidth\":0,\"ticks\":\"\"}},\"type\":\"scattermapbox\"}],\"scatterpolar\":[{\"marker\":{\"colorbar\":{\"outlinewidth\":0,\"ticks\":\"\"}},\"type\":\"scatterpolar\"}],\"scatterpolargl\":[{\"marker\":{\"colorbar\":{\"outlinewidth\":0,\"ticks\":\"\"}},\"type\":\"scatterpolargl\"}],\"scatterternary\":[{\"marker\":{\"colorbar\":{\"outlinewidth\":0,\"ticks\":\"\"}},\"type\":\"scatterternary\"}],\"surface\":[{\"colorbar\":{\"outlinewidth\":0,\"ticks\":\"\"},\"colorscale\":[[0.0,\"#0d0887\"],[0.1111111111111111,\"#46039f\"],[0.2222222222222222,\"#7201a8\"],[0.3333333333333333,\"#9c179e\"],[0.4444444444444444,\"#bd3786\"],[0.5555555555555556,\"#d8576b\"],[0.6666666666666666,\"#ed7953\"],[0.7777777777777778,\"#fb9f3a\"],[0.8888888888888888,\"#fdca26\"],[1.0,\"#f0f921\"]],\"type\":\"surface\"}],\"table\":[{\"cells\":{\"fill\":{\"color\":\"#EBF0F8\"},\"line\":{\"color\":\"white\"}},\"header\":{\"fill\":{\"color\":\"#C8D4E3\"},\"line\":{\"color\":\"white\"}},\"type\":\"table\"}]},\"layout\":{\"annotationdefaults\":{\"arrowcolor\":\"#2a3f5f\",\"arrowhead\":0,\"arrowwidth\":1},\"autotypenumbers\":\"strict\",\"coloraxis\":{\"colorbar\":{\"outlinewidth\":0,\"ticks\":\"\"}},\"colorscale\":{\"diverging\":[[0,\"#8e0152\"],[0.1,\"#c51b7d\"],[0.2,\"#de77ae\"],[0.3,\"#f1b6da\"],[0.4,\"#fde0ef\"],[0.5,\"#f7f7f7\"],[0.6,\"#e6f5d0\"],[0.7,\"#b8e186\"],[0.8,\"#7fbc41\"],[0.9,\"#4d9221\"],[1,\"#276419\"]],\"sequential\":[[0.0,\"#0d0887\"],[0.1111111111111111,\"#46039f\"],[0.2222222222222222,\"#7201a8\"],[0.3333333333333333,\"#9c179e\"],[0.4444444444444444,\"#bd3786\"],[0.5555555555555556,\"#d8576b\"],[0.6666666666666666,\"#ed7953\"],[0.7777777777777778,\"#fb9f3a\"],[0.8888888888888888,\"#fdca26\"],[1.0,\"#f0f921\"]],\"sequentialminus\":[[0.0,\"#0d0887\"],[0.1111111111111111,\"#46039f\"],[0.2222222222222222,\"#7201a8\"],[0.3333333333333333,\"#9c179e\"],[0.4444444444444444,\"#bd3786\"],[0.5555555555555556,\"#d8576b\"],[0.6666666666666666,\"#ed7953\"],[0.7777777777777778,\"#fb9f3a\"],[0.8888888888888888,\"#fdca26\"],[1.0,\"#f0f921\"]]},\"colorway\":[\"#636efa\",\"#EF553B\",\"#00cc96\",\"#ab63fa\",\"#FFA15A\",\"#19d3f3\",\"#FF6692\",\"#B6E880\",\"#FF97FF\",\"#FECB52\"],\"font\":{\"color\":\"#2a3f5f\"},\"geo\":{\"bgcolor\":\"white\",\"lakecolor\":\"white\",\"landcolor\":\"#E5ECF6\",\"showlakes\":true,\"showland\":true,\"subunitcolor\":\"white\"},\"hoverlabel\":{\"align\":\"left\"},\"hovermode\":\"closest\",\"mapbox\":{\"style\":\"light\"},\"paper_bgcolor\":\"white\",\"plot_bgcolor\":\"#E5ECF6\",\"polar\":{\"angularaxis\":{\"gridcolor\":\"white\",\"linecolor\":\"white\",\"ticks\":\"\"},\"bgcolor\":\"#E5ECF6\",\"radialaxis\":{\"gridcolor\":\"white\",\"linecolor\":\"white\",\"ticks\":\"\"}},\"scene\":{\"xaxis\":{\"backgroundcolor\":\"#E5ECF6\",\"gridcolor\":\"white\",\"gridwidth\":2,\"linecolor\":\"white\",\"showbackground\":true,\"ticks\":\"\",\"zerolinecolor\":\"white\"},\"yaxis\":{\"backgroundcolor\":\"#E5ECF6\",\"gridcolor\":\"white\",\"gridwidth\":2,\"linecolor\":\"white\",\"showbackground\":true,\"ticks\":\"\",\"zerolinecolor\":\"white\"},\"zaxis\":{\"backgroundcolor\":\"#E5ECF6\",\"gridcolor\":\"white\",\"gridwidth\":2,\"linecolor\":\"white\",\"showbackground\":true,\"ticks\":\"\",\"zerolinecolor\":\"white\"}},\"shapedefaults\":{\"line\":{\"color\":\"#2a3f5f\"}},\"ternary\":{\"aaxis\":{\"gridcolor\":\"white\",\"linecolor\":\"white\",\"ticks\":\"\"},\"baxis\":{\"gridcolor\":\"white\",\"linecolor\":\"white\",\"ticks\":\"\"},\"bgcolor\":\"#E5ECF6\",\"caxis\":{\"gridcolor\":\"white\",\"linecolor\":\"white\",\"ticks\":\"\"}},\"title\":{\"x\":0.05},\"xaxis\":{\"automargin\":true,\"gridcolor\":\"white\",\"linecolor\":\"white\",\"ticks\":\"\",\"title\":{\"standoff\":15},\"zerolinecolor\":\"white\",\"zerolinewidth\":2},\"yaxis\":{\"automargin\":true,\"gridcolor\":\"white\",\"linecolor\":\"white\",\"ticks\":\"\",\"title\":{\"standoff\":15},\"zerolinecolor\":\"white\",\"zerolinewidth\":2}}},\"xaxis\":{\"anchor\":\"y\",\"domain\":[0.0,1.0],\"title\":{\"text\":\"Year\"}},\"yaxis\":{\"anchor\":\"x\",\"domain\":[0.0,1.0],\"title\":{\"text\":\"Global_Sales\"}},\"legend\":{\"title\":{\"text\":\"Genre\"},\"tracegroupgap\":0},\"margin\":{\"t\":60}},                        {\"responsive\": true}                    ).then(function(){\n",
              "                            \n",
              "var gd = document.getElementById('4cab1779-fe17-45bd-91f1-06503201e3d6');\n",
              "var x = new MutationObserver(function (mutations, observer) {{\n",
              "        var display = window.getComputedStyle(gd).display;\n",
              "        if (!display || display === 'none') {{\n",
              "            console.log([gd, 'removed!']);\n",
              "            Plotly.purge(gd);\n",
              "            observer.disconnect();\n",
              "        }}\n",
              "}});\n",
              "\n",
              "// Listen for the removal of the full notebook cells\n",
              "var notebookContainer = gd.closest('#notebook-container');\n",
              "if (notebookContainer) {{\n",
              "    x.observe(notebookContainer, {childList: true});\n",
              "}}\n",
              "\n",
              "// Listen for the clearing of the current output cell\n",
              "var outputEl = gd.closest('.output');\n",
              "if (outputEl) {{\n",
              "    x.observe(outputEl, {childList: true});\n",
              "}}\n",
              "\n",
              "                        })                };                            </script>        </div>\n",
              "</body>\n",
              "</html>"
            ]
          },
          "metadata": {}
        }
      ]
    },
    {
      "cell_type": "markdown",
      "source": [
        "**Resposta:**\n",
        "- Entre 1980 e 1990 sobressaíram as vendas de plataforma, tiro (shooter) e puzzle.\n",
        "- Entre 2000 e 2015 teve vendas elevadas de jogos de ação e esporte."
      ],
      "metadata": {
        "id": "913L3sI7esdU"
      }
    },
    {
      "cell_type": "markdown",
      "source": [
        "## Questão 7\n",
        "\n",
        "Registre a tabela usando `createOrReplaceTempView` e faça uso da linguagem SQL criar uma tabela que:\n",
        "- Considere apenas os anos da década de 90 e \n",
        "- Agrupe por ano para responder quantos % cada região teve do total de vendas (vendas globais).\n",
        "\n",
        "Salve o resultado desta query em uma variável chamada `df_questao7`.\n",
        "\n",
        "Após isso, execute o seguinte comando `df_questao7.pandas_api().set_index('YEAR').style.background_gradient(cmap='Oranges')` e responda:\n",
        "- Qual/quais regiões tiveram, relativamente (comparado às vendas globais), mais vendas no fim da década de noventa do que no início?\n",
        "\n",
        "\n",
        "\n",
        "\n",
        "\n",
        "\n"
      ],
      "metadata": {
        "id": "Ia7efqBLDCup"
      }
    },
    {
      "cell_type": "code",
      "source": [
        "df.createOrReplaceTempView('anos_noventa')"
      ],
      "metadata": {
        "id": "rLZUoc2GRzx5"
      },
      "execution_count": 89,
      "outputs": []
    },
    {
      "cell_type": "code",
      "source": [
        "Query = \"\"\"\n",
        "SELECT\n",
        "  YEAR,\n",
        "  ROUND(SUM(NA_Sales)/SUM(Global_Sales)*100) as sum_na,\n",
        "  ROUND(SUM(EU_Sales)/SUM(Global_Sales)*100) as sum_eu,\n",
        "  ROUND(SUM(JP_Sales)/SUM(Global_Sales)*100) as sum_jp,\n",
        "  ROUND(SUM(Other_Sales)/SUM(Global_Sales)*100) as sum_ot\n",
        "FROM\n",
        "  anos_noventa\n",
        "WHERE YEAR BETWEEN 1990 and 2000\n",
        "GROUP BY\n",
        "  YEAR\n",
        "ORDER BY\n",
        "  YEAR\n",
        "\"\"\"\n",
        "\n",
        "df_questao7=spark.sql(Query)\n",
        "df_questao7.show()"
      ],
      "metadata": {
        "colab": {
          "base_uri": "https://localhost:8080/"
        },
        "id": "B8syRc8iLYx9",
        "outputId": "cb269a26-b3d0-4d81-ee67-3e89d755380d"
      },
      "execution_count": 92,
      "outputs": [
        {
          "output_type": "stream",
          "name": "stdout",
          "text": [
            "+----+------+------+------+------+\n",
            "|YEAR|sum_na|sum_eu|sum_jp|sum_ot|\n",
            "+----+------+------+------+------+\n",
            "|1990|  52.0|  15.0|  30.0|   3.0|\n",
            "|1991|  40.0|  12.0|  46.0|   2.0|\n",
            "|1992|  44.0|  15.0|  38.0|   2.0|\n",
            "|1993|  33.0|  10.0|  55.0|   2.0|\n",
            "|1994|  36.0|  19.0|  43.0|   3.0|\n",
            "|1995|  28.0|  17.0|  52.0|   3.0|\n",
            "|1996|  44.0|  24.0|  29.0|   4.0|\n",
            "|1997|  47.0|  24.0|  24.0|   5.0|\n",
            "|1998|  50.0|  26.0|  20.0|   4.0|\n",
            "|1999|  50.0|  25.0|  21.0|   4.0|\n",
            "|2000|  47.0|  26.0|  21.0|   6.0|\n",
            "+----+------+------+------+------+\n",
            "\n"
          ]
        }
      ]
    },
    {
      "cell_type": "code",
      "source": [
        "df_questao7.pandas_api().set_index('YEAR').style.background_gradient(cmap='Oranges')"
      ],
      "metadata": {
        "colab": {
          "base_uri": "https://localhost:8080/",
          "height": 426
        },
        "id": "sjKuuH3uRV3-",
        "outputId": "e84bf8f6-f44b-458f-fad7-cc5d4f4ad319"
      },
      "execution_count": 93,
      "outputs": [
        {
          "output_type": "execute_result",
          "data": {
            "text/plain": [
              "<pandas.io.formats.style.Styler at 0x7f69de1adf10>"
            ],
            "text/html": [
              "<style type=\"text/css\">\n",
              "#T_10817_row0_col0, #T_10817_row3_col2, #T_10817_row8_col1, #T_10817_row10_col1, #T_10817_row10_col3 {\n",
              "  background-color: #7f2704;\n",
              "  color: #f1f1f1;\n",
              "}\n",
              "#T_10817_row0_col1, #T_10817_row2_col1 {\n",
              "  background-color: #fdbf86;\n",
              "  color: #000000;\n",
              "}\n",
              "#T_10817_row0_col2 {\n",
              "  background-color: #fdc692;\n",
              "  color: #000000;\n",
              "}\n",
              "#T_10817_row0_col3, #T_10817_row4_col3, #T_10817_row5_col3 {\n",
              "  background-color: #fdd0a2;\n",
              "  color: #000000;\n",
              "}\n",
              "#T_10817_row1_col0, #T_10817_row6_col3, #T_10817_row8_col3, #T_10817_row9_col3 {\n",
              "  background-color: #fd8c3b;\n",
              "  color: #f1f1f1;\n",
              "}\n",
              "#T_10817_row1_col1 {\n",
              "  background-color: #fee6ce;\n",
              "  color: #000000;\n",
              "}\n",
              "#T_10817_row1_col2 {\n",
              "  background-color: #da4902;\n",
              "  color: #f1f1f1;\n",
              "}\n",
              "#T_10817_row1_col3, #T_10817_row2_col3, #T_10817_row3_col1, #T_10817_row3_col3, #T_10817_row5_col0, #T_10817_row8_col2 {\n",
              "  background-color: #fff5eb;\n",
              "  color: #000000;\n",
              "}\n",
              "#T_10817_row2_col0, #T_10817_row6_col0 {\n",
              "  background-color: #e95e0d;\n",
              "  color: #f1f1f1;\n",
              "}\n",
              "#T_10817_row2_col2 {\n",
              "  background-color: #fc8937;\n",
              "  color: #f1f1f1;\n",
              "}\n",
              "#T_10817_row3_col0 {\n",
              "  background-color: #fdd7b1;\n",
              "  color: #000000;\n",
              "}\n",
              "#T_10817_row4_col0 {\n",
              "  background-color: #fdb97d;\n",
              "  color: #000000;\n",
              "}\n",
              "#T_10817_row4_col1 {\n",
              "  background-color: #f77a27;\n",
              "  color: #f1f1f1;\n",
              "}\n",
              "#T_10817_row4_col2 {\n",
              "  background-color: #eb600e;\n",
              "  color: #f1f1f1;\n",
              "}\n",
              "#T_10817_row5_col1 {\n",
              "  background-color: #fd9d53;\n",
              "  color: #000000;\n",
              "}\n",
              "#T_10817_row5_col2, #T_10817_row8_col0, #T_10817_row9_col0 {\n",
              "  background-color: #993103;\n",
              "  color: #f1f1f1;\n",
              "}\n",
              "#T_10817_row6_col1, #T_10817_row7_col1 {\n",
              "  background-color: #a53603;\n",
              "  color: #f1f1f1;\n",
              "}\n",
              "#T_10817_row6_col2 {\n",
              "  background-color: #fdcfa0;\n",
              "  color: #000000;\n",
              "}\n",
              "#T_10817_row7_col0, #T_10817_row10_col0 {\n",
              "  background-color: #c84202;\n",
              "  color: #f1f1f1;\n",
              "}\n",
              "#T_10817_row7_col2 {\n",
              "  background-color: #fee7d1;\n",
              "  color: #000000;\n",
              "}\n",
              "#T_10817_row7_col3 {\n",
              "  background-color: #d84801;\n",
              "  color: #f1f1f1;\n",
              "}\n",
              "#T_10817_row9_col1 {\n",
              "  background-color: #912e04;\n",
              "  color: #f1f1f1;\n",
              "}\n",
              "#T_10817_row9_col2, #T_10817_row10_col2 {\n",
              "  background-color: #fff2e5;\n",
              "  color: #000000;\n",
              "}\n",
              "</style>\n",
              "<table id=\"T_10817_\" class=\"dataframe\">\n",
              "  <thead>\n",
              "    <tr>\n",
              "      <th class=\"blank level0\" >&nbsp;</th>\n",
              "      <th class=\"col_heading level0 col0\" >sum_na</th>\n",
              "      <th class=\"col_heading level0 col1\" >sum_eu</th>\n",
              "      <th class=\"col_heading level0 col2\" >sum_jp</th>\n",
              "      <th class=\"col_heading level0 col3\" >sum_ot</th>\n",
              "    </tr>\n",
              "    <tr>\n",
              "      <th class=\"index_name level0\" >YEAR</th>\n",
              "      <th class=\"blank col0\" >&nbsp;</th>\n",
              "      <th class=\"blank col1\" >&nbsp;</th>\n",
              "      <th class=\"blank col2\" >&nbsp;</th>\n",
              "      <th class=\"blank col3\" >&nbsp;</th>\n",
              "    </tr>\n",
              "  </thead>\n",
              "  <tbody>\n",
              "    <tr>\n",
              "      <th id=\"T_10817_level0_row0\" class=\"row_heading level0 row0\" >1990</th>\n",
              "      <td id=\"T_10817_row0_col0\" class=\"data row0 col0\" >52.000000</td>\n",
              "      <td id=\"T_10817_row0_col1\" class=\"data row0 col1\" >15.000000</td>\n",
              "      <td id=\"T_10817_row0_col2\" class=\"data row0 col2\" >30.000000</td>\n",
              "      <td id=\"T_10817_row0_col3\" class=\"data row0 col3\" >3.000000</td>\n",
              "    </tr>\n",
              "    <tr>\n",
              "      <th id=\"T_10817_level0_row1\" class=\"row_heading level0 row1\" >1991</th>\n",
              "      <td id=\"T_10817_row1_col0\" class=\"data row1 col0\" >40.000000</td>\n",
              "      <td id=\"T_10817_row1_col1\" class=\"data row1 col1\" >12.000000</td>\n",
              "      <td id=\"T_10817_row1_col2\" class=\"data row1 col2\" >46.000000</td>\n",
              "      <td id=\"T_10817_row1_col3\" class=\"data row1 col3\" >2.000000</td>\n",
              "    </tr>\n",
              "    <tr>\n",
              "      <th id=\"T_10817_level0_row2\" class=\"row_heading level0 row2\" >1992</th>\n",
              "      <td id=\"T_10817_row2_col0\" class=\"data row2 col0\" >44.000000</td>\n",
              "      <td id=\"T_10817_row2_col1\" class=\"data row2 col1\" >15.000000</td>\n",
              "      <td id=\"T_10817_row2_col2\" class=\"data row2 col2\" >38.000000</td>\n",
              "      <td id=\"T_10817_row2_col3\" class=\"data row2 col3\" >2.000000</td>\n",
              "    </tr>\n",
              "    <tr>\n",
              "      <th id=\"T_10817_level0_row3\" class=\"row_heading level0 row3\" >1993</th>\n",
              "      <td id=\"T_10817_row3_col0\" class=\"data row3 col0\" >33.000000</td>\n",
              "      <td id=\"T_10817_row3_col1\" class=\"data row3 col1\" >10.000000</td>\n",
              "      <td id=\"T_10817_row3_col2\" class=\"data row3 col2\" >55.000000</td>\n",
              "      <td id=\"T_10817_row3_col3\" class=\"data row3 col3\" >2.000000</td>\n",
              "    </tr>\n",
              "    <tr>\n",
              "      <th id=\"T_10817_level0_row4\" class=\"row_heading level0 row4\" >1994</th>\n",
              "      <td id=\"T_10817_row4_col0\" class=\"data row4 col0\" >36.000000</td>\n",
              "      <td id=\"T_10817_row4_col1\" class=\"data row4 col1\" >19.000000</td>\n",
              "      <td id=\"T_10817_row4_col2\" class=\"data row4 col2\" >43.000000</td>\n",
              "      <td id=\"T_10817_row4_col3\" class=\"data row4 col3\" >3.000000</td>\n",
              "    </tr>\n",
              "    <tr>\n",
              "      <th id=\"T_10817_level0_row5\" class=\"row_heading level0 row5\" >1995</th>\n",
              "      <td id=\"T_10817_row5_col0\" class=\"data row5 col0\" >28.000000</td>\n",
              "      <td id=\"T_10817_row5_col1\" class=\"data row5 col1\" >17.000000</td>\n",
              "      <td id=\"T_10817_row5_col2\" class=\"data row5 col2\" >52.000000</td>\n",
              "      <td id=\"T_10817_row5_col3\" class=\"data row5 col3\" >3.000000</td>\n",
              "    </tr>\n",
              "    <tr>\n",
              "      <th id=\"T_10817_level0_row6\" class=\"row_heading level0 row6\" >1996</th>\n",
              "      <td id=\"T_10817_row6_col0\" class=\"data row6 col0\" >44.000000</td>\n",
              "      <td id=\"T_10817_row6_col1\" class=\"data row6 col1\" >24.000000</td>\n",
              "      <td id=\"T_10817_row6_col2\" class=\"data row6 col2\" >29.000000</td>\n",
              "      <td id=\"T_10817_row6_col3\" class=\"data row6 col3\" >4.000000</td>\n",
              "    </tr>\n",
              "    <tr>\n",
              "      <th id=\"T_10817_level0_row7\" class=\"row_heading level0 row7\" >1997</th>\n",
              "      <td id=\"T_10817_row7_col0\" class=\"data row7 col0\" >47.000000</td>\n",
              "      <td id=\"T_10817_row7_col1\" class=\"data row7 col1\" >24.000000</td>\n",
              "      <td id=\"T_10817_row7_col2\" class=\"data row7 col2\" >24.000000</td>\n",
              "      <td id=\"T_10817_row7_col3\" class=\"data row7 col3\" >5.000000</td>\n",
              "    </tr>\n",
              "    <tr>\n",
              "      <th id=\"T_10817_level0_row8\" class=\"row_heading level0 row8\" >1998</th>\n",
              "      <td id=\"T_10817_row8_col0\" class=\"data row8 col0\" >50.000000</td>\n",
              "      <td id=\"T_10817_row8_col1\" class=\"data row8 col1\" >26.000000</td>\n",
              "      <td id=\"T_10817_row8_col2\" class=\"data row8 col2\" >20.000000</td>\n",
              "      <td id=\"T_10817_row8_col3\" class=\"data row8 col3\" >4.000000</td>\n",
              "    </tr>\n",
              "    <tr>\n",
              "      <th id=\"T_10817_level0_row9\" class=\"row_heading level0 row9\" >1999</th>\n",
              "      <td id=\"T_10817_row9_col0\" class=\"data row9 col0\" >50.000000</td>\n",
              "      <td id=\"T_10817_row9_col1\" class=\"data row9 col1\" >25.000000</td>\n",
              "      <td id=\"T_10817_row9_col2\" class=\"data row9 col2\" >21.000000</td>\n",
              "      <td id=\"T_10817_row9_col3\" class=\"data row9 col3\" >4.000000</td>\n",
              "    </tr>\n",
              "    <tr>\n",
              "      <th id=\"T_10817_level0_row10\" class=\"row_heading level0 row10\" >2000</th>\n",
              "      <td id=\"T_10817_row10_col0\" class=\"data row10 col0\" >47.000000</td>\n",
              "      <td id=\"T_10817_row10_col1\" class=\"data row10 col1\" >26.000000</td>\n",
              "      <td id=\"T_10817_row10_col2\" class=\"data row10 col2\" >21.000000</td>\n",
              "      <td id=\"T_10817_row10_col3\" class=\"data row10 col3\" >6.000000</td>\n",
              "    </tr>\n",
              "  </tbody>\n",
              "</table>\n"
            ]
          },
          "metadata": {},
          "execution_count": 93
        }
      ]
    },
    {
      "cell_type": "code",
      "source": [
        "df_questao7.printSchema()"
      ],
      "metadata": {
        "colab": {
          "base_uri": "https://localhost:8080/"
        },
        "id": "mDVJQVCBRjLq",
        "outputId": "599d95b5-8a78-4e2d-e60e-f98805a35c20"
      },
      "execution_count": 94,
      "outputs": [
        {
          "output_type": "stream",
          "name": "stdout",
          "text": [
            "root\n",
            " |-- YEAR: integer (nullable = true)\n",
            " |-- sum_na: double (nullable = true)\n",
            " |-- sum_eu: double (nullable = true)\n",
            " |-- sum_jp: double (nullable = true)\n",
            " |-- sum_ot: double (nullable = true)\n",
            "\n"
          ]
        }
      ]
    },
    {
      "cell_type": "markdown",
      "source": [
        "## Questão 8\n",
        "\n",
        "Calcule quantas vezes cada região teve vendas superiores às demais."
      ],
      "metadata": {
        "id": "sGaTtlhATKJb"
      }
    },
    {
      "cell_type": "code",
      "source": [
        "df.pandas_api().head()"
      ],
      "metadata": {
        "colab": {
          "base_uri": "https://localhost:8080/",
          "height": 206
        },
        "id": "Rcav8vFMEY40",
        "outputId": "4943bb9c-a4c8-499c-9588-255b1b0f56fc"
      },
      "execution_count": 90,
      "outputs": [
        {
          "output_type": "execute_result",
          "data": {
            "text/plain": [
              "   Rank                      Name Platform  Year    Genre                    Publisher  NA_Sales  EU_Sales  JP_Sales  Other_Sales  Global_Sales\n",
              "0  2343                   NFL 2K2      PS2  2001   Sports                         Sega      0.44      0.34       0.0         0.11          0.89\n",
              "1  3886  Prince of Persia Trilogy      PS3  2010   Action                      Ubisoft      0.17      0.25       0.0         0.09          0.51\n",
              "2  8880    Hot Wheels: Beat That!      Wii  2007   Racing                   Activision      0.13      0.00       0.0         0.01          0.15\n",
              "3  1190             Twisted Metal       PS  1995   Action  Sony Computer Entertainment      1.32      0.19       0.0         0.05          1.56\n",
              "4  9936          Turok: Evolution      GBA  2002  Shooter        Acclaim Entertainment      0.08      0.03       0.0         0.00          0.12"
            ],
            "text/html": [
              "<div>\n",
              "<style scoped>\n",
              "    .dataframe tbody tr th:only-of-type {\n",
              "        vertical-align: middle;\n",
              "    }\n",
              "\n",
              "    .dataframe tbody tr th {\n",
              "        vertical-align: top;\n",
              "    }\n",
              "\n",
              "    .dataframe thead th {\n",
              "        text-align: right;\n",
              "    }\n",
              "</style>\n",
              "<table border=\"1\" class=\"dataframe\">\n",
              "  <thead>\n",
              "    <tr style=\"text-align: right;\">\n",
              "      <th></th>\n",
              "      <th>Rank</th>\n",
              "      <th>Name</th>\n",
              "      <th>Platform</th>\n",
              "      <th>Year</th>\n",
              "      <th>Genre</th>\n",
              "      <th>Publisher</th>\n",
              "      <th>NA_Sales</th>\n",
              "      <th>EU_Sales</th>\n",
              "      <th>JP_Sales</th>\n",
              "      <th>Other_Sales</th>\n",
              "      <th>Global_Sales</th>\n",
              "    </tr>\n",
              "  </thead>\n",
              "  <tbody>\n",
              "    <tr>\n",
              "      <th>0</th>\n",
              "      <td>2343</td>\n",
              "      <td>NFL 2K2</td>\n",
              "      <td>PS2</td>\n",
              "      <td>2001</td>\n",
              "      <td>Sports</td>\n",
              "      <td>Sega</td>\n",
              "      <td>0.44</td>\n",
              "      <td>0.34</td>\n",
              "      <td>0.0</td>\n",
              "      <td>0.11</td>\n",
              "      <td>0.89</td>\n",
              "    </tr>\n",
              "    <tr>\n",
              "      <th>1</th>\n",
              "      <td>3886</td>\n",
              "      <td>Prince of Persia Trilogy</td>\n",
              "      <td>PS3</td>\n",
              "      <td>2010</td>\n",
              "      <td>Action</td>\n",
              "      <td>Ubisoft</td>\n",
              "      <td>0.17</td>\n",
              "      <td>0.25</td>\n",
              "      <td>0.0</td>\n",
              "      <td>0.09</td>\n",
              "      <td>0.51</td>\n",
              "    </tr>\n",
              "    <tr>\n",
              "      <th>2</th>\n",
              "      <td>8880</td>\n",
              "      <td>Hot Wheels: Beat That!</td>\n",
              "      <td>Wii</td>\n",
              "      <td>2007</td>\n",
              "      <td>Racing</td>\n",
              "      <td>Activision</td>\n",
              "      <td>0.13</td>\n",
              "      <td>0.00</td>\n",
              "      <td>0.0</td>\n",
              "      <td>0.01</td>\n",
              "      <td>0.15</td>\n",
              "    </tr>\n",
              "    <tr>\n",
              "      <th>3</th>\n",
              "      <td>1190</td>\n",
              "      <td>Twisted Metal</td>\n",
              "      <td>PS</td>\n",
              "      <td>1995</td>\n",
              "      <td>Action</td>\n",
              "      <td>Sony Computer Entertainment</td>\n",
              "      <td>1.32</td>\n",
              "      <td>0.19</td>\n",
              "      <td>0.0</td>\n",
              "      <td>0.05</td>\n",
              "      <td>1.56</td>\n",
              "    </tr>\n",
              "    <tr>\n",
              "      <th>4</th>\n",
              "      <td>9936</td>\n",
              "      <td>Turok: Evolution</td>\n",
              "      <td>GBA</td>\n",
              "      <td>2002</td>\n",
              "      <td>Shooter</td>\n",
              "      <td>Acclaim Entertainment</td>\n",
              "      <td>0.08</td>\n",
              "      <td>0.03</td>\n",
              "      <td>0.0</td>\n",
              "      <td>0.00</td>\n",
              "      <td>0.12</td>\n",
              "    </tr>\n",
              "  </tbody>\n",
              "</table>\n",
              "</div>"
            ]
          },
          "metadata": {},
          "execution_count": 90
        }
      ]
    },
    {
      "cell_type": "code",
      "source": [
        "lista_regiao=['NA_Sales',\t'EU_Sales',\t'JP_Sales',\t'Other_Sales']\n",
        "\n",
        "\n",
        "(\n",
        "df\n",
        ".withColumn(\n",
        "'max_value',F.greatest(*lista_regiao))\n",
        ".withColumn('maior_regiao',\n",
        "  F.when(F.col('NA_Sales')==F.col('max_value'), 'NA_Sales')\n",
        "  .when(F.col('EU_Sales')==F.col('max_value'), 'EU_Sales')\n",
        "  .when(F.col('JP_Sales')==F.col('max_value'), 'JP_Sales')\n",
        "  .otherwise('Other_Sales')\n",
        ")\n",
        ".groupby('maior_regiao')\n",
        ".count()\n",
        ".show()\n",
        ")"
      ],
      "metadata": {
        "id": "aAlq0SyER0uW",
        "colab": {
          "base_uri": "https://localhost:8080/"
        },
        "outputId": "b8539f0c-2768-45c7-ddd9-9aa55b0b5514"
      },
      "execution_count": 99,
      "outputs": [
        {
          "output_type": "stream",
          "name": "stdout",
          "text": [
            "+------------+-----+\n",
            "|maior_regiao|count|\n",
            "+------------+-----+\n",
            "|    EU_Sales| 2380|\n",
            "|    JP_Sales| 4029|\n",
            "|    NA_Sales|10113|\n",
            "| Other_Sales|   76|\n",
            "+------------+-----+\n",
            "\n"
          ]
        }
      ]
    },
    {
      "cell_type": "markdown",
      "source": [
        "## Questão 9\n",
        "\n",
        "Construe uma tabela que mostre a diferença do total de vendas em um década com a década anterior e responda:\n",
        "- Qual década apresentou a **menor diferença** comparada à década anterior?"
      ],
      "metadata": {
        "id": "LxTa6E2WNOGR"
      }
    },
    {
      "cell_type": "code",
      "source": [],
      "metadata": {
        "id": "FpkdFnwaR1tI"
      },
      "execution_count": null,
      "outputs": []
    },
    {
      "cell_type": "markdown",
      "source": [
        "## Questão 10 - PLUS\n",
        "\n",
        "Utilizando apenas a sintaxe do pyspark, faça uma função que calcule a moda do dataframe para um grupo de colunas que o usuário vai especificar. Além da moda, o dataframe de saída deve conter a quantidade de vezes que a moda aparece, e tambem se é multimodal.\n",
        "\n",
        "Sua função deve receber como entrada:\n",
        "- O pyspark dataframe\n",
        "- A coluna-alvo que desejamos saber a moda e\n",
        "- Os grupos (colunas do dataframe) que iremos considerar para calcular a moda \n",
        "\n",
        "O resultado será uma linha por grupo, contendo a identificação do grupo, a moda, a quantidade de vezes que apareceu, e se é um caso multimodal.\n",
        "\n",
        "Por exemplo, considerando o seguinte dataframe:\n",
        "\n",
        "```\n",
        "df_test = spark.createDataFrame([\n",
        "  (2.4,'A','A1'), (2.4,'A','A1'), (2.5,'A','A1'), (2.6,'A','A1'), (2.7,'A','A1'),\n",
        "  (2.4,'B','A1'), (2.5,'B','A1'), (2.5,'B','A1'), (2.6,'B','A1'), (2.4,'B','A1')\n",
        "], ('values','inner_group', 'main_group')).select('main_group', 'inner_group', 'values')\n",
        "\n",
        "df_test.show()\n",
        "```\n",
        "\n",
        "```\n",
        "+----------+-----------+------+\n",
        "|main_group|inner_group|values|\n",
        "+----------+-----------+------+\n",
        "|        A1|          A|   2.4|\n",
        "|        A1|          A|   2.4|\n",
        "|        A1|          A|   2.5|\n",
        "|        A1|          A|   2.6|\n",
        "|        A1|          A|   2.7|\n",
        "|        A1|          B|   2.4|\n",
        "|        A1|          B|   2.5|\n",
        "|        A1|          B|   2.5|\n",
        "|        A1|          B|   2.6|\n",
        "|        A1|          B|   2.4|\n",
        "+----------+-----------+------+\n",
        "```\n",
        "\n",
        "Ao aplicar a função:  \n",
        "`calculate_mode(df=df_test, target_col='values', group_cols=['main_group','inner_group']).show()`\n",
        "\n",
        "o retorno deve ser:\n",
        "\n",
        "```\n",
        "+----------+-----------+----+-----------+----------+\n",
        "|main_group|inner_group|mode|mode_counts|multimodal|\n",
        "+----------+-----------+----+-----------+----------+\n",
        "|        A1|          A| 2.4|          2|     false|\n",
        "|        A1|          B| 2.4|          2|      true|\n",
        "+----------+-----------+----+-----------+----------+\n",
        "```\n",
        "\n",
        "pois no grupo `A1-A` o valor 2.4 é o que mais aparece (2x), e nenhum outro valor aparece duas vezes também. Já no grupo `A1-B` o valor 2.4 também é o que mais aparece (2X), porém em conjunto com o 2.5, que também aparece duas 2X. Neste caso, devemos reportar apenas uma das modas e informar que é multimodal."
      ],
      "metadata": {
        "id": "erKQhaWbp9Gk"
      }
    },
    {
      "cell_type": "code",
      "source": [],
      "metadata": {
        "id": "5mn0_pmKR7yz"
      },
      "execution_count": null,
      "outputs": []
    }
  ]
}