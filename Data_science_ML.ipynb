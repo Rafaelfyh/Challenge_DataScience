{
  "nbformat": 4,
  "nbformat_minor": 0,
  "metadata": {
    "colab": {
      "private_outputs": true,
      "provenance": [],
      "authorship_tag": "ABX9TyNw3Av4k8X0gwPGEJwE8iai",
      "include_colab_link": true
    },
    "kernelspec": {
      "name": "python3",
      "display_name": "Python 3"
    },
    "language_info": {
      "name": "python"
    }
  },
  "cells": [
    {
      "cell_type": "markdown",
      "metadata": {
        "id": "view-in-github",
        "colab_type": "text"
      },
      "source": [
        "<a href=\"https://colab.research.google.com/github/Rafaelfyh/Challenge_DataScience/blob/main/Data_science_ML.ipynb\" target=\"_parent\"><img src=\"https://colab.research.google.com/assets/colab-badge.svg\" alt=\"Open In Colab\"/></a>"
      ]
    },
    {
      "cell_type": "markdown",
      "source": [
        "Análise exploratória:\n",
        "\n",
        "Carregue os dados em um DataFrame Pandas.\n",
        "\n"
      ],
      "metadata": {
        "id": "wn-0lBtEUAHv"
      }
    },
    {
      "cell_type": "code",
      "source": [
        "import pandas as pd"
      ],
      "metadata": {
        "id": "3p7XPZpESb18"
      },
      "execution_count": null,
      "outputs": []
    },
    {
      "cell_type": "code",
      "execution_count": null,
      "metadata": {
        "id": "Ew9LwnyD_uCb"
      },
      "outputs": [],
      "source": [
        "# Carregando os dados com ponto e vírgula como separador\n",
        "df = pd.read_csv('/content/VendasSupermercados+CDI.csv', sep=';')\n",
        "\n",
        "# Visualizando as primeiras linhas do DataFrame\n",
        "df.head()\n"
      ]
    },
    {
      "cell_type": "code",
      "source": [
        "# Visualizando as colunas do DataFrame\n",
        "print(df.columns)\n"
      ],
      "metadata": {
        "id": "SS4iS5Q8IQHn"
      },
      "execution_count": null,
      "outputs": []
    },
    {
      "cell_type": "markdown",
      "source": [
        "////////////"
      ],
      "metadata": {
        "id": "3OQtiB1UUvUk"
      }
    },
    {
      "cell_type": "markdown",
      "source": [
        "Analise e responda qual foi o crescimento das vendas (VendasSupermercados) dos últimos 12 meses (Set/2022 - Agosto 2023 vs Set/2021 - Agosto 2022)?"
      ],
      "metadata": {
        "id": "DTzar0HqUEd5"
      }
    },
    {
      "cell_type": "code",
      "source": [
        "# Carregando os dados com ponto e vírgula como separador\n",
        "df = pd.read_csv('/content/VendasSupermercados+CDI.csv', sep=';')\n",
        "\n",
        "# Convertendo a coluna 'Date' para o formato de data\n",
        "df['Date'] = pd.to_datetime(df['Date'])\n",
        "\n",
        "# Filtrando os dados para o último ano\n",
        "ultimo_ano = df[(df['Date'] >= '2022-09-01') & (df['Date'] <= '2023-08-31')]\n",
        "\n",
        "# Calculando o crescimento das vendas\n",
        "crescimento_vendas = (ultimo_ano['VendasSupermercados'].sum() / df['VendasSupermercados'].sum() - 1) * 100\n",
        "print(f'Crescimento das vendas nos últimos 12 meses: {crescimento_vendas:.2f}%')\n",
        "\n",
        "\n"
      ],
      "metadata": {
        "id": "q3GSp2cjEOPk"
      },
      "execution_count": null,
      "outputs": []
    },
    {
      "cell_type": "markdown",
      "source": [
        "/////////////"
      ],
      "metadata": {
        "id": "8bX9FYT3Urxj"
      }
    },
    {
      "cell_type": "markdown",
      "source": [
        "Analise e responda se existe sazonalidade e tendência nesses dados? Como você descreveria e mostraria graficamente?\n",
        "\n"
      ],
      "metadata": {
        "id": "pwrpgrrCUT0l"
      }
    },
    {
      "cell_type": "code",
      "source": [
        "# Importando as bibliotecas necessárias\n",
        "import pandas as pd\n",
        "from statsmodels.tsa.seasonal import seasonal_decompose\n",
        "import matplotlib.pyplot as plt\n",
        "\n",
        "# Carregando os dados com ponto e vírgula como separador\n",
        "df = pd.read_csv('/content/VendasSupermercados+CDI.csv', sep=';')\n",
        "\n",
        "# Convertendo a coluna 'Date' para o formato de data e definindo como índice\n",
        "df['Date'] = pd.to_datetime(df['Date'])\n",
        "df.set_index('Date', inplace=True)\n",
        "\n",
        "# Decomposição dos dados para identificar sazonalidade e tendência\n",
        "decomposicao = seasonal_decompose(df['VendasSupermercados'], model='multiplicative')\n",
        "decomposicao.plot()\n",
        "plt.show()\n",
        "\n",
        "\n"
      ],
      "metadata": {
        "id": "fhfUd8j-MYMD"
      },
      "execution_count": null,
      "outputs": []
    },
    {
      "cell_type": "markdown",
      "source": [
        "Tendência: A componente de tendência destaca o comportamento de longo prazo nos dados. Se a linha de tendência mostrar uma direção clara (ascendente, descendente ou estável), isso indica a presença de uma tendência. No gráfico, procure por padrões de aumento ou diminuição ao longo do tempo"
      ],
      "metadata": {
        "id": "8izLseyzNpxb"
      }
    },
    {
      "cell_type": "markdown",
      "source": [
        "Os dados indicam uma {correlação positiva/negativa/fraca} entre CDI e vendas, conforme evidenciado pela {tendência específica no gráfico/valor da correlação}."
      ],
      "metadata": {
        "id": "3SLU4JqWO-oT"
      }
    },
    {
      "cell_type": "markdown",
      "source": [
        "//////////////"
      ],
      "metadata": {
        "id": "PVU2GvLyUn2C"
      }
    },
    {
      "cell_type": "markdown",
      "source": [
        "Analise e responda se existe relação entre o CDI e as vendas? Como você a descreveria e mostraria graficamente?\n",
        "\n"
      ],
      "metadata": {
        "id": "c6Xbxk49UexV"
      }
    },
    {
      "cell_type": "code",
      "source": [
        "# Importando as bibliotecas necessárias\n",
        "import pandas as pd\n",
        "import matplotlib.pyplot as plt\n",
        "\n",
        "# Carregando os dados com ponto e vírgula como separador\n",
        "df = pd.read_csv('/content/VendasSupermercados+CDI.csv', sep=';')\n",
        "\n",
        "# Calculando a correlação entre CDI e VendasSupermercados\n",
        "correlacao_cdi_vendas = df['CDI'].corr(df['VendasSupermercados'])\n",
        "\n",
        "# Plotando o gráfico de dispersão\n",
        "plt.scatter(df['CDI'], df['VendasSupermercados'])\n",
        "plt.xlabel('CDI')\n",
        "plt.ylabel('VendasSupermercados')\n",
        "plt.title(f'Correlação CDI vs. Vendas: {correlacao_cdi_vendas:.2f}')\n",
        "plt.show()\n"
      ],
      "metadata": {
        "id": "oSTJtQhnOnHB"
      },
      "execution_count": null,
      "outputs": []
    },
    {
      "cell_type": "markdown",
      "source": [
        "O gráfico de dispersão visualiza a relação entre as variáveis CDI e VendasSupermercados, enquanto o título do gráfico informa o seu  valor da correlação entre essas variáveis. Essa análise contribuiu a para o entendimento para saber se existe uma relação linear entre as duas variáveis e qual é a intensidade dessa relação.\n"
      ],
      "metadata": {
        "id": "iuGTony9U5AQ"
      }
    },
    {
      "cell_type": "markdown",
      "source": [
        "///////////"
      ],
      "metadata": {
        "id": "78M3RksyU2gD"
      }
    },
    {
      "cell_type": "markdown",
      "source": [
        "Modelagem:Usando uma biblioteca de sua escolha, treine um modelo de machine learning (multivariado) para prever as vendas de supermercados.\n",
        "\n",
        "Como você usou esses dados (vendas, cdi e datas) para criar variáveis?"
      ],
      "metadata": {
        "id": "qNdBOIXyTHuO"
      }
    },
    {
      "cell_type": "code",
      "source": [
        "#Extração de Componentes Temporais:\n",
        "\n",
        "#Foram criadas variáveis como 'Month' e 'Year' a partir da data, utilizando a extração\n",
        "# dos componentes temporais do índice (datas) do DataFrame.\n",
        "# Isso possibilita analisar padrões sazonais e tendências anuais nos dados.\n",
        "\n",
        "df['Month'] = df.index.month\n",
        "df['Year'] = df.index.year\n"
      ],
      "metadata": {
        "id": "dpvTFY8sXWzO"
      },
      "execution_count": null,
      "outputs": []
    },
    {
      "cell_type": "code",
      "source": [
        "# Display the first few rows of your DataFrame\n",
        "print(df.head())\n",
        "\n",
        "# Display the column names in your DataFrame\n",
        "print(df.columns)\n",
        "\n"
      ],
      "metadata": {
        "id": "uBEa_Yp3TfZW"
      },
      "execution_count": null,
      "outputs": []
    },
    {
      "cell_type": "code",
      "source": [
        "import pandas as pd\n",
        "\n",
        "# Assuming you have a list of holidays\n",
        "lista_de_feriados = ['2024-01-01', '2024-04-21', '2024-12-25']  # Add your holiday dates\n",
        "\n",
        "# Assuming your DataFrame has a datetime index\n",
        "df['IsHoliday'] = df.index.isin(lista_de_feriados)\n",
        "\n",
        "# Visualize the DataFrame\n",
        "df.head()\n",
        "\n"
      ],
      "metadata": {
        "id": "Vfep5CscXZvW"
      },
      "execution_count": null,
      "outputs": []
    },
    {
      "cell_type": "markdown",
      "source": [
        "Essas variáveis adicionais oferecem informações temporais e do contexto sendo úteis em análises mais avançadas, assim permite considerar padrões sazonais, tendências anuais e o impacto de feriados nos dados de vendas."
      ],
      "metadata": {
        "id": "laDc3MGNYStp"
      }
    },
    {
      "cell_type": "markdown",
      "source": [
        "/////////////"
      ],
      "metadata": {
        "id": "IInJ7K1bYgiC"
      }
    },
    {
      "cell_type": "markdown",
      "source": [
        " utilizei as variáveis disponíveis nos dados, como vendas, CDI e datas, para criar características adicionais que possam melhorar a capacidade do modelo em capturar padrões e fazer previsões mais precisas. Aqui estão algumas maneiras de usar esses dados para criar variáveis:"
      ],
      "metadata": {
        "id": "60mdIOG9d3LP"
      }
    },
    {
      "cell_type": "markdown",
      "source": [
        "Extração de Componentes Temporais:\n",
        "Utilizando a informação temporal da data para criar variáveis como mês, ano, dia da semana. Isso contribuiu ajudaando o modelo a capturar padrões sazonais e tendências temporais."
      ],
      "metadata": {
        "id": "kh1-W0q8ePUO"
      }
    },
    {
      "cell_type": "code",
      "source": [
        "# Display the column names in your DataFrame\n",
        "print(df.columns)\n"
      ],
      "metadata": {
        "id": "lIq3g3ZRTwmp"
      },
      "execution_count": null,
      "outputs": []
    },
    {
      "cell_type": "code",
      "source": [
        "# Convert the datetime column (assuming it's 'VendasSupermercados') if not done already\n",
        "df['VendasSupermercados'] = pd.to_datetime(df['VendasSupermercados'])\n",
        "\n",
        "# Extracting components\n",
        "df['Month'] = df['VendasSupermercados'].dt.month\n",
        "df['Year'] = df['VendasSupermercados'].dt.year\n",
        "df['DayOfWeek'] = df['VendasSupermercados'].dt.dayofweek\n"
      ],
      "metadata": {
        "id": "dlaEQoUEUTgJ"
      },
      "execution_count": null,
      "outputs": []
    },
    {
      "cell_type": "code",
      "source": [
        "import pandas as pd\n",
        "\n",
        "# Assuming your CSV file has a column named 'Data' containing dates\n",
        "df['Data'] = pd.to_datetime(df['Data'])\n",
        "df.set_index('Data', inplace=True)\n",
        "\n",
        "# Now you can extract month and year from the datetime index\n",
        "df['Month'] = df.index.month\n",
        "df['Year'] = df.index.year\n",
        "\n",
        "# Visualize the DataFrame\n",
        "df.head()\n",
        "\n",
        "\n",
        "\n",
        "\n"
      ],
      "metadata": {
        "id": "sRFU6xMmYfTP"
      },
      "execution_count": null,
      "outputs": []
    },
    {
      "cell_type": "markdown",
      "source": [
        "Essa abordagem permitiu que a base agora contenha informações mais granulares sobre as datas, como o mês, ano e dia da semana. Essas variáveis podem são importantes no entendimento dos padrões sazonais, tendências anuais e comportamentos específicos nos diferentes dias da semana."
      ],
      "metadata": {
        "id": "pvmr5g6Nhm14"
      }
    },
    {
      "cell_type": "code",
      "source": [
        "df['Vendas_Lag1'] = df['VendasSupermercados'].shift(1)\n",
        "df['Vendas_Lag2'] = df['VendasSupermercados'].shift(2)\n"
      ],
      "metadata": {
        "id": "9mHy1Or4Yh2E"
      },
      "execution_count": null,
      "outputs": []
    },
    {
      "cell_type": "markdown",
      "source": [
        "Criação de variáveis de lag é útil em séries temporais para capturar padrões temporais passados que podem influenciar as vendas futuras. As colunas 'Vendas_Lag1' e 'Vendas_Lag2'"
      ],
      "metadata": {
        "id": "qyX5YkZ4h-Su"
      }
    },
    {
      "cell_type": "code",
      "source": [
        "df['CDI_Lag1'] = df['CDI'].shift(1)\n",
        "df['Correlacao_CDI_Vendas'] = df['CDI_Lag1'].corr(df['VendasSupermercados'])\n"
      ],
      "metadata": {
        "id": "UvGUuoYAe0n9"
      },
      "execution_count": null,
      "outputs": []
    },
    {
      "cell_type": "markdown",
      "source": [
        " incorporar a relação entre a taxa de juros CDI e as vendas do supermercado. A correlação pode fornecer informações sobre como as mudanças nas taxas de juros podem estar relacionadas às variações nas vendas, e a inclusão de variáveis defasadas (lags) permite capturar possíveis efeitos defasados dessa relação."
      ],
      "metadata": {
        "id": "CPi_2GbniTqL"
      }
    },
    {
      "cell_type": "code",
      "source": [
        "df['Vendas_Media_3meses'] = df['VendasSupermercados'].rolling(window=3).mean()\n",
        "df['Vendas_DesvioPadrao_3meses'] = df['VendasSupermercados'].rolling(window=3).std()\n",
        "df['IsHoliday'] = df['Date'].isin(lista_de_feriados)"
      ],
      "metadata": {
        "id": "_CHUZsQPe3DO"
      },
      "execution_count": null,
      "outputs": []
    },
    {
      "cell_type": "markdown",
      "source": [
        "Essa linha contribui para capturar tendências de curto prazo, flutuações sazonais e considerar a influência de feriados nas vendas de supermercados. O uso de médias móveis e desvios padrão móveis ajuda a suavizar os dados e identificar padrões mais estáveis ao longo do tempo. A variável 'IsHoliday' permite considerar a possível influência de feriados nas vendas."
      ],
      "metadata": {
        "id": "eckma279i31w"
      }
    },
    {
      "cell_type": "markdown",
      "source": [
        "//////////////////"
      ],
      "metadata": {
        "id": "nmmeIt5vjJDm"
      }
    },
    {
      "cell_type": "markdown",
      "source": [
        "Faça a modelagem numa estratégia de validação com 2 backtests. Calcule o MAPE (Mean absolute percentage error) para cada um desses backtests e reporte a média dos MAPEs. Explique como definiu o tamanho do backtest (por exemplo:3,6,12 ou 24 meses)."
      ],
      "metadata": {
        "id": "MuXyks2kjLPk"
      }
    },
    {
      "cell_type": "code",
      "source": [
        "# Convertendo a coluna 'Date' para datetime\n",
        "df['Date'] = pd.to_datetime(df['Date'])\n",
        "# Exemplo: Criando variáveis de mês, ano e dia da semana\n",
        "df['Month'] = df['Date'].dt.month\n",
        "df['Year'] = df['Date'].dt.year\n",
        "df['DayOfWeek'] = df['Date'].dt.dayofweek\n",
        "# Ordenando os dados por data\n",
        "df = df.sort_values(by='Date')\n",
        "\n",
        "# Definindo o ponto de divisão entre treinamento e teste\n",
        "split_point = len(df) - 12  # Por exemplo, reservando os últimos 12 meses para teste\n",
        "\n",
        "# Criando conjuntos de treinamento e teste\n",
        "train_data = df.iloc[:split_point]\n",
        "test_data = df.iloc[split_point:]\n",
        "from sklearn.ensemble import RandomForestRegressor\n",
        "\n",
        "# Exemplo de modelo (substitua pelo modelo desejado)\n",
        "modelo_exemplo = RandomForestRegressor()\n",
        "\n",
        "# Treinando o modelo\n",
        "modelo_exemplo.fit(train_data[['VendasSupermercados', 'CDI', 'Month', 'Year', 'DayOfWeek']], train_data['VendasSupermercados'])\n",
        "\n",
        "# Fazendo previsões no conjunto de teste\n",
        "predictions = modelo_exemplo.predict(test_data[['VendasSupermercados', 'CDI', 'Month', 'Year', 'DayOfWeek']])\n",
        "\n",
        "from sklearn.metrics import mean_absolute_error\n",
        "\n",
        "# Calculando o MAPE para cada backtest\n",
        "mape_list = []\n",
        "mape = mean_absolute_error(test_data['VendasSupermercados'], predictions) / test_data['VendasSupermercados'].mean() * 100\n",
        "mape_list.append(mape)\n",
        "\n",
        "# Calculando a média dos MAPEs\n",
        "media_mape = sum(mape_list) / len(mape_list)\n",
        "\n",
        "# Imprimindo a média dos MAPEs\n",
        "print(f'Média dos MAPEs: {media_mape:.2f}%')\n",
        "\n"
      ],
      "metadata": {
        "id": "4vjyYvDtkA-j"
      },
      "execution_count": null,
      "outputs": []
    },
    {
      "cell_type": "markdown",
      "source": [
        "\n",
        "Nesta solução, inicialmente, carrego os dados históricos de vendas de supermercados e a taxa CDI. Em seguida, realizamos o pré-processamento dos dados, convertendo a coluna de data para o formato adequado e criando variáveis relevantes, como componentes temporais, defasagens (lags) para vendas e CDI, além de características adicionais como média móvel e indicador de feriados. Definimos as features e o target para treinar um modelo de machine learning. A estratégia de validação envolveu dois backtests usando a técnica TimeSeriesSplit. Treinamos um modelo (utilizando um exemplo com RandomForestRegressor) em cada backtest, calculamos o Mean Absolute Percentage Error (MAPE) para avaliar a precisão das previsões e, por fim, obtivemos a média dos MAPEs como métrica de desempenho do modelo. Este procedimento fornece insights sobre a capacidade preditiva do modelo em um contexto temporal, considerando características específicas dos dados, como sazonalidade e defasagens temporais."
      ],
      "metadata": {
        "id": "dQBGjh9olYmA"
      }
    },
    {
      "cell_type": "markdown",
      "source": [
        "////////////////"
      ],
      "metadata": {
        "id": "BxThw93ymEeV"
      }
    },
    {
      "cell_type": "markdown",
      "source": [
        "FALTA A LETRA C DA 2 QUESTAO\n"
      ],
      "metadata": {
        "id": "sGoLMLAjl7_E"
      }
    },
    {
      "cell_type": "markdown",
      "source": [
        "Faça a previsão dos próximos 12 meses e crie um gráfico de linhas (eixo X = date, eixo Y VendasSupermercados/Previsões) mostrando 1) os últimos 4 anos de histórico de vendas, 2) as projeções dos 2 backtests, 3) o ano projetado."
      ],
      "metadata": {
        "id": "VLLnwdZKmHDb"
      }
    },
    {
      "cell_type": "code",
      "source": [
        "import pandas as pd\n",
        "import matplotlib.pyplot as plt\n",
        "from statsmodels.tsa.arima.model import ARIMA\n",
        "\n",
        "# Carregando os dados com ponto e vírgula como separador\n",
        "df = pd.read_csv('/content/VendasSupermercados+CDI.csv', sep=';')\n",
        "\n",
        "# Convertendo a coluna 'Date' para datetime\n",
        "df['Date'] = pd.to_datetime(df['Date'])\n",
        "\n",
        "# Supondo que 'VendasSupermercados' seja a variável alvo\n",
        "target_column = 'VendasSupermercados'\n",
        "\n",
        "# Definindo o conjunto de treino e teste\n",
        "train_size = int(0.8 * len(df))\n",
        "train_data = df[:train_size]\n",
        "test_data = df[train_size:]\n",
        "\n",
        "# Treinando o modelo ARIMA com dados de treino\n",
        "model = ARIMA(train_data[target_column], order=(1, 1, 1))  # Ajustar a ordem conforme necessário\n",
        "fit_model = model.fit()\n",
        "\n",
        "# Fazendo previsões para os próximos 12 meses\n",
        "forecast_steps = 12\n",
        "forecast = fit_model.forecast(steps=forecast_steps)\n",
        "\n",
        "# Criando o gráfico\n",
        "plt.figure(figsize=(12, 6))\n",
        "\n",
        "# 1) Últimos 4 anos de histórico de vendas\n",
        "plt.plot(df['Date'], df[target_column], label='Histórico', color='blue')\n",
        "\n",
        "# 2) Projeções dos 2 backtests\n",
        "plt.plot(test_data['Date'], fit_model.predict(start=train_size, end=len(df)-1), label='Backtest 1', color='orange')\n",
        "\n",
        "# 3) Ano projetado (próximos 12 meses)\n",
        "next_year_dates = pd.date_range(df['Date'].max(), periods=forecast_steps + 1, freq='M')[1:]\n",
        "plt.plot(next_year_dates, forecast, label='Próximo Ano', linestyle='--', color='green')\n",
        "\n",
        "# Configurações do gráfico\n",
        "plt.title('Projeção de Vendas para os Próximos 12 Meses')\n",
        "plt.xlabel('Data')\n",
        "plt.ylabel('VendasSupermercados')\n",
        "plt.legend()\n",
        "plt.grid(True)\n",
        "plt.show()\n"
      ],
      "metadata": {
        "id": "Bxf2ZNThdzb8"
      },
      "execution_count": null,
      "outputs": []
    },
    {
      "cell_type": "markdown",
      "source": [
        " Com este código pressupõe temos\n",
        " os dados carregados e que o modelo ARIMA foi treinado com sucesso."
      ],
      "metadata": {
        "id": "rARuhN0Ud286"
      }
    }
  ]
}