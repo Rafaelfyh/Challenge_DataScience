{
  "nbformat": 4,
  "nbformat_minor": 0,
  "metadata": {
    "colab": {
      "provenance": [],
      "collapsed_sections": [
        "UMvi8rxBQhYj"
      ],
      "toc_visible": true,
      "include_colab_link": true
    },
    "kernelspec": {
      "name": "python3",
      "display_name": "Python 3"
    },
    "language_info": {
      "name": "python"
    }
  },
  "cells": [
    {
      "cell_type": "markdown",
      "metadata": {
        "id": "view-in-github",
        "colab_type": "text"
      },
      "source": [
        "<a href=\"https://colab.research.google.com/github/Rafaelfyh/Challenge_DataScience/blob/main/Revisa%CC%83o_spark_sql.ipynb\" target=\"_parent\"><img src=\"https://colab.research.google.com/assets/colab-badge.svg\" alt=\"Open In Colab\"/></a>"
      ]
    },
    {
      "cell_type": "markdown",
      "source": [
        "# Overview"
      ],
      "metadata": {
        "id": "20HddzzXyxY_"
      }
    },
    {
      "cell_type": "markdown",
      "source": [
        "Apache Spark é uma ferramenta para trabalhar com grandes volumes de dados de forma paralela e distribuída. \n",
        "\n",
        "O ecosistema Spark pode ser dividido em diferentes módulos:\n",
        "\n",
        "- Spark Core API\n",
        "- Spark SQL\n",
        "- Spark Streaming\n",
        "- Spark MLlib\n",
        "- GraphX\n",
        "\n",
        "Nesta revisão, focaremos no módulo Spark SQL.\n",
        "\n",
        "![Apache Spark Eco System](https://sparkbyexamples.com/wp-content/uploads/2020/02/spark-components-1.jpg)\n",
        "\n",
        "Para referência completa de todas funcionalidades do Spark SQL, vide a [documentação oficial](https://spark.apache.org/docs/3.1.1/api/python/reference/pyspark.sql.html#core-classes).\n",
        "\n",
        "Para tutoriais e exemplos práticos, vide site [Spark by examples](https://sparkbyexamples.com/)."
      ],
      "metadata": {
        "id": "bN5iqyLJy1Qd"
      }
    },
    {
      "cell_type": "markdown",
      "source": [
        "# **SETUP**"
      ],
      "metadata": {
        "id": "6kQXgVUDm36y"
      }
    },
    {
      "cell_type": "markdown",
      "source": [
        "## Spark UI\n",
        "\n",
        "O Spark oferece uma _user interface_ (UI) para auxiliar no monitoramento das aplicações. Caso o notebook seja executado no Google Colab, precisamos fazer uma conexão segura com o ambiente onde o notebook está rodando.\n",
        "\n",
        "Na primeira execução deste notebook, precisamos de 2 bibliotecas instaladas: \n",
        "- `pyspark`: biblioteca com API Python do Spark\n",
        "- `pyngrok` (opcional): biblioteca para abrir conexões seguras a partir de URLs públicas \n",
        "\n",
        "Para realizar a instalação, basta descomentar as linhas de código abaixo e rodar a célula."
      ],
      "metadata": {
        "id": "hjE_B03_m9Rt"
      }
    },
    {
      "cell_type": "code",
      "source": [
        "!pip install -q pyngrok\n",
        "!pip install -q pyspark"
      ],
      "metadata": {
        "id": "LxWd0qTjmraa",
        "colab": {
          "base_uri": "https://localhost:8080/"
        },
        "outputId": "f191f4cd-31c9-455f-bb7a-ac1621e3fb66"
      },
      "execution_count": null,
      "outputs": [
        {
          "output_type": "stream",
          "name": "stdout",
          "text": [
            "\u001b[?25l\r\u001b[K     |▍                               | 10 kB 15.6 MB/s eta 0:00:01\r\u001b[K     |▉                               | 20 kB 5.7 MB/s eta 0:00:01\r\u001b[K     |█▎                              | 30 kB 7.7 MB/s eta 0:00:01\r\u001b[K     |█▊                              | 40 kB 4.6 MB/s eta 0:00:01\r\u001b[K     |██▏                             | 51 kB 4.5 MB/s eta 0:00:01\r\u001b[K     |██▋                             | 61 kB 5.2 MB/s eta 0:00:01\r\u001b[K     |███                             | 71 kB 5.4 MB/s eta 0:00:01\r\u001b[K     |███▌                            | 81 kB 5.5 MB/s eta 0:00:01\r\u001b[K     |████                            | 92 kB 6.1 MB/s eta 0:00:01\r\u001b[K     |████▍                           | 102 kB 5.3 MB/s eta 0:00:01\r\u001b[K     |████▉                           | 112 kB 5.3 MB/s eta 0:00:01\r\u001b[K     |█████▎                          | 122 kB 5.3 MB/s eta 0:00:01\r\u001b[K     |█████▊                          | 133 kB 5.3 MB/s eta 0:00:01\r\u001b[K     |██████▏                         | 143 kB 5.3 MB/s eta 0:00:01\r\u001b[K     |██████▋                         | 153 kB 5.3 MB/s eta 0:00:01\r\u001b[K     |███████                         | 163 kB 5.3 MB/s eta 0:00:01\r\u001b[K     |███████▌                        | 174 kB 5.3 MB/s eta 0:00:01\r\u001b[K     |████████                        | 184 kB 5.3 MB/s eta 0:00:01\r\u001b[K     |████████▍                       | 194 kB 5.3 MB/s eta 0:00:01\r\u001b[K     |████████▉                       | 204 kB 5.3 MB/s eta 0:00:01\r\u001b[K     |█████████▎                      | 215 kB 5.3 MB/s eta 0:00:01\r\u001b[K     |█████████▊                      | 225 kB 5.3 MB/s eta 0:00:01\r\u001b[K     |██████████▏                     | 235 kB 5.3 MB/s eta 0:00:01\r\u001b[K     |██████████▌                     | 245 kB 5.3 MB/s eta 0:00:01\r\u001b[K     |███████████                     | 256 kB 5.3 MB/s eta 0:00:01\r\u001b[K     |███████████▍                    | 266 kB 5.3 MB/s eta 0:00:01\r\u001b[K     |███████████▉                    | 276 kB 5.3 MB/s eta 0:00:01\r\u001b[K     |████████████▎                   | 286 kB 5.3 MB/s eta 0:00:01\r\u001b[K     |████████████▊                   | 296 kB 5.3 MB/s eta 0:00:01\r\u001b[K     |█████████████▏                  | 307 kB 5.3 MB/s eta 0:00:01\r\u001b[K     |█████████████▋                  | 317 kB 5.3 MB/s eta 0:00:01\r\u001b[K     |██████████████                  | 327 kB 5.3 MB/s eta 0:00:01\r\u001b[K     |██████████████▌                 | 337 kB 5.3 MB/s eta 0:00:01\r\u001b[K     |███████████████                 | 348 kB 5.3 MB/s eta 0:00:01\r\u001b[K     |███████████████▍                | 358 kB 5.3 MB/s eta 0:00:01\r\u001b[K     |███████████████▉                | 368 kB 5.3 MB/s eta 0:00:01\r\u001b[K     |████████████████▎               | 378 kB 5.3 MB/s eta 0:00:01\r\u001b[K     |████████████████▊               | 389 kB 5.3 MB/s eta 0:00:01\r\u001b[K     |█████████████████▏              | 399 kB 5.3 MB/s eta 0:00:01\r\u001b[K     |█████████████████▋              | 409 kB 5.3 MB/s eta 0:00:01\r\u001b[K     |██████████████████              | 419 kB 5.3 MB/s eta 0:00:01\r\u001b[K     |██████████████████▌             | 430 kB 5.3 MB/s eta 0:00:01\r\u001b[K     |███████████████████             | 440 kB 5.3 MB/s eta 0:00:01\r\u001b[K     |███████████████████▍            | 450 kB 5.3 MB/s eta 0:00:01\r\u001b[K     |███████████████████▉            | 460 kB 5.3 MB/s eta 0:00:01\r\u001b[K     |████████████████████▎           | 471 kB 5.3 MB/s eta 0:00:01\r\u001b[K     |████████████████████▋           | 481 kB 5.3 MB/s eta 0:00:01\r\u001b[K     |█████████████████████           | 491 kB 5.3 MB/s eta 0:00:01\r\u001b[K     |█████████████████████▌          | 501 kB 5.3 MB/s eta 0:00:01\r\u001b[K     |██████████████████████          | 512 kB 5.3 MB/s eta 0:00:01\r\u001b[K     |██████████████████████▍         | 522 kB 5.3 MB/s eta 0:00:01\r\u001b[K     |██████████████████████▉         | 532 kB 5.3 MB/s eta 0:00:01\r\u001b[K     |███████████████████████▎        | 542 kB 5.3 MB/s eta 0:00:01\r\u001b[K     |███████████████████████▊        | 552 kB 5.3 MB/s eta 0:00:01\r\u001b[K     |████████████████████████▏       | 563 kB 5.3 MB/s eta 0:00:01\r\u001b[K     |████████████████████████▋       | 573 kB 5.3 MB/s eta 0:00:01\r\u001b[K     |█████████████████████████       | 583 kB 5.3 MB/s eta 0:00:01\r\u001b[K     |█████████████████████████▌      | 593 kB 5.3 MB/s eta 0:00:01\r\u001b[K     |██████████████████████████      | 604 kB 5.3 MB/s eta 0:00:01\r\u001b[K     |██████████████████████████▍     | 614 kB 5.3 MB/s eta 0:00:01\r\u001b[K     |██████████████████████████▉     | 624 kB 5.3 MB/s eta 0:00:01\r\u001b[K     |███████████████████████████▎    | 634 kB 5.3 MB/s eta 0:00:01\r\u001b[K     |███████████████████████████▊    | 645 kB 5.3 MB/s eta 0:00:01\r\u001b[K     |████████████████████████████▏   | 655 kB 5.3 MB/s eta 0:00:01\r\u001b[K     |████████████████████████████▋   | 665 kB 5.3 MB/s eta 0:00:01\r\u001b[K     |█████████████████████████████   | 675 kB 5.3 MB/s eta 0:00:01\r\u001b[K     |█████████████████████████████▌  | 686 kB 5.3 MB/s eta 0:00:01\r\u001b[K     |██████████████████████████████  | 696 kB 5.3 MB/s eta 0:00:01\r\u001b[K     |██████████████████████████████▍ | 706 kB 5.3 MB/s eta 0:00:01\r\u001b[K     |██████████████████████████████▊ | 716 kB 5.3 MB/s eta 0:00:01\r\u001b[K     |███████████████████████████████▏| 727 kB 5.3 MB/s eta 0:00:01\r\u001b[K     |███████████████████████████████▋| 737 kB 5.3 MB/s eta 0:00:01\r\u001b[K     |████████████████████████████████| 745 kB 5.3 MB/s \n",
            "\u001b[?25h  Building wheel for pyngrok (setup.py) ... \u001b[?25l\u001b[?25hdone\n",
            "\u001b[K     |████████████████████████████████| 281.4 MB 36 kB/s \n",
            "\u001b[K     |████████████████████████████████| 199 kB 44.5 MB/s \n",
            "\u001b[?25h  Building wheel for pyspark (setup.py) ... \u001b[?25l\u001b[?25hdone\n"
          ]
        }
      ]
    },
    {
      "cell_type": "markdown",
      "source": [
        "Para realizar operações em Spark, utilizamos a [SparkSession](https://sparkbyexamples.com/spark/sparksession-explained-with-examples/) que encapsula uma série de funcionalidades e contextos para utilizarmos nas aplicações do Spark, como:\n",
        "\n",
        "- SparkContext\n",
        "- SQLContext\n",
        "- HiveContext\n",
        "- Streaming Application\n",
        "\n",
        "Para criar uma SparkSession, utilizaremos os seguintes métodos:\n",
        "\n",
        "- `Builder()` para definir as configurações da sessão\n",
        "- `config(key, value)` para definir configurações da sessão\n",
        "- `getOrCreate()` para criar uma sessão com tais configurações (caso uma sessão com as mesmas configurações já exista, ela será retornada)"
      ],
      "metadata": {
        "id": "SjfIQJpKLIFi"
      }
    },
    {
      "cell_type": "code",
      "execution_count": null,
      "metadata": {
        "colab": {
          "base_uri": "https://localhost:8080/",
          "height": 219
        },
        "id": "R3ZdnLL5e2ks",
        "outputId": "06df99d1-0715-40ab-b837-2f5272a2aa6d"
      },
      "outputs": [
        {
          "output_type": "execute_result",
          "data": {
            "text/plain": [
              "<pyspark.sql.session.SparkSession at 0x7fe18bfee890>"
            ],
            "text/html": [
              "\n",
              "            <div>\n",
              "                <p><b>SparkSession - in-memory</b></p>\n",
              "                \n",
              "        <div>\n",
              "            <p><b>SparkContext</b></p>\n",
              "\n",
              "            <p><a href=\"http://1925574e6d1e:4050\">Spark UI</a></p>\n",
              "\n",
              "            <dl>\n",
              "              <dt>Version</dt>\n",
              "                <dd><code>v3.3.1</code></dd>\n",
              "              <dt>Master</dt>\n",
              "                <dd><code>local[*]</code></dd>\n",
              "              <dt>AppName</dt>\n",
              "                <dd><code>pyspark-shell</code></dd>\n",
              "            </dl>\n",
              "        </div>\n",
              "        \n",
              "            </div>\n",
              "        "
            ]
          },
          "metadata": {},
          "execution_count": 3
        }
      ],
      "source": [
        "from pyspark.sql import SparkSession\n",
        "spark = SparkSession.Builder().config('spark.ui.port', '4050').getOrCreate()\n",
        "spark"
      ]
    },
    {
      "cell_type": "markdown",
      "source": [
        "\n",
        "A Spark Session traz algumas informações relevantes:\n",
        "\n",
        "- Versão do spark\n",
        "- Nome da aplicação Spark\n",
        "- Arquitetura Spark\n",
        "\n",
        "A arquitetura Spark `local[*]` indica que a aplicação será executada na máquina local utilizando todas as thread disponíveis. Ao executar a aplicação em um cluster, temos a seguinte arquitetura:\n",
        "\n",
        "![Spark Application Components](https://i0.wp.com/sparkbyexamples.com/wp-content/uploads/2022/08/image.png?w=596&ssl=1)\n",
        "\n",
        "Para mais informações sobre os modos de gerenciamento do cluster, acesse este [link](https://sparkbyexamples.com/spark/what-does-setmaster-local-mean-in-spark/).\n",
        "\n",
        "Caso queira explorar a Spark UI, utilize as células abaixo:"
      ],
      "metadata": {
        "id": "a3937xFvEWL6"
      }
    },
    {
      "cell_type": "code",
      "source": [
        "# Fazer login no site https://dashboard.ngrok.com/get-started/setup para obter autenticação própria\n",
        "ngrok_token = '2Gj7SZZO6nxgVem2G9JEAbfSt2Q_86zYn3y1KrVNEcD4KEj6i'"
      ],
      "metadata": {
        "id": "VK5ksALRlODl"
      },
      "execution_count": null,
      "outputs": []
    },
    {
      "cell_type": "code",
      "source": [
        "get_ipython().system_raw(f'ngrok authtoken {ngrok_token}')\n",
        "get_ipython().system_raw('ngrok http 4050 &')\n",
        "!sleep 3\n",
        "print('URL para interface Spark:')\n",
        "!curl -s http://localhost:4040/api/tunnels | grep -Po 'public_url\":\"(?=https)\\K[^\"]*'"
      ],
      "metadata": {
        "colab": {
          "base_uri": "https://localhost:8080/"
        },
        "id": "gKPmX_f1gV7C",
        "outputId": "944e8898-cd1e-4826-9fe1-30219f30a12d"
      },
      "execution_count": null,
      "outputs": [
        {
          "output_type": "stream",
          "name": "stdout",
          "text": [
            "URL para interface Spark:\n",
            "https://6c72-35-196-73-145.ngrok.io\n"
          ]
        }
      ]
    },
    {
      "cell_type": "markdown",
      "source": [
        "## Libraries"
      ],
      "metadata": {
        "id": "3hm3CvMdn3Jd"
      }
    },
    {
      "cell_type": "code",
      "source": [
        "import pandas as pd\n",
        "from google.colab import files\n",
        "\n",
        "import pyspark.sql.functions as F\n",
        "from pyspark.sql.types import StructType, StructField, StringType, IntegerType, DoubleType, DateType"
      ],
      "metadata": {
        "id": "Yi82wbeZn2jT"
      },
      "execution_count": null,
      "outputs": []
    },
    {
      "cell_type": "markdown",
      "source": [
        "## Load data\n",
        "\n",
        "Para esta revisão, utilizaremos dados em 2 arquivos:\n",
        "- *unicorn_companies.csv*: contém informações de empresas \"unicórnio\".\n",
        "- *country.csv*: contém metadados dos países.\n",
        "\n",
        "O método `files.upload()` do Google colab nos ajuda a subir o arquivo para o ambiente Colab."
      ],
      "metadata": {
        "id": "D6PpCkDmnjOv"
      }
    },
    {
      "cell_type": "code",
      "source": [
        "# Load unicorn_companies.csv\n",
        "_ = files.upload()"
      ],
      "metadata": {
        "colab": {
          "base_uri": "https://localhost:8080/",
          "height": 73
        },
        "id": "Ii3CgQUVlbnq",
        "outputId": "67266e2c-144f-48d1-bbb0-e8c9145a6b8a"
      },
      "execution_count": null,
      "outputs": [
        {
          "output_type": "display_data",
          "data": {
            "text/plain": [
              "<IPython.core.display.HTML object>"
            ],
            "text/html": [
              "\n",
              "     <input type=\"file\" id=\"files-69b62f75-8d87-4a03-ab87-0093548719e8\" name=\"files[]\" multiple disabled\n",
              "        style=\"border:none\" />\n",
              "     <output id=\"result-69b62f75-8d87-4a03-ab87-0093548719e8\">\n",
              "      Upload widget is only available when the cell has been executed in the\n",
              "      current browser session. Please rerun this cell to enable.\n",
              "      </output>\n",
              "      <script>// Copyright 2017 Google LLC\n",
              "//\n",
              "// Licensed under the Apache License, Version 2.0 (the \"License\");\n",
              "// you may not use this file except in compliance with the License.\n",
              "// You may obtain a copy of the License at\n",
              "//\n",
              "//      http://www.apache.org/licenses/LICENSE-2.0\n",
              "//\n",
              "// Unless required by applicable law or agreed to in writing, software\n",
              "// distributed under the License is distributed on an \"AS IS\" BASIS,\n",
              "// WITHOUT WARRANTIES OR CONDITIONS OF ANY KIND, either express or implied.\n",
              "// See the License for the specific language governing permissions and\n",
              "// limitations under the License.\n",
              "\n",
              "/**\n",
              " * @fileoverview Helpers for google.colab Python module.\n",
              " */\n",
              "(function(scope) {\n",
              "function span(text, styleAttributes = {}) {\n",
              "  const element = document.createElement('span');\n",
              "  element.textContent = text;\n",
              "  for (const key of Object.keys(styleAttributes)) {\n",
              "    element.style[key] = styleAttributes[key];\n",
              "  }\n",
              "  return element;\n",
              "}\n",
              "\n",
              "// Max number of bytes which will be uploaded at a time.\n",
              "const MAX_PAYLOAD_SIZE = 100 * 1024;\n",
              "\n",
              "function _uploadFiles(inputId, outputId) {\n",
              "  const steps = uploadFilesStep(inputId, outputId);\n",
              "  const outputElement = document.getElementById(outputId);\n",
              "  // Cache steps on the outputElement to make it available for the next call\n",
              "  // to uploadFilesContinue from Python.\n",
              "  outputElement.steps = steps;\n",
              "\n",
              "  return _uploadFilesContinue(outputId);\n",
              "}\n",
              "\n",
              "// This is roughly an async generator (not supported in the browser yet),\n",
              "// where there are multiple asynchronous steps and the Python side is going\n",
              "// to poll for completion of each step.\n",
              "// This uses a Promise to block the python side on completion of each step,\n",
              "// then passes the result of the previous step as the input to the next step.\n",
              "function _uploadFilesContinue(outputId) {\n",
              "  const outputElement = document.getElementById(outputId);\n",
              "  const steps = outputElement.steps;\n",
              "\n",
              "  const next = steps.next(outputElement.lastPromiseValue);\n",
              "  return Promise.resolve(next.value.promise).then((value) => {\n",
              "    // Cache the last promise value to make it available to the next\n",
              "    // step of the generator.\n",
              "    outputElement.lastPromiseValue = value;\n",
              "    return next.value.response;\n",
              "  });\n",
              "}\n",
              "\n",
              "/**\n",
              " * Generator function which is called between each async step of the upload\n",
              " * process.\n",
              " * @param {string} inputId Element ID of the input file picker element.\n",
              " * @param {string} outputId Element ID of the output display.\n",
              " * @return {!Iterable<!Object>} Iterable of next steps.\n",
              " */\n",
              "function* uploadFilesStep(inputId, outputId) {\n",
              "  const inputElement = document.getElementById(inputId);\n",
              "  inputElement.disabled = false;\n",
              "\n",
              "  const outputElement = document.getElementById(outputId);\n",
              "  outputElement.innerHTML = '';\n",
              "\n",
              "  const pickedPromise = new Promise((resolve) => {\n",
              "    inputElement.addEventListener('change', (e) => {\n",
              "      resolve(e.target.files);\n",
              "    });\n",
              "  });\n",
              "\n",
              "  const cancel = document.createElement('button');\n",
              "  inputElement.parentElement.appendChild(cancel);\n",
              "  cancel.textContent = 'Cancel upload';\n",
              "  const cancelPromise = new Promise((resolve) => {\n",
              "    cancel.onclick = () => {\n",
              "      resolve(null);\n",
              "    };\n",
              "  });\n",
              "\n",
              "  // Wait for the user to pick the files.\n",
              "  const files = yield {\n",
              "    promise: Promise.race([pickedPromise, cancelPromise]),\n",
              "    response: {\n",
              "      action: 'starting',\n",
              "    }\n",
              "  };\n",
              "\n",
              "  cancel.remove();\n",
              "\n",
              "  // Disable the input element since further picks are not allowed.\n",
              "  inputElement.disabled = true;\n",
              "\n",
              "  if (!files) {\n",
              "    return {\n",
              "      response: {\n",
              "        action: 'complete',\n",
              "      }\n",
              "    };\n",
              "  }\n",
              "\n",
              "  for (const file of files) {\n",
              "    const li = document.createElement('li');\n",
              "    li.append(span(file.name, {fontWeight: 'bold'}));\n",
              "    li.append(span(\n",
              "        `(${file.type || 'n/a'}) - ${file.size} bytes, ` +\n",
              "        `last modified: ${\n",
              "            file.lastModifiedDate ? file.lastModifiedDate.toLocaleDateString() :\n",
              "                                    'n/a'} - `));\n",
              "    const percent = span('0% done');\n",
              "    li.appendChild(percent);\n",
              "\n",
              "    outputElement.appendChild(li);\n",
              "\n",
              "    const fileDataPromise = new Promise((resolve) => {\n",
              "      const reader = new FileReader();\n",
              "      reader.onload = (e) => {\n",
              "        resolve(e.target.result);\n",
              "      };\n",
              "      reader.readAsArrayBuffer(file);\n",
              "    });\n",
              "    // Wait for the data to be ready.\n",
              "    let fileData = yield {\n",
              "      promise: fileDataPromise,\n",
              "      response: {\n",
              "        action: 'continue',\n",
              "      }\n",
              "    };\n",
              "\n",
              "    // Use a chunked sending to avoid message size limits. See b/62115660.\n",
              "    let position = 0;\n",
              "    do {\n",
              "      const length = Math.min(fileData.byteLength - position, MAX_PAYLOAD_SIZE);\n",
              "      const chunk = new Uint8Array(fileData, position, length);\n",
              "      position += length;\n",
              "\n",
              "      const base64 = btoa(String.fromCharCode.apply(null, chunk));\n",
              "      yield {\n",
              "        response: {\n",
              "          action: 'append',\n",
              "          file: file.name,\n",
              "          data: base64,\n",
              "        },\n",
              "      };\n",
              "\n",
              "      let percentDone = fileData.byteLength === 0 ?\n",
              "          100 :\n",
              "          Math.round((position / fileData.byteLength) * 100);\n",
              "      percent.textContent = `${percentDone}% done`;\n",
              "\n",
              "    } while (position < fileData.byteLength);\n",
              "  }\n",
              "\n",
              "  // All done.\n",
              "  yield {\n",
              "    response: {\n",
              "      action: 'complete',\n",
              "    }\n",
              "  };\n",
              "}\n",
              "\n",
              "scope.google = scope.google || {};\n",
              "scope.google.colab = scope.google.colab || {};\n",
              "scope.google.colab._files = {\n",
              "  _uploadFiles,\n",
              "  _uploadFilesContinue,\n",
              "};\n",
              "})(self);\n",
              "</script> "
            ]
          },
          "metadata": {}
        },
        {
          "output_type": "stream",
          "name": "stdout",
          "text": [
            "Saving unicorn_companies.csv to unicorn_companies.csv\n"
          ]
        }
      ]
    },
    {
      "cell_type": "code",
      "source": [
        "# Load country.csv\n",
        "_ = files.upload()"
      ],
      "metadata": {
        "id": "4eBfIZuB9nQt",
        "colab": {
          "base_uri": "https://localhost:8080/",
          "height": 73
        },
        "outputId": "95a276bb-6ab7-4966-8d03-df4d8feb3a14"
      },
      "execution_count": null,
      "outputs": [
        {
          "output_type": "display_data",
          "data": {
            "text/plain": [
              "<IPython.core.display.HTML object>"
            ],
            "text/html": [
              "\n",
              "     <input type=\"file\" id=\"files-ade65c7a-dce0-466e-9e86-9d5db62e55d6\" name=\"files[]\" multiple disabled\n",
              "        style=\"border:none\" />\n",
              "     <output id=\"result-ade65c7a-dce0-466e-9e86-9d5db62e55d6\">\n",
              "      Upload widget is only available when the cell has been executed in the\n",
              "      current browser session. Please rerun this cell to enable.\n",
              "      </output>\n",
              "      <script>// Copyright 2017 Google LLC\n",
              "//\n",
              "// Licensed under the Apache License, Version 2.0 (the \"License\");\n",
              "// you may not use this file except in compliance with the License.\n",
              "// You may obtain a copy of the License at\n",
              "//\n",
              "//      http://www.apache.org/licenses/LICENSE-2.0\n",
              "//\n",
              "// Unless required by applicable law or agreed to in writing, software\n",
              "// distributed under the License is distributed on an \"AS IS\" BASIS,\n",
              "// WITHOUT WARRANTIES OR CONDITIONS OF ANY KIND, either express or implied.\n",
              "// See the License for the specific language governing permissions and\n",
              "// limitations under the License.\n",
              "\n",
              "/**\n",
              " * @fileoverview Helpers for google.colab Python module.\n",
              " */\n",
              "(function(scope) {\n",
              "function span(text, styleAttributes = {}) {\n",
              "  const element = document.createElement('span');\n",
              "  element.textContent = text;\n",
              "  for (const key of Object.keys(styleAttributes)) {\n",
              "    element.style[key] = styleAttributes[key];\n",
              "  }\n",
              "  return element;\n",
              "}\n",
              "\n",
              "// Max number of bytes which will be uploaded at a time.\n",
              "const MAX_PAYLOAD_SIZE = 100 * 1024;\n",
              "\n",
              "function _uploadFiles(inputId, outputId) {\n",
              "  const steps = uploadFilesStep(inputId, outputId);\n",
              "  const outputElement = document.getElementById(outputId);\n",
              "  // Cache steps on the outputElement to make it available for the next call\n",
              "  // to uploadFilesContinue from Python.\n",
              "  outputElement.steps = steps;\n",
              "\n",
              "  return _uploadFilesContinue(outputId);\n",
              "}\n",
              "\n",
              "// This is roughly an async generator (not supported in the browser yet),\n",
              "// where there are multiple asynchronous steps and the Python side is going\n",
              "// to poll for completion of each step.\n",
              "// This uses a Promise to block the python side on completion of each step,\n",
              "// then passes the result of the previous step as the input to the next step.\n",
              "function _uploadFilesContinue(outputId) {\n",
              "  const outputElement = document.getElementById(outputId);\n",
              "  const steps = outputElement.steps;\n",
              "\n",
              "  const next = steps.next(outputElement.lastPromiseValue);\n",
              "  return Promise.resolve(next.value.promise).then((value) => {\n",
              "    // Cache the last promise value to make it available to the next\n",
              "    // step of the generator.\n",
              "    outputElement.lastPromiseValue = value;\n",
              "    return next.value.response;\n",
              "  });\n",
              "}\n",
              "\n",
              "/**\n",
              " * Generator function which is called between each async step of the upload\n",
              " * process.\n",
              " * @param {string} inputId Element ID of the input file picker element.\n",
              " * @param {string} outputId Element ID of the output display.\n",
              " * @return {!Iterable<!Object>} Iterable of next steps.\n",
              " */\n",
              "function* uploadFilesStep(inputId, outputId) {\n",
              "  const inputElement = document.getElementById(inputId);\n",
              "  inputElement.disabled = false;\n",
              "\n",
              "  const outputElement = document.getElementById(outputId);\n",
              "  outputElement.innerHTML = '';\n",
              "\n",
              "  const pickedPromise = new Promise((resolve) => {\n",
              "    inputElement.addEventListener('change', (e) => {\n",
              "      resolve(e.target.files);\n",
              "    });\n",
              "  });\n",
              "\n",
              "  const cancel = document.createElement('button');\n",
              "  inputElement.parentElement.appendChild(cancel);\n",
              "  cancel.textContent = 'Cancel upload';\n",
              "  const cancelPromise = new Promise((resolve) => {\n",
              "    cancel.onclick = () => {\n",
              "      resolve(null);\n",
              "    };\n",
              "  });\n",
              "\n",
              "  // Wait for the user to pick the files.\n",
              "  const files = yield {\n",
              "    promise: Promise.race([pickedPromise, cancelPromise]),\n",
              "    response: {\n",
              "      action: 'starting',\n",
              "    }\n",
              "  };\n",
              "\n",
              "  cancel.remove();\n",
              "\n",
              "  // Disable the input element since further picks are not allowed.\n",
              "  inputElement.disabled = true;\n",
              "\n",
              "  if (!files) {\n",
              "    return {\n",
              "      response: {\n",
              "        action: 'complete',\n",
              "      }\n",
              "    };\n",
              "  }\n",
              "\n",
              "  for (const file of files) {\n",
              "    const li = document.createElement('li');\n",
              "    li.append(span(file.name, {fontWeight: 'bold'}));\n",
              "    li.append(span(\n",
              "        `(${file.type || 'n/a'}) - ${file.size} bytes, ` +\n",
              "        `last modified: ${\n",
              "            file.lastModifiedDate ? file.lastModifiedDate.toLocaleDateString() :\n",
              "                                    'n/a'} - `));\n",
              "    const percent = span('0% done');\n",
              "    li.appendChild(percent);\n",
              "\n",
              "    outputElement.appendChild(li);\n",
              "\n",
              "    const fileDataPromise = new Promise((resolve) => {\n",
              "      const reader = new FileReader();\n",
              "      reader.onload = (e) => {\n",
              "        resolve(e.target.result);\n",
              "      };\n",
              "      reader.readAsArrayBuffer(file);\n",
              "    });\n",
              "    // Wait for the data to be ready.\n",
              "    let fileData = yield {\n",
              "      promise: fileDataPromise,\n",
              "      response: {\n",
              "        action: 'continue',\n",
              "      }\n",
              "    };\n",
              "\n",
              "    // Use a chunked sending to avoid message size limits. See b/62115660.\n",
              "    let position = 0;\n",
              "    do {\n",
              "      const length = Math.min(fileData.byteLength - position, MAX_PAYLOAD_SIZE);\n",
              "      const chunk = new Uint8Array(fileData, position, length);\n",
              "      position += length;\n",
              "\n",
              "      const base64 = btoa(String.fromCharCode.apply(null, chunk));\n",
              "      yield {\n",
              "        response: {\n",
              "          action: 'append',\n",
              "          file: file.name,\n",
              "          data: base64,\n",
              "        },\n",
              "      };\n",
              "\n",
              "      let percentDone = fileData.byteLength === 0 ?\n",
              "          100 :\n",
              "          Math.round((position / fileData.byteLength) * 100);\n",
              "      percent.textContent = `${percentDone}% done`;\n",
              "\n",
              "    } while (position < fileData.byteLength);\n",
              "  }\n",
              "\n",
              "  // All done.\n",
              "  yield {\n",
              "    response: {\n",
              "      action: 'complete',\n",
              "    }\n",
              "  };\n",
              "}\n",
              "\n",
              "scope.google = scope.google || {};\n",
              "scope.google.colab = scope.google.colab || {};\n",
              "scope.google.colab._files = {\n",
              "  _uploadFiles,\n",
              "  _uploadFilesContinue,\n",
              "};\n",
              "})(self);\n",
              "</script> "
            ]
          },
          "metadata": {}
        },
        {
          "output_type": "stream",
          "name": "stdout",
          "text": [
            "Saving country.csv to country.csv\n"
          ]
        }
      ]
    },
    {
      "cell_type": "code",
      "source": [
        "# Mostrar tabelas com pandas\n",
        "print('unicorn_companies')\n",
        "display(pd.read_csv('unicorn_companies.csv').tail())"
      ],
      "metadata": {
        "colab": {
          "base_uri": "https://localhost:8080/",
          "height": 224
        },
        "id": "n1i3E0ZdPpit",
        "outputId": "4c1e54d9-819f-43c7-caa7-490ac2b888d3"
      },
      "execution_count": null,
      "outputs": [
        {
          "output_type": "stream",
          "name": "stdout",
          "text": [
            "unicorn_companies\n"
          ]
        },
        {
          "output_type": "display_data",
          "data": {
            "text/plain": [
              "    Company  Valuation  Date_Added        Country  \\\n",
              "912  Heyday        1.0  2021-11-16  United States   \n",
              "913   PLACE        1.0  2021-11-17  United States   \n",
              "914  Stytch        1.0  2021-11-18  United States   \n",
              "915   Owkin        1.0  2021-11-18  United States   \n",
              "916   Expel        1.0  2021-11-18  United States   \n",
              "\n",
              "                            Category  \\\n",
              "912  E-commerce & direct-to-consumer   \n",
              "913     Internet software & services   \n",
              "914                    Cybersecurity   \n",
              "915          Artificial Intelligence   \n",
              "916                    Cybersecurity   \n",
              "\n",
              "                                      Select_Investors  \n",
              "912  Khosla Ventures,General Catalyst, Victory Park...  \n",
              "913                 Goldman Sachs Asset Management, 3L  \n",
              "914          Index Ventures, Benchmark, Thrive Capital  \n",
              "915    Google Ventures, Cathay Innovation, NJF Capital  \n",
              "916  Paladin Capital Group, Greycroft, Scale Ventur...  "
            ],
            "text/html": [
              "\n",
              "  <div id=\"df-d9d4f5dd-a663-4b1b-91bb-61e33d22122f\">\n",
              "    <div class=\"colab-df-container\">\n",
              "      <div>\n",
              "<style scoped>\n",
              "    .dataframe tbody tr th:only-of-type {\n",
              "        vertical-align: middle;\n",
              "    }\n",
              "\n",
              "    .dataframe tbody tr th {\n",
              "        vertical-align: top;\n",
              "    }\n",
              "\n",
              "    .dataframe thead th {\n",
              "        text-align: right;\n",
              "    }\n",
              "</style>\n",
              "<table border=\"1\" class=\"dataframe\">\n",
              "  <thead>\n",
              "    <tr style=\"text-align: right;\">\n",
              "      <th></th>\n",
              "      <th>Company</th>\n",
              "      <th>Valuation</th>\n",
              "      <th>Date_Added</th>\n",
              "      <th>Country</th>\n",
              "      <th>Category</th>\n",
              "      <th>Select_Investors</th>\n",
              "    </tr>\n",
              "  </thead>\n",
              "  <tbody>\n",
              "    <tr>\n",
              "      <th>912</th>\n",
              "      <td>Heyday</td>\n",
              "      <td>1.0</td>\n",
              "      <td>2021-11-16</td>\n",
              "      <td>United States</td>\n",
              "      <td>E-commerce &amp; direct-to-consumer</td>\n",
              "      <td>Khosla Ventures,General Catalyst, Victory Park...</td>\n",
              "    </tr>\n",
              "    <tr>\n",
              "      <th>913</th>\n",
              "      <td>PLACE</td>\n",
              "      <td>1.0</td>\n",
              "      <td>2021-11-17</td>\n",
              "      <td>United States</td>\n",
              "      <td>Internet software &amp; services</td>\n",
              "      <td>Goldman Sachs Asset Management, 3L</td>\n",
              "    </tr>\n",
              "    <tr>\n",
              "      <th>914</th>\n",
              "      <td>Stytch</td>\n",
              "      <td>1.0</td>\n",
              "      <td>2021-11-18</td>\n",
              "      <td>United States</td>\n",
              "      <td>Cybersecurity</td>\n",
              "      <td>Index Ventures, Benchmark, Thrive Capital</td>\n",
              "    </tr>\n",
              "    <tr>\n",
              "      <th>915</th>\n",
              "      <td>Owkin</td>\n",
              "      <td>1.0</td>\n",
              "      <td>2021-11-18</td>\n",
              "      <td>United States</td>\n",
              "      <td>Artificial Intelligence</td>\n",
              "      <td>Google Ventures, Cathay Innovation, NJF Capital</td>\n",
              "    </tr>\n",
              "    <tr>\n",
              "      <th>916</th>\n",
              "      <td>Expel</td>\n",
              "      <td>1.0</td>\n",
              "      <td>2021-11-18</td>\n",
              "      <td>United States</td>\n",
              "      <td>Cybersecurity</td>\n",
              "      <td>Paladin Capital Group, Greycroft, Scale Ventur...</td>\n",
              "    </tr>\n",
              "  </tbody>\n",
              "</table>\n",
              "</div>\n",
              "      <button class=\"colab-df-convert\" onclick=\"convertToInteractive('df-d9d4f5dd-a663-4b1b-91bb-61e33d22122f')\"\n",
              "              title=\"Convert this dataframe to an interactive table.\"\n",
              "              style=\"display:none;\">\n",
              "        \n",
              "  <svg xmlns=\"http://www.w3.org/2000/svg\" height=\"24px\"viewBox=\"0 0 24 24\"\n",
              "       width=\"24px\">\n",
              "    <path d=\"M0 0h24v24H0V0z\" fill=\"none\"/>\n",
              "    <path d=\"M18.56 5.44l.94 2.06.94-2.06 2.06-.94-2.06-.94-.94-2.06-.94 2.06-2.06.94zm-11 1L8.5 8.5l.94-2.06 2.06-.94-2.06-.94L8.5 2.5l-.94 2.06-2.06.94zm10 10l.94 2.06.94-2.06 2.06-.94-2.06-.94-.94-2.06-.94 2.06-2.06.94z\"/><path d=\"M17.41 7.96l-1.37-1.37c-.4-.4-.92-.59-1.43-.59-.52 0-1.04.2-1.43.59L10.3 9.45l-7.72 7.72c-.78.78-.78 2.05 0 2.83L4 21.41c.39.39.9.59 1.41.59.51 0 1.02-.2 1.41-.59l7.78-7.78 2.81-2.81c.8-.78.8-2.07 0-2.86zM5.41 20L4 18.59l7.72-7.72 1.47 1.35L5.41 20z\"/>\n",
              "  </svg>\n",
              "      </button>\n",
              "      \n",
              "  <style>\n",
              "    .colab-df-container {\n",
              "      display:flex;\n",
              "      flex-wrap:wrap;\n",
              "      gap: 12px;\n",
              "    }\n",
              "\n",
              "    .colab-df-convert {\n",
              "      background-color: #E8F0FE;\n",
              "      border: none;\n",
              "      border-radius: 50%;\n",
              "      cursor: pointer;\n",
              "      display: none;\n",
              "      fill: #1967D2;\n",
              "      height: 32px;\n",
              "      padding: 0 0 0 0;\n",
              "      width: 32px;\n",
              "    }\n",
              "\n",
              "    .colab-df-convert:hover {\n",
              "      background-color: #E2EBFA;\n",
              "      box-shadow: 0px 1px 2px rgba(60, 64, 67, 0.3), 0px 1px 3px 1px rgba(60, 64, 67, 0.15);\n",
              "      fill: #174EA6;\n",
              "    }\n",
              "\n",
              "    [theme=dark] .colab-df-convert {\n",
              "      background-color: #3B4455;\n",
              "      fill: #D2E3FC;\n",
              "    }\n",
              "\n",
              "    [theme=dark] .colab-df-convert:hover {\n",
              "      background-color: #434B5C;\n",
              "      box-shadow: 0px 1px 3px 1px rgba(0, 0, 0, 0.15);\n",
              "      filter: drop-shadow(0px 1px 2px rgba(0, 0, 0, 0.3));\n",
              "      fill: #FFFFFF;\n",
              "    }\n",
              "  </style>\n",
              "\n",
              "      <script>\n",
              "        const buttonEl =\n",
              "          document.querySelector('#df-d9d4f5dd-a663-4b1b-91bb-61e33d22122f button.colab-df-convert');\n",
              "        buttonEl.style.display =\n",
              "          google.colab.kernel.accessAllowed ? 'block' : 'none';\n",
              "\n",
              "        async function convertToInteractive(key) {\n",
              "          const element = document.querySelector('#df-d9d4f5dd-a663-4b1b-91bb-61e33d22122f');\n",
              "          const dataTable =\n",
              "            await google.colab.kernel.invokeFunction('convertToInteractive',\n",
              "                                                     [key], {});\n",
              "          if (!dataTable) return;\n",
              "\n",
              "          const docLinkHtml = 'Like what you see? Visit the ' +\n",
              "            '<a target=\"_blank\" href=https://colab.research.google.com/notebooks/data_table.ipynb>data table notebook</a>'\n",
              "            + ' to learn more about interactive tables.';\n",
              "          element.innerHTML = '';\n",
              "          dataTable['output_type'] = 'display_data';\n",
              "          await google.colab.output.renderOutput(dataTable, element);\n",
              "          const docLink = document.createElement('div');\n",
              "          docLink.innerHTML = docLinkHtml;\n",
              "          element.appendChild(docLink);\n",
              "        }\n",
              "      </script>\n",
              "    </div>\n",
              "  </div>\n",
              "  "
            ]
          },
          "metadata": {}
        }
      ]
    },
    {
      "cell_type": "code",
      "source": [
        "print('country')\n",
        "display(pd.read_csv('country.csv').tail())"
      ],
      "metadata": {
        "colab": {
          "base_uri": "https://localhost:8080/",
          "height": 224
        },
        "id": "0or-H4duCT2N",
        "outputId": "0d4b3cfc-b533-4128-f0f0-437676602603"
      },
      "execution_count": null,
      "outputs": [
        {
          "output_type": "stream",
          "name": "stdout",
          "text": [
            "country\n"
          ]
        },
        {
          "output_type": "display_data",
          "data": {
            "text/plain": [
              "                       Country ISO_Alpha3_Code  M49_Code         Region_1  \\\n",
              "244  Wallis and Futuna Islands             WLF       876        Polynesia   \n",
              "245             Western Sahara             ESH       732  Northern Africa   \n",
              "246                      Yemen             YEM       887     Western Asia   \n",
              "247                     Zambia             ZMB       894   Eastern Africa   \n",
              "248                   Zimbabwe             ZWE       716   Eastern Africa   \n",
              "\n",
              "               Region_2 Continent  \n",
              "244                 NaN   Oceania  \n",
              "245                 NaN    Africa  \n",
              "246                 NaN      Asia  \n",
              "247  Sub-Saharan Africa    Africa  \n",
              "248  Sub-Saharan Africa    Africa  "
            ],
            "text/html": [
              "\n",
              "  <div id=\"df-8d9cb414-d407-420b-81de-6e127fed350f\">\n",
              "    <div class=\"colab-df-container\">\n",
              "      <div>\n",
              "<style scoped>\n",
              "    .dataframe tbody tr th:only-of-type {\n",
              "        vertical-align: middle;\n",
              "    }\n",
              "\n",
              "    .dataframe tbody tr th {\n",
              "        vertical-align: top;\n",
              "    }\n",
              "\n",
              "    .dataframe thead th {\n",
              "        text-align: right;\n",
              "    }\n",
              "</style>\n",
              "<table border=\"1\" class=\"dataframe\">\n",
              "  <thead>\n",
              "    <tr style=\"text-align: right;\">\n",
              "      <th></th>\n",
              "      <th>Country</th>\n",
              "      <th>ISO_Alpha3_Code</th>\n",
              "      <th>M49_Code</th>\n",
              "      <th>Region_1</th>\n",
              "      <th>Region_2</th>\n",
              "      <th>Continent</th>\n",
              "    </tr>\n",
              "  </thead>\n",
              "  <tbody>\n",
              "    <tr>\n",
              "      <th>244</th>\n",
              "      <td>Wallis and Futuna Islands</td>\n",
              "      <td>WLF</td>\n",
              "      <td>876</td>\n",
              "      <td>Polynesia</td>\n",
              "      <td>NaN</td>\n",
              "      <td>Oceania</td>\n",
              "    </tr>\n",
              "    <tr>\n",
              "      <th>245</th>\n",
              "      <td>Western Sahara</td>\n",
              "      <td>ESH</td>\n",
              "      <td>732</td>\n",
              "      <td>Northern Africa</td>\n",
              "      <td>NaN</td>\n",
              "      <td>Africa</td>\n",
              "    </tr>\n",
              "    <tr>\n",
              "      <th>246</th>\n",
              "      <td>Yemen</td>\n",
              "      <td>YEM</td>\n",
              "      <td>887</td>\n",
              "      <td>Western Asia</td>\n",
              "      <td>NaN</td>\n",
              "      <td>Asia</td>\n",
              "    </tr>\n",
              "    <tr>\n",
              "      <th>247</th>\n",
              "      <td>Zambia</td>\n",
              "      <td>ZMB</td>\n",
              "      <td>894</td>\n",
              "      <td>Eastern Africa</td>\n",
              "      <td>Sub-Saharan Africa</td>\n",
              "      <td>Africa</td>\n",
              "    </tr>\n",
              "    <tr>\n",
              "      <th>248</th>\n",
              "      <td>Zimbabwe</td>\n",
              "      <td>ZWE</td>\n",
              "      <td>716</td>\n",
              "      <td>Eastern Africa</td>\n",
              "      <td>Sub-Saharan Africa</td>\n",
              "      <td>Africa</td>\n",
              "    </tr>\n",
              "  </tbody>\n",
              "</table>\n",
              "</div>\n",
              "      <button class=\"colab-df-convert\" onclick=\"convertToInteractive('df-8d9cb414-d407-420b-81de-6e127fed350f')\"\n",
              "              title=\"Convert this dataframe to an interactive table.\"\n",
              "              style=\"display:none;\">\n",
              "        \n",
              "  <svg xmlns=\"http://www.w3.org/2000/svg\" height=\"24px\"viewBox=\"0 0 24 24\"\n",
              "       width=\"24px\">\n",
              "    <path d=\"M0 0h24v24H0V0z\" fill=\"none\"/>\n",
              "    <path d=\"M18.56 5.44l.94 2.06.94-2.06 2.06-.94-2.06-.94-.94-2.06-.94 2.06-2.06.94zm-11 1L8.5 8.5l.94-2.06 2.06-.94-2.06-.94L8.5 2.5l-.94 2.06-2.06.94zm10 10l.94 2.06.94-2.06 2.06-.94-2.06-.94-.94-2.06-.94 2.06-2.06.94z\"/><path d=\"M17.41 7.96l-1.37-1.37c-.4-.4-.92-.59-1.43-.59-.52 0-1.04.2-1.43.59L10.3 9.45l-7.72 7.72c-.78.78-.78 2.05 0 2.83L4 21.41c.39.39.9.59 1.41.59.51 0 1.02-.2 1.41-.59l7.78-7.78 2.81-2.81c.8-.78.8-2.07 0-2.86zM5.41 20L4 18.59l7.72-7.72 1.47 1.35L5.41 20z\"/>\n",
              "  </svg>\n",
              "      </button>\n",
              "      \n",
              "  <style>\n",
              "    .colab-df-container {\n",
              "      display:flex;\n",
              "      flex-wrap:wrap;\n",
              "      gap: 12px;\n",
              "    }\n",
              "\n",
              "    .colab-df-convert {\n",
              "      background-color: #E8F0FE;\n",
              "      border: none;\n",
              "      border-radius: 50%;\n",
              "      cursor: pointer;\n",
              "      display: none;\n",
              "      fill: #1967D2;\n",
              "      height: 32px;\n",
              "      padding: 0 0 0 0;\n",
              "      width: 32px;\n",
              "    }\n",
              "\n",
              "    .colab-df-convert:hover {\n",
              "      background-color: #E2EBFA;\n",
              "      box-shadow: 0px 1px 2px rgba(60, 64, 67, 0.3), 0px 1px 3px 1px rgba(60, 64, 67, 0.15);\n",
              "      fill: #174EA6;\n",
              "    }\n",
              "\n",
              "    [theme=dark] .colab-df-convert {\n",
              "      background-color: #3B4455;\n",
              "      fill: #D2E3FC;\n",
              "    }\n",
              "\n",
              "    [theme=dark] .colab-df-convert:hover {\n",
              "      background-color: #434B5C;\n",
              "      box-shadow: 0px 1px 3px 1px rgba(0, 0, 0, 0.15);\n",
              "      filter: drop-shadow(0px 1px 2px rgba(0, 0, 0, 0.3));\n",
              "      fill: #FFFFFF;\n",
              "    }\n",
              "  </style>\n",
              "\n",
              "      <script>\n",
              "        const buttonEl =\n",
              "          document.querySelector('#df-8d9cb414-d407-420b-81de-6e127fed350f button.colab-df-convert');\n",
              "        buttonEl.style.display =\n",
              "          google.colab.kernel.accessAllowed ? 'block' : 'none';\n",
              "\n",
              "        async function convertToInteractive(key) {\n",
              "          const element = document.querySelector('#df-8d9cb414-d407-420b-81de-6e127fed350f');\n",
              "          const dataTable =\n",
              "            await google.colab.kernel.invokeFunction('convertToInteractive',\n",
              "                                                     [key], {});\n",
              "          if (!dataTable) return;\n",
              "\n",
              "          const docLinkHtml = 'Like what you see? Visit the ' +\n",
              "            '<a target=\"_blank\" href=https://colab.research.google.com/notebooks/data_table.ipynb>data table notebook</a>'\n",
              "            + ' to learn more about interactive tables.';\n",
              "          element.innerHTML = '';\n",
              "          dataTable['output_type'] = 'display_data';\n",
              "          await google.colab.output.renderOutput(dataTable, element);\n",
              "          const docLink = document.createElement('div');\n",
              "          docLink.innerHTML = docLinkHtml;\n",
              "          element.appendChild(docLink);\n",
              "        }\n",
              "      </script>\n",
              "    </div>\n",
              "  </div>\n",
              "  "
            ]
          },
          "metadata": {}
        }
      ]
    },
    {
      "cell_type": "markdown",
      "source": [
        "Podemos carregar arquivos utilizando a `SparkSession` através do módulo `read`, que possibilita a leitura de arquivos csv, parquet, dentre outros."
      ],
      "metadata": {
        "id": "Yw7xbChRQW3P"
      }
    },
    {
      "cell_type": "code",
      "source": [
        "# Carregar dados com Spark\n",
        "df = spark.read.csv('unicorn_companies.csv', header=True, inferSchema=True)\n",
        "df_country = spark.read.csv('country.csv', header=True, inferSchema=True)"
      ],
      "metadata": {
        "id": "JOMjC3OennnG"
      },
      "execution_count": null,
      "outputs": []
    },
    {
      "cell_type": "markdown",
      "source": [
        "# Playground\n",
        "\n"
      ],
      "metadata": {
        "id": "YDf0rozs95tq"
      }
    },
    {
      "cell_type": "markdown",
      "source": [
        "## Partitions \n",
        "\n",
        "O particionamento no Spark é uma propriedade dos _[Resilient Distributed Datasets](https://spark.apache.org/docs/latest/rdd-programming-guide.html#overview)_ (RDDs), que são elementos de dados distribuídos **sem schema definido**. Para explorar esta propriedade, podemos converter os DataFrames em RDDs e utilizar os seguintes métodos:\n",
        "\n",
        "- `DataFrame.rdd.getNumPartitions()`\n",
        "- `DataFrame.rdd.repartition()`\n",
        "\n",
        "Leia mais em: [Apache Spark RDD vs DataFrame vs DataSet](https://data-flair.training/blogs/apache-spark-rdd-vs-dataframe-vs-dataset/)"
      ],
      "metadata": {
        "id": "cx7-4z-lbC0X"
      }
    },
    {
      "cell_type": "code",
      "source": [
        "# Mostrando num de partições (como são poucos dados, Spark configurou apenas uma)\n",
        "df.rdd.getNumPartitions()"
      ],
      "metadata": {
        "colab": {
          "base_uri": "https://localhost:8080/"
        },
        "id": "8bs1ekO5BLwv",
        "outputId": "889e0081-1809-4741-9347-2ec317511d59"
      },
      "execution_count": null,
      "outputs": [
        {
          "output_type": "execute_result",
          "data": {
            "text/plain": [
              "1"
            ]
          },
          "metadata": {},
          "execution_count": 12
        }
      ]
    },
    {
      "cell_type": "code",
      "source": [
        "# Reparticionando para duas partições\n",
        "df = df.repartition(2)\n",
        "df.rdd.getNumPartitions()"
      ],
      "metadata": {
        "id": "M0nI77chDeB6",
        "colab": {
          "base_uri": "https://localhost:8080/"
        },
        "outputId": "6b0d5208-af96-495f-ba9a-a5dd3ea86b58"
      },
      "execution_count": null,
      "outputs": [
        {
          "output_type": "execute_result",
          "data": {
            "text/plain": [
              "2"
            ]
          },
          "metadata": {},
          "execution_count": 13
        }
      ]
    },
    {
      "cell_type": "code",
      "source": [
        "# df.write.mode(\"overwrite\").partitionBy(\"Country\").csv('./data', header=True)\n",
        "df.repartition(5, \"Country\").write.mode(\"overwrite\").csv('./data', header=True)"
      ],
      "metadata": {
        "id": "3LFKHX0NLFL3"
      },
      "execution_count": null,
      "outputs": []
    },
    {
      "cell_type": "markdown",
      "source": [
        "## Verify & cast data types\n",
        "\n",
        "Como o DataFrame é uma estrutura de dados com schema (ou seja, colunas com nomes e tipos definidos), precisamos garantir que o schema possua os tipos corretos."
      ],
      "metadata": {
        "id": "-5xj10VE9_YH"
      }
    },
    {
      "cell_type": "code",
      "source": [
        "df"
      ],
      "metadata": {
        "colab": {
          "base_uri": "https://localhost:8080/"
        },
        "id": "u6LQqYRU-G3N",
        "outputId": "dac95493-c09e-4ef7-8ad4-ae4c6dfd5986"
      },
      "execution_count": null,
      "outputs": [
        {
          "output_type": "execute_result",
          "data": {
            "text/plain": [
              "DataFrame[Company: string, Valuation: double, Date_Added: timestamp, Country: string, Category: string, Select_Investors: string]"
            ]
          },
          "metadata": {},
          "execution_count": 16
        }
      ]
    },
    {
      "cell_type": "code",
      "source": [
        "df.printSchema()"
      ],
      "metadata": {
        "colab": {
          "base_uri": "https://localhost:8080/"
        },
        "id": "KeByIsM_9-np",
        "outputId": "ba9ae226-db6a-4ca2-f264-d2b0a4de9241"
      },
      "execution_count": null,
      "outputs": [
        {
          "output_type": "stream",
          "name": "stdout",
          "text": [
            "root\n",
            " |-- Company: string (nullable = true)\n",
            " |-- Valuation: double (nullable = true)\n",
            " |-- Date_Added: timestamp (nullable = true)\n",
            " |-- Country: string (nullable = true)\n",
            " |-- Category: string (nullable = true)\n",
            " |-- Select_Investors: string (nullable = true)\n",
            "\n"
          ]
        }
      ]
    },
    {
      "cell_type": "code",
      "source": [
        "df.show(5)"
      ],
      "metadata": {
        "colab": {
          "base_uri": "https://localhost:8080/"
        },
        "id": "LsM-DKPogIAk",
        "outputId": "2d0fee09-807e-4cfc-ba3e-bbf19e88680b"
      },
      "execution_count": null,
      "outputs": [
        {
          "output_type": "stream",
          "name": "stdout",
          "text": [
            "+-------------+---------+-------------------+--------------+--------------------+--------------------+\n",
            "|      Company|Valuation|         Date_Added|       Country|            Category|    Select_Investors|\n",
            "+-------------+---------+-------------------+--------------+--------------------+--------------------+\n",
            "|          FTX|     25.0|2021-07-20 00:00:00|     Hong Kong|             Fintech|Sequoia Capital, ...|\n",
            "|        Unico|      1.0|2021-08-03 00:00:00|        Brazil|Artificial intell...|Big Bets, General...|\n",
            "|  Star Charge|     2.41|2021-05-19 00:00:00|         China|Auto & transporta...|Shunwei Capital P...|\n",
            "|Intellifusion|      1.0|2019-03-22 00:00:00|         China|Artificial intell...|BOC International...|\n",
            "|    Matillion|      1.5|2021-09-15 00:00:00|United Kingdom|Data management &...|Scale Venture Par...|\n",
            "+-------------+---------+-------------------+--------------+--------------------+--------------------+\n",
            "only showing top 5 rows\n",
            "\n"
          ]
        }
      ]
    },
    {
      "cell_type": "markdown",
      "source": [
        "Podemos realizar modificações no schema do DataFrame de diversas formas: \n",
        "- Através do método `Column.cast()`\n",
        "- Especificando o schema na leitura do arquivo através de um `StructType`"
      ],
      "metadata": {
        "id": "Ws638hZJ_NIL"
      }
    },
    {
      "cell_type": "code",
      "source": [
        "df = df.withColumn('Date_Added', F.col('Date_Added').cast('date'))"
      ],
      "metadata": {
        "id": "IniWVpjV-JlN"
      },
      "execution_count": null,
      "outputs": []
    },
    {
      "cell_type": "code",
      "source": [
        "df.printSchema()"
      ],
      "metadata": {
        "colab": {
          "base_uri": "https://localhost:8080/"
        },
        "id": "-SoGNKEm-JgQ",
        "outputId": "5753a9c8-5103-4111-fce3-475474a4d9e2"
      },
      "execution_count": null,
      "outputs": [
        {
          "output_type": "stream",
          "name": "stdout",
          "text": [
            "root\n",
            " |-- Company: string (nullable = true)\n",
            " |-- Valuation: double (nullable = true)\n",
            " |-- Date_Added: date (nullable = true)\n",
            " |-- Country: string (nullable = true)\n",
            " |-- Category: string (nullable = true)\n",
            " |-- Select_Investors: string (nullable = true)\n",
            "\n"
          ]
        }
      ]
    },
    {
      "cell_type": "markdown",
      "source": [
        "Especificando um schema com `StructType`, que também pode ser usado para definir quais colunas serão carregadas no DataFrame.\n",
        "\n",
        "A listagem de todos os tipos se encontra na [documentação](https://spark.apache.org/docs/latest/sql-ref-datatypes.html). "
      ],
      "metadata": {
        "id": "qdkl4x5B4Lys"
      }
    },
    {
      "cell_type": "code",
      "source": [
        "schema = StructType([\n",
        "    StructField('Company', StringType()),\n",
        "    StructField('Valuation', DoubleType()),\n",
        "    StructField('Date_Added', DateType()),\n",
        "    StructField('Country', StringType()),\n",
        "    StructField('Category', StringType()),\n",
        "    StructField('Select_Investors', StringType())\n",
        "])\n",
        "\n",
        "df = spark.read.csv('unicorn_companies.csv', header=True, schema=schema)\n",
        "df = df.repartition(2)\n",
        "df.printSchema()"
      ],
      "metadata": {
        "colab": {
          "base_uri": "https://localhost:8080/"
        },
        "id": "nWouZRzRqBjL",
        "outputId": "4e43e28f-655c-4ab2-be3b-40d2f5fff07e"
      },
      "execution_count": null,
      "outputs": [
        {
          "output_type": "stream",
          "name": "stdout",
          "text": [
            "root\n",
            " |-- Company: string (nullable = true)\n",
            " |-- Valuation: double (nullable = true)\n",
            " |-- Date_Added: date (nullable = true)\n",
            " |-- Country: string (nullable = true)\n",
            " |-- Category: string (nullable = true)\n",
            " |-- Select_Investors: string (nullable = true)\n",
            "\n"
          ]
        }
      ]
    },
    {
      "cell_type": "markdown",
      "source": [
        "## Describe function\n",
        "\n",
        "O método `describe` traz diversas estatísticas de todas as colunas do DataFrame, como `count`, `mean`, `min` e `max`. "
      ],
      "metadata": {
        "id": "yht02_hXfhWi"
      }
    },
    {
      "cell_type": "code",
      "source": [
        "df.describe().show()"
      ],
      "metadata": {
        "colab": {
          "base_uri": "https://localhost:8080/"
        },
        "id": "fkoBTnZdfgqL",
        "outputId": "79be51c4-069d-4a72-ac7b-6a691b11bd90"
      },
      "execution_count": null,
      "outputs": [
        {
          "output_type": "stream",
          "name": "stdout",
          "text": [
            "+-------+----------+-----------------+---------+--------------------+--------------------+\n",
            "|summary|   Company|        Valuation|  Country|            Category|    Select_Investors|\n",
            "+-------+----------+-----------------+---------+--------------------+--------------------+\n",
            "|  count|       917|              917|      917|                 917|                 916|\n",
            "|   mean|      null|3.311690294438385|     null|                null|                null|\n",
            "| stddev|      null|7.542281464806968|     null|                null|                null|\n",
            "|    min|1047 Games|              1.0|Argentina|Artificial Intell...|01 Advisors, Zeev...|\n",
            "|    max|     wefox|            140.0|  Vietnam|              Travel|next47, MaC Ventu...|\n",
            "+-------+----------+-----------------+---------+--------------------+--------------------+\n",
            "\n"
          ]
        }
      ]
    },
    {
      "cell_type": "markdown",
      "source": [
        "Se quisermos selecionar a estatística de uma determinada coluna e utilizá-la como variável, podemos fazer isso da seguinte forma:"
      ],
      "metadata": {
        "id": "OXC7hob9dz_n"
      }
    },
    {
      "cell_type": "code",
      "source": [
        "df.select(\n",
        "    F.max('Valuation').alias('Max'), \n",
        "    F.mean('Valuation').alias('Mean'),\n",
        ").collect()#[0]['Max']"
      ],
      "metadata": {
        "colab": {
          "base_uri": "https://localhost:8080/"
        },
        "id": "b-g7BFkmbYzr",
        "outputId": "3da26967-89cd-48eb-fccc-bf7e59332417"
      },
      "execution_count": null,
      "outputs": [
        {
          "output_type": "execute_result",
          "data": {
            "text/plain": [
              "[Row(Max=140.0, Mean=3.3116902944383892)]"
            ]
          },
          "metadata": {},
          "execution_count": 31
        }
      ]
    },
    {
      "cell_type": "markdown",
      "source": [
        "Diferença dos métodos [.show()](https://sparkbyexamples.com/pyspark/pyspark-show-display-dataframe-contents-in-table/) e  [.collect()](https://sparkbyexamples.com/pyspark/pyspark-collect/):\n",
        "\n",
        "- `.show()`: somente imprime o resultado (análogo ao `print`). Retorna `NoneType`.\n",
        "- `.collect()`: retorna objetos da classe [Row](https://sparkbyexamples.com/pyspark/pyspark-row-using-rdd-dataframe/) (cuidado com a memória!)"
      ],
      "metadata": {
        "id": "p--zYHw0VILc"
      }
    },
    {
      "cell_type": "markdown",
      "source": [
        "## Select & Filters"
      ],
      "metadata": {
        "id": "rLdkbx_2_Ykj"
      }
    },
    {
      "cell_type": "markdown",
      "source": [
        "Selecionando colunas e linhas (_Equivalente SQL query: `SELECT` e `WHERE`_)"
      ],
      "metadata": {
        "id": "5cfKqJ93vaWj"
      }
    },
    {
      "cell_type": "code",
      "source": [
        "df.select('Company', F.col('Company'), df.Company, df['Company'], df[0]).show(5)"
      ],
      "metadata": {
        "colab": {
          "base_uri": "https://localhost:8080/"
        },
        "id": "pVXcu7e2-Jb4",
        "outputId": "fcf9ac2f-4459-4c80-cc51-694fe243a444"
      },
      "execution_count": null,
      "outputs": [
        {
          "output_type": "stream",
          "name": "stdout",
          "text": [
            "+----------------+----------------+----------------+----------------+----------------+\n",
            "|         Company|         Company|         Company|         Company|         Company|\n",
            "+----------------+----------------+----------------+----------------+----------------+\n",
            "|           Hopin|           Hopin|           Hopin|           Hopin|           Hopin|\n",
            "|           Carro|           Carro|           Carro|           Carro|           Carro|\n",
            "|Wildlife Studios|Wildlife Studios|Wildlife Studios|Wildlife Studios|Wildlife Studios|\n",
            "| Yipin Shengxian| Yipin Shengxian| Yipin Shengxian| Yipin Shengxian| Yipin Shengxian|\n",
            "|           Loggi|           Loggi|           Loggi|           Loggi|           Loggi|\n",
            "+----------------+----------------+----------------+----------------+----------------+\n",
            "only showing top 5 rows\n",
            "\n"
          ]
        }
      ]
    },
    {
      "cell_type": "markdown",
      "source": [
        "Pata filtrar linhas a partir de uma condição, utilizamos os métodos `filter` ou `where`."
      ],
      "metadata": {
        "id": "9MUu-636-JRx"
      }
    },
    {
      "cell_type": "code",
      "source": [
        "df.filter(F.col('Country')=='Brazil').show(5)"
      ],
      "metadata": {
        "colab": {
          "base_uri": "https://localhost:8080/"
        },
        "id": "PSaLcGo0-GL4",
        "outputId": "25e94969-6f33-467d-e191-92f59fbb8b40"
      },
      "execution_count": null,
      "outputs": [
        {
          "output_type": "stream",
          "name": "stdout",
          "text": [
            "+--------------+---------+----------+-------+--------------------+--------------------+\n",
            "|       Company|Valuation|Date_Added|Country|            Category|    Select_Investors|\n",
            "+--------------+---------+----------+-------+--------------------+--------------------+\n",
            "|MadeiraMadeira|      1.0|2021-01-07| Brazil|E-commerce & dire...|Flybridge Capital...|\n",
            "|        Movile|      1.0|2018-07-12| Brazil|Mobile & telecomm...|Innova Capital - ...|\n",
            "|         Loggi|      2.0|2019-06-05| Brazil|Supply chain, log...|Qualcomm Ventures...|\n",
            "|        CargoX|      1.0|2021-10-21| Brazil|Supply chain, log...|Valor Capital Gro...|\n",
            "|      Creditas|     1.75|2020-12-18| Brazil|             Fintech|Kaszek Ventures, ...|\n",
            "+--------------+---------+----------+-------+--------------------+--------------------+\n",
            "only showing top 5 rows\n",
            "\n"
          ]
        }
      ]
    },
    {
      "cell_type": "code",
      "source": [
        "df.where(F.col('Country')=='Brazil').show(5)"
      ],
      "metadata": {
        "colab": {
          "base_uri": "https://localhost:8080/"
        },
        "id": "RqmBm4q1ASIn",
        "outputId": "7a346ffc-ec76-48e0-aada-302e9942e96a"
      },
      "execution_count": null,
      "outputs": [
        {
          "output_type": "stream",
          "name": "stdout",
          "text": [
            "+--------------+---------+----------+-------+--------------------+--------------------+\n",
            "|       Company|Valuation|Date_Added|Country|            Category|    Select_Investors|\n",
            "+--------------+---------+----------+-------+--------------------+--------------------+\n",
            "|MadeiraMadeira|      1.0|2021-01-07| Brazil|E-commerce & dire...|Flybridge Capital...|\n",
            "|        Movile|      1.0|2018-07-12| Brazil|Mobile & telecomm...|Innova Capital - ...|\n",
            "|         Loggi|      2.0|2019-06-05| Brazil|Supply chain, log...|Qualcomm Ventures...|\n",
            "|        CargoX|      1.0|2021-10-21| Brazil|Supply chain, log...|Valor Capital Gro...|\n",
            "|      Creditas|     1.75|2020-12-18| Brazil|             Fintech|Kaszek Ventures, ...|\n",
            "+--------------+---------+----------+-------+--------------------+--------------------+\n",
            "only showing top 5 rows\n",
            "\n"
          ]
        }
      ]
    },
    {
      "cell_type": "code",
      "source": [
        "# sql-like syntax\n",
        "df.filter('Country=\"Brazil\" AND Valuation > 5').show()"
      ],
      "metadata": {
        "colab": {
          "base_uri": "https://localhost:8080/"
        },
        "id": "vykgjVyWASCX",
        "outputId": "ae9068e6-2c56-44e8-c7d4-ead949595d68"
      },
      "execution_count": null,
      "outputs": [
        {
          "output_type": "stream",
          "name": "stdout",
          "text": [
            "+-----------+---------+----------+-------+--------------------+--------------------+\n",
            "|    Company|Valuation|Date_Added|Country|            Category|    Select_Investors|\n",
            "+-----------+---------+----------+-------+--------------------+--------------------+\n",
            "|     Nubank|     30.0|2018-03-01| Brazil|             Fintech|Sequoia Capital, ...|\n",
            "|    C6 Bank|     5.05|2020-12-02| Brazil|             Fintech|       Credit Suisse|\n",
            "|QuintoAndar|      5.1|2019-09-09| Brazil|E-commerce & dire...|Kaszek Ventures, ...|\n",
            "+-----------+---------+----------+-------+--------------------+--------------------+\n",
            "\n"
          ]
        }
      ]
    },
    {
      "cell_type": "markdown",
      "source": [
        "## Group By / Order By"
      ],
      "metadata": {
        "id": "XOqyq35zCVtk"
      }
    },
    {
      "cell_type": "markdown",
      "source": [
        "Utilizando sintaxe PySpark"
      ],
      "metadata": {
        "id": "SCZMpqThFRTH"
      }
    },
    {
      "cell_type": "code",
      "source": [
        "(\n",
        "  df\n",
        " .groupby('Category')\n",
        " .agg(\n",
        "    F.sum('Valuation').alias('valuation_sum'),\n",
        "    F.mean('Valuation').alias('valuation_mean')\n",
        " )\n",
        " .orderBy(F.desc('valuation_mean'))\n",
        " .show(truncate=False)\n",
        ")"
      ],
      "metadata": {
        "colab": {
          "base_uri": "https://localhost:8080/"
        },
        "id": "SeXWwPhACUNN",
        "outputId": "eb0c49ab-55e0-4001-89d5-bf9121019e43"
      },
      "execution_count": null,
      "outputs": [
        {
          "output_type": "stream",
          "name": "stdout",
          "text": [
            "+-----------------------------------+------------------+------------------+\n",
            "|Category                           |valuation_sum     |valuation_mean    |\n",
            "+-----------------------------------+------------------+------------------+\n",
            "|Finttech                           |10.0              |10.0              |\n",
            "|Other                              |245.46            |4.812941176470589 |\n",
            "|Artificial intelligence            |308.14            |4.465797101449275 |\n",
            "|Fintech                            |726.39            |3.9477717391304346|\n",
            "|Data management & analytics        |120.7             |3.448571428571429 |\n",
            "|Auto & transportation              |101.35000000000001|3.3783333333333334|\n",
            "|Edtech                             |85.37             |3.161851851851852 |\n",
            "|Hardware                           |98.59             |3.0809375         |\n",
            "|Internet software & services       |479.7099999999999 |2.9250609756097554|\n",
            "|E-commerce & direct-to-consumer    |283.11999999999995|2.918762886597938 |\n",
            "|Consumer & retail                  |64.13             |2.7882608695652173|\n",
            "|Cybersecurity                      |103.88999999999999|2.7339473684210525|\n",
            "|Supply chain, logistics, & delivery|134.08999999999997|2.6292156862745095|\n",
            "|Travel                             |36.6              |2.6142857142857143|\n",
            "|Health                             |161.49            |2.604677419354839 |\n",
            "|Mobile & telecommunications        |74.09             |2.0580555555555557|\n",
            "|Artificial Intelligence            |3.7               |1.2333333333333334|\n",
            "+-----------------------------------+------------------+------------------+\n",
            "\n"
          ]
        }
      ]
    },
    {
      "cell_type": "markdown",
      "source": [
        "Utilizando SQL syntax"
      ],
      "metadata": {
        "id": "mv7cqhIKFUGr"
      }
    },
    {
      "cell_type": "code",
      "source": [
        "df.createOrReplaceTempView('unicorn')"
      ],
      "metadata": {
        "id": "JSpvuiKWEu0v"
      },
      "execution_count": null,
      "outputs": []
    },
    {
      "cell_type": "code",
      "source": [
        "query = \"\"\"\n",
        "SELECT\n",
        "  Category,\n",
        "  SUM(Valuation) AS valuation_sum,\n",
        "  AVG(Valuation) AS valuation_mean\n",
        "FROM\n",
        "  unicorn\n",
        "GROUP BY\n",
        "  Category\n",
        "ORDER BY\n",
        "  valuation_mean DESC\n",
        "\"\"\"\n",
        "\n",
        "spark.sql(query).show(truncate=False)"
      ],
      "metadata": {
        "colab": {
          "base_uri": "https://localhost:8080/"
        },
        "id": "vDvynF7QEuyQ",
        "outputId": "ce2400b1-021c-4d77-8851-42ff6376d1cb"
      },
      "execution_count": null,
      "outputs": [
        {
          "output_type": "stream",
          "name": "stdout",
          "text": [
            "+-----------------------------------+------------------+------------------+\n",
            "|Category                           |valuation_sum     |valuation_mean    |\n",
            "+-----------------------------------+------------------+------------------+\n",
            "|Finttech                           |10.0              |10.0              |\n",
            "|Other                              |245.46            |4.812941176470589 |\n",
            "|Artificial intelligence            |308.14            |4.465797101449275 |\n",
            "|Fintech                            |726.39            |3.9477717391304346|\n",
            "|Data management & analytics        |120.7             |3.448571428571429 |\n",
            "|Auto & transportation              |101.35000000000001|3.3783333333333334|\n",
            "|Edtech                             |85.37             |3.161851851851852 |\n",
            "|Hardware                           |98.59             |3.0809375         |\n",
            "|Internet software & services       |479.7099999999999 |2.9250609756097554|\n",
            "|E-commerce & direct-to-consumer    |283.11999999999995|2.918762886597938 |\n",
            "|Consumer & retail                  |64.13             |2.7882608695652173|\n",
            "|Cybersecurity                      |103.88999999999999|2.7339473684210525|\n",
            "|Supply chain, logistics, & delivery|134.08999999999997|2.6292156862745095|\n",
            "|Travel                             |36.6              |2.6142857142857143|\n",
            "|Health                             |161.49            |2.604677419354839 |\n",
            "|Mobile & telecommunications        |74.09             |2.0580555555555557|\n",
            "|Artificial Intelligence            |3.7               |1.2333333333333334|\n",
            "+-----------------------------------+------------------+------------------+\n",
            "\n"
          ]
        }
      ]
    },
    {
      "cell_type": "markdown",
      "source": [
        "## Distinct values"
      ],
      "metadata": {
        "id": "2m_iu6m1F-Nm"
      }
    },
    {
      "cell_type": "markdown",
      "source": [
        "Contagem de valores distintos (_Equivalente SQL query: `COUNT (DISTINCT coluna)`_)"
      ],
      "metadata": {
        "id": "xaOynZf77L3S"
      }
    },
    {
      "cell_type": "code",
      "source": [
        "df.select(F.countDistinct('Category')).show()"
      ],
      "metadata": {
        "colab": {
          "base_uri": "https://localhost:8080/"
        },
        "id": "PSx4_EfEEuvp",
        "outputId": "49e2e97a-8d5b-40d3-f0a5-bbd7bc05206e"
      },
      "execution_count": null,
      "outputs": [
        {
          "output_type": "stream",
          "name": "stdout",
          "text": [
            "+------------------------+\n",
            "|count(DISTINCT Category)|\n",
            "+------------------------+\n",
            "|                      17|\n",
            "+------------------------+\n",
            "\n"
          ]
        }
      ]
    },
    {
      "cell_type": "markdown",
      "source": [
        "Apresentação de valores distintos (_Equivalente SQL query: SELECT DISTINCT_)"
      ],
      "metadata": {
        "id": "4Ctuduoo7P6j"
      }
    },
    {
      "cell_type": "code",
      "source": [
        "df.select('Category').distinct().show(truncate=False)"
      ],
      "metadata": {
        "colab": {
          "base_uri": "https://localhost:8080/"
        },
        "id": "gaoRlCTbEus6",
        "outputId": "88e3db1f-934f-495a-ce0d-1f03a6c821f0"
      },
      "execution_count": null,
      "outputs": [
        {
          "output_type": "stream",
          "name": "stdout",
          "text": [
            "+-----------------------------------+\n",
            "|Category                           |\n",
            "+-----------------------------------+\n",
            "|Cybersecurity                      |\n",
            "|E-commerce & direct-to-consumer    |\n",
            "|Artificial intelligence            |\n",
            "|Travel                             |\n",
            "|Health                             |\n",
            "|Fintech                            |\n",
            "|Edtech                             |\n",
            "|Data management & analytics        |\n",
            "|Auto & transportation              |\n",
            "|Other                              |\n",
            "|Supply chain, logistics, & delivery|\n",
            "|Mobile & telecommunications        |\n",
            "|Artificial Intelligence            |\n",
            "|Internet software & services       |\n",
            "|Hardware                           |\n",
            "|Consumer & retail                  |\n",
            "|Finttech                           |\n",
            "+-----------------------------------+\n",
            "\n"
          ]
        }
      ]
    },
    {
      "cell_type": "markdown",
      "source": [
        "Contar e apresentar valores distintos como um array"
      ],
      "metadata": {
        "id": "69v6imOU7YsY"
      }
    },
    {
      "cell_type": "code",
      "source": [
        "df.select(F.countDistinct('Category'), F.collect_set('Category')).show()"
      ],
      "metadata": {
        "colab": {
          "base_uri": "https://localhost:8080/"
        },
        "id": "tPp5ZU6OG7t7",
        "outputId": "e683712c-5ec0-4d49-99c7-6409ea5ab6e3"
      },
      "execution_count": null,
      "outputs": [
        {
          "output_type": "stream",
          "name": "stdout",
          "text": [
            "+------------------------+---------------------+\n",
            "|count(DISTINCT Category)|collect_set(Category)|\n",
            "+------------------------+---------------------+\n",
            "|                      17| [Cybersecurity, H...|\n",
            "+------------------------+---------------------+\n",
            "\n"
          ]
        }
      ]
    },
    {
      "cell_type": "markdown",
      "source": [
        "Drop duplicates"
      ],
      "metadata": {
        "id": "pdDIzJwU7uBB"
      }
    },
    {
      "cell_type": "code",
      "source": [
        "df.drop_duplicates(subset=['Category']).show()"
      ],
      "metadata": {
        "colab": {
          "base_uri": "https://localhost:8080/"
        },
        "id": "gznK7uVoEuiO",
        "outputId": "a34024fa-7588-427c-c4d8-1347a24c0990"
      },
      "execution_count": null,
      "outputs": [
        {
          "output_type": "stream",
          "name": "stdout",
          "text": [
            "+--------------------+---------+----------+--------------+--------------------+--------------------+\n",
            "|             Company|Valuation|Date_Added|       Country|            Category|    Select_Investors|\n",
            "+--------------------+---------+----------+--------------+--------------------+--------------------+\n",
            "|           SmartMore|      1.2|2021-06-24|         China|Artificial Intell...|IDG Capital, Zhen...|\n",
            "|    Shift Technology|      1.0|2021-05-05|        France|Artificial intell...|Griffin Gaming Pa...|\n",
            "|                 Via|     2.25|2020-03-30| United States|Auto & transporta...|83North, RiverPar...|\n",
            "|               Razor|      1.0|2021-11-08|       Germany|   Consumer & retail|Global Founders C...|\n",
            "|                Snyk|      8.6|2020-01-21|United Kingdom|       Cybersecurity|BOLDstart Venture...|\n",
            "|              Axtria|      1.0|2021-05-13| United States|Data management &...|Helion Venture Pa...|\n",
            "|                Away|      1.4|2019-05-15| United States|E-commerce & dire...|Global Founders C...|\n",
            "|             Degreed|      1.4|2021-04-13| United States|              Edtech|Signal Peak Ventu...|\n",
            "|               Groww|      3.0|2021-04-07|         India|             Fintech|Tiger Global Mana...|\n",
            "|Digital Currency ...|     10.0|2021-11-01| United States|            Finttech|Ribbit Capital, c...|\n",
            "|      Iluvatar CoreX|     1.55|2021-03-01|         China|            Hardware|Centurium Capital...|\n",
            "|        Reify Health|      2.2|2021-08-10| United States|              Health|Sierra Ventures, ...|\n",
            "|    Pantheon Systems|      1.0|2021-07-13| United States|Internet software...|Foundry Group, Sc...|\n",
            "|              Maimai|      1.0|2017-11-15|         China|Mobile & telecomm...|Morningside Ventu...|\n",
            "|   ABL Space Systems|      2.4|2021-03-25| United States|               Other|T. Rowe Price, Lo...|\n",
            "|             YunQuNa|      1.5|2021-06-29|         China|Supply chain, log...|Source Code Capit...|\n",
            "|             XiaoZhu|      1.5|2017-11-01|         China|              Travel|Morningside Ventu...|\n",
            "+--------------------+---------+----------+--------------+--------------------+--------------------+\n",
            "\n"
          ]
        }
      ]
    },
    {
      "cell_type": "markdown",
      "source": [
        "## Join"
      ],
      "metadata": {
        "id": "v2P6rgVSJ0yq"
      }
    },
    {
      "cell_type": "code",
      "source": [
        "df_country.show(5)"
      ],
      "metadata": {
        "colab": {
          "base_uri": "https://localhost:8080/"
        },
        "id": "HEoH8MMzqa8n",
        "outputId": "946c96b9-8b81-46bf-d027-7973d6fd743b"
      },
      "execution_count": null,
      "outputs": [
        {
          "output_type": "stream",
          "name": "stdout",
          "text": [
            "+--------------+---------------+--------+---------------+--------+---------+\n",
            "|       Country|ISO_Alpha3_Code|M49_Code|       Region_1|Region_2|Continent|\n",
            "+--------------+---------------+--------+---------------+--------+---------+\n",
            "|   Afghanistan|            AFG|       4|  Southern Asia|    null|     Asia|\n",
            "| Åland Islands|            ALA|     248|Northern Europe|    null|   Europe|\n",
            "|       Albania|            ALB|       8|Southern Europe|    null|   Europe|\n",
            "|       Algeria|            DZA|      12|Northern Africa|    null|   Africa|\n",
            "|American Samoa|            ASM|      16|      Polynesia|    null|  Oceania|\n",
            "+--------------+---------------+--------+---------------+--------+---------+\n",
            "only showing top 5 rows\n",
            "\n"
          ]
        }
      ]
    },
    {
      "cell_type": "code",
      "source": [
        "df.join(df_country, on='Country', how='inner').show()"
      ],
      "metadata": {
        "colab": {
          "base_uri": "https://localhost:8080/"
        },
        "id": "AWNAuFUdJQy2",
        "outputId": "e2de2f50-946e-4f81-8324-ed745a9a99cf"
      },
      "execution_count": null,
      "outputs": [
        {
          "output_type": "stream",
          "name": "stdout",
          "text": [
            "+-------------+-----------------+---------+----------+--------------------+--------------------+---------------+--------+------------------+--------+-------------+\n",
            "|      Country|          Company|Valuation|Date_Added|            Category|    Select_Investors|ISO_Alpha3_Code|M49_Code|          Region_1|Region_2|    Continent|\n",
            "+-------------+-----------------+---------+----------+--------------------+--------------------+---------------+--------+------------------+--------+-------------+\n",
            "|        China|           Maimai|      1.0|2017-11-15|Mobile & telecomm...|Morningside Ventu...|            CHN|     156|      Eastern Asia|    null|         Asia|\n",
            "|        China|       Apus Group|     1.73|2015-01-16|Mobile & telecomm...|Redpoint Ventures...|            CHN|     156|      Eastern Asia|    null|         Asia|\n",
            "|United States| Pantheon Systems|      1.0|2021-07-13|Internet software...|Foundry Group, Sc...|            USA|     840|  Northern America|    null|North America|\n",
            "|        India|            Groww|      3.0|2021-04-07|             Fintech|Tiger Global Mana...|            IND|     356|     Southern Asia|    null|         Asia|\n",
            "|United States|           Axtria|      1.0|2021-05-13|Data management &...|Helion Venture Pa...|            USA|     840|  Northern America|    null|North America|\n",
            "|United States|             Away|      1.4|2019-05-15|E-commerce & dire...|Global Founders C...|            USA|     840|  Northern America|    null|North America|\n",
            "|United States|     Reify Health|      2.2|2021-08-10|              Health|Sierra Ventures, ...|            USA|     840|  Northern America|    null|North America|\n",
            "|United States|          OpenWeb|      1.0|2021-11-09|Internet software...|Insight Partners,...|            USA|     840|  Northern America|    null|North America|\n",
            "|        China|    Arrail Dental|      2.0|2021-04-13|              Health|Qiming Venture Pa...|            CHN|     156|      Eastern Asia|    null|         Asia|\n",
            "|        China|   Iluvatar CoreX|     1.55|2021-03-01|            Hardware|Centurium Capital...|            CHN|     156|      Eastern Asia|    null|         Asia|\n",
            "|United States|          Degreed|      1.4|2021-04-13|              Edtech|Signal Peak Ventu...|            USA|     840|  Northern America|    null|North America|\n",
            "|       France| Shift Technology|      1.0|2021-05-05|Artificial intell...|Griffin Gaming Pa...|            FRA|     250|    Western Europe|    null|       Europe|\n",
            "|United States|       Automattic|      1.8|2013-05-27|Internet software...|Insight Venture P...|            USA|     840|  Northern America|    null|North America|\n",
            "|        China|          YunQuNa|      1.5|2021-06-29|Supply chain, log...|Source Code Capit...|            CHN|     156|      Eastern Asia|    null|         Asia|\n",
            "|        China|        Chehaoduo|      9.0|2016-03-12|E-commerce & dire...|Sequoia Capital C...|            CHN|     156|      Eastern Asia|    null|         Asia|\n",
            "|United States|              Via|     2.25|2020-03-30|Auto & transporta...|83North, RiverPar...|            USA|     840|  Northern America|    null|North America|\n",
            "|United States|ABL Space Systems|      2.4|2021-03-25|               Other|T. Rowe Price, Lo...|            USA|     840|  Northern America|    null|North America|\n",
            "|    Singapore|             Grab|     14.3|2014-12-04|Auto & transporta...|GGV Capital, Vert...|            SGP|     702|South-eastern Asia|    null|         Asia|\n",
            "|United States|        DataRobot|      6.3|2019-07-29|Artificial intell...|New Enterprise As...|            USA|     840|  Northern America|    null|North America|\n",
            "|United States|         Fanatics|     18.0|2012-06-06|E-commerce & dire...|SoftBank Group, A...|            USA|     840|  Northern America|    null|North America|\n",
            "+-------------+-----------------+---------+----------+--------------------+--------------------+---------------+--------+------------------+--------+-------------+\n",
            "only showing top 20 rows\n",
            "\n"
          ]
        }
      ]
    },
    {
      "cell_type": "markdown",
      "source": [
        "## -> Example Break point"
      ],
      "metadata": {
        "id": "VNfxB9E3-bTp"
      }
    },
    {
      "cell_type": "markdown",
      "source": [
        "**Exemplo utilizando todo conteúdo mostrado acima**\n",
        "\n",
        "Considerando apenas empresas com avaliação maior que 1 bilhão de dólares, quantas empresas temos por continente? Estas empresas fazem parte de quantos países distintos no continente?"
      ],
      "metadata": {
        "id": "ShB3reiWKk-g"
      }
    },
    {
      "cell_type": "code",
      "source": [
        "(\n",
        "  df\n",
        " .where('Valuation>1')\n",
        " .join(df_country, on='Country')\n",
        " .groupby('Continent')\n",
        " .agg(\n",
        "     F.countDistinct('Country').alias('n_country'),\n",
        "     F.count('*').alias('total_observations')\n",
        " )\n",
        " .orderBy(F.desc('n_country'))\n",
        " .show()\n",
        ")"
      ],
      "metadata": {
        "colab": {
          "base_uri": "https://localhost:8080/"
        },
        "id": "l-O3-Dj_JQmM",
        "outputId": "eed0a794-72af-4822-b138-ac928c46e44a"
      },
      "execution_count": null,
      "outputs": [
        {
          "output_type": "stream",
          "name": "stdout",
          "text": [
            "+-------------+---------+------------------+\n",
            "|    Continent|n_country|total_observations|\n",
            "+-------------+---------+------------------+\n",
            "|       Europe|       17|                83|\n",
            "|         Asia|       14|               205|\n",
            "|North America|        4|               394|\n",
            "|South America|        4|                12|\n",
            "|       Africa|        3|                 3|\n",
            "|      Oceania|        1|                 4|\n",
            "+-------------+---------+------------------+\n",
            "\n"
          ]
        }
      ]
    },
    {
      "cell_type": "markdown",
      "source": [
        "## Add, update and rename columns"
      ],
      "metadata": {
        "id": "RmBwzLl7_lKt"
      }
    },
    {
      "cell_type": "markdown",
      "source": [
        "Adicionando colunas a partir de transformações em colunas existentes"
      ],
      "metadata": {
        "id": "1QRKPgV4_uPs"
      }
    },
    {
      "cell_type": "code",
      "source": [
        "df.withColumn('Year', F.year('Date_Added')).show(5)"
      ],
      "metadata": {
        "colab": {
          "base_uri": "https://localhost:8080/"
        },
        "id": "bGMCjeVg_1H_",
        "outputId": "9adcdd9a-d550-44b0-f4e8-c72c94708697"
      },
      "execution_count": null,
      "outputs": [
        {
          "output_type": "stream",
          "name": "stdout",
          "text": [
            "+----------------+---------+----------+-------------+--------------------+--------------------+----+\n",
            "|         Company|Valuation|Date_Added|      Country|            Category|    Select_Investors|Year|\n",
            "+----------------+---------+----------+-------------+--------------------+--------------------+----+\n",
            "|          Maimai|      1.0|2017-11-15|        China|Mobile & telecomm...|Morningside Ventu...|2017|\n",
            "|      Apus Group|     1.73|2015-01-16|        China|Mobile & telecomm...|Redpoint Ventures...|2015|\n",
            "|Pantheon Systems|      1.0|2021-07-13|United States|Internet software...|Foundry Group, Sc...|2021|\n",
            "|           Groww|      3.0|2021-04-07|        India|             Fintech|Tiger Global Mana...|2021|\n",
            "|          Axtria|      1.0|2021-05-13|United States|Data management &...|Helion Venture Pa...|2021|\n",
            "+----------------+---------+----------+-------------+--------------------+--------------------+----+\n",
            "only showing top 5 rows\n",
            "\n"
          ]
        }
      ]
    },
    {
      "cell_type": "markdown",
      "source": [
        "Adicionando colunas em cadeia (veja o método [.lit()](https://sparkbyexamples.com/pyspark/pyspark-lit-add-literal-constant/))"
      ],
      "metadata": {
        "id": "dMsKA7dSA096"
      }
    },
    {
      "cell_type": "code",
      "source": [
        "valuation_mean = df.select(F.mean('Valuation')).collect()[0][0]\n",
        "\n",
        "(\n",
        "  df\n",
        " .withColumn('Year', F.year('Date_Added'))\n",
        " .withColumn('Valuation_mean', F.lit(valuation_mean))\n",
        " .show(5)\n",
        ")"
      ],
      "metadata": {
        "colab": {
          "base_uri": "https://localhost:8080/"
        },
        "id": "0v_5shVCA393",
        "outputId": "bf37f89f-7be4-4285-bd56-fb906c51e76a"
      },
      "execution_count": null,
      "outputs": [
        {
          "output_type": "stream",
          "name": "stdout",
          "text": [
            "+----------------+---------+----------+-------------+--------------------+--------------------+----+------------------+\n",
            "|         Company|Valuation|Date_Added|      Country|            Category|    Select_Investors|Year|    Valuation_mean|\n",
            "+----------------+---------+----------+-------------+--------------------+--------------------+----+------------------+\n",
            "|          Maimai|      1.0|2017-11-15|        China|Mobile & telecomm...|Morningside Ventu...|2017|3.3116902944383892|\n",
            "|      Apus Group|     1.73|2015-01-16|        China|Mobile & telecomm...|Redpoint Ventures...|2015|3.3116902944383892|\n",
            "|Pantheon Systems|      1.0|2021-07-13|United States|Internet software...|Foundry Group, Sc...|2021|3.3116902944383892|\n",
            "|           Groww|      3.0|2021-04-07|        India|             Fintech|Tiger Global Mana...|2021|3.3116902944383892|\n",
            "|          Axtria|      1.0|2021-05-13|United States|Data management &...|Helion Venture Pa...|2021|3.3116902944383892|\n",
            "+----------------+---------+----------+-------------+--------------------+--------------------+----+------------------+\n",
            "only showing top 5 rows\n",
            "\n"
          ]
        }
      ]
    },
    {
      "cell_type": "markdown",
      "source": [
        "Renomeando colunas com o método [.withColumnRenamed()](https://sparkbyexamples.com/pyspark/pyspark-rename-dataframe-column/)"
      ],
      "metadata": {
        "id": "NTAqF6PIE3wD"
      }
    },
    {
      "cell_type": "code",
      "source": [
        "df.withColumnRenamed('Date_Added', 'Date').show(5)"
      ],
      "metadata": {
        "colab": {
          "base_uri": "https://localhost:8080/"
        },
        "id": "jl-ZFTlFAE62",
        "outputId": "58f0c7b0-e243-4534-e279-0b681c35fe54"
      },
      "execution_count": null,
      "outputs": [
        {
          "output_type": "stream",
          "name": "stdout",
          "text": [
            "+----------------+---------+----------+-------------+--------------------+--------------------+\n",
            "|         Company|Valuation|      Date|      Country|            Category|    Select_Investors|\n",
            "+----------------+---------+----------+-------------+--------------------+--------------------+\n",
            "|          Maimai|      1.0|2017-11-15|        China|Mobile & telecomm...|Morningside Ventu...|\n",
            "|      Apus Group|     1.73|2015-01-16|        China|Mobile & telecomm...|Redpoint Ventures...|\n",
            "|Pantheon Systems|      1.0|2021-07-13|United States|Internet software...|Foundry Group, Sc...|\n",
            "|           Groww|      3.0|2021-04-07|        India|             Fintech|Tiger Global Mana...|\n",
            "|          Axtria|      1.0|2021-05-13|United States|Data management &...|Helion Venture Pa...|\n",
            "+----------------+---------+----------+-------------+--------------------+--------------------+\n",
            "only showing top 5 rows\n",
            "\n"
          ]
        }
      ]
    },
    {
      "cell_type": "markdown",
      "source": [
        "## Filtering/detecting patterns"
      ],
      "metadata": {
        "id": "dvDCTmNyNa5B"
      }
    },
    {
      "cell_type": "markdown",
      "source": [
        "`lower`/`upper` + `contains`"
      ],
      "metadata": {
        "id": "2vtPBokFNZaU"
      }
    },
    {
      "cell_type": "code",
      "source": [
        "(\n",
        "  df\n",
        " .filter(F.lower('Category').contains('art'))\n",
        " .select('Category')\n",
        " .distinct()\n",
        " .show(truncate=False)\n",
        ")"
      ],
      "metadata": {
        "colab": {
          "base_uri": "https://localhost:8080/"
        },
        "id": "IvGtnAhRIzpU",
        "outputId": "87cdd82f-74c3-49a3-b49f-b449d6f5cbf5"
      },
      "execution_count": null,
      "outputs": [
        {
          "output_type": "stream",
          "name": "stdout",
          "text": [
            "+-----------------------+\n",
            "|Category               |\n",
            "+-----------------------+\n",
            "|Artificial intelligence|\n",
            "|Artificial Intelligence|\n",
            "+-----------------------+\n",
            "\n"
          ]
        }
      ]
    },
    {
      "cell_type": "markdown",
      "source": [
        "Substituindo valores em _strings_ com o método [.regexp_replace()](https://sparkbyexamples.com/pyspark/pyspark-replace-column-values/#regexp_replace-replace-string-columns)."
      ],
      "metadata": {
        "id": "gDTqYQeq-6Ok"
      }
    },
    {
      "cell_type": "code",
      "source": [
        "df = df.withColumn('Category', F.regexp_replace('Category', 'intelligence', 'Intelligence'))\n",
        "# df.replace({'Artificial intelligence': 'Artificial Intelligence'}, subset=['Category'])"
      ],
      "metadata": {
        "id": "e1hx1WT7Ol55"
      },
      "execution_count": null,
      "outputs": []
    },
    {
      "cell_type": "code",
      "source": [
        "df.select('Category').distinct().show(truncate=False)"
      ],
      "metadata": {
        "colab": {
          "base_uri": "https://localhost:8080/"
        },
        "id": "8Le5FMbDOBss",
        "outputId": "3fab982e-05df-4d3a-ae34-2ddad8279364"
      },
      "execution_count": null,
      "outputs": [
        {
          "output_type": "stream",
          "name": "stdout",
          "text": [
            "+-----------------------------------+\n",
            "|Category                           |\n",
            "+-----------------------------------+\n",
            "|Cybersecurity                      |\n",
            "|E-commerce & direct-to-consumer    |\n",
            "|Travel                             |\n",
            "|Health                             |\n",
            "|Fintech                            |\n",
            "|Edtech                             |\n",
            "|Data management & analytics        |\n",
            "|Auto & transportation              |\n",
            "|Other                              |\n",
            "|Supply chain, logistics, & delivery|\n",
            "|Mobile & telecommunications        |\n",
            "|Artificial Intelligence            |\n",
            "|Internet software & services       |\n",
            "|Hardware                           |\n",
            "|Consumer & retail                  |\n",
            "|Finttech                           |\n",
            "+-----------------------------------+\n",
            "\n"
          ]
        }
      ]
    },
    {
      "cell_type": "markdown",
      "source": [
        "## Case when"
      ],
      "metadata": {
        "id": "CJbGsqEaj5X4"
      }
    },
    {
      "cell_type": "code",
      "source": [
        "(\n",
        "  df\n",
        " .withColumn(\n",
        "     'Valuation_category',\n",
        "     F.when(F.col('Valuation')<10, '10')\n",
        "     .when(F.col('Valuation')<20, '20')\n",
        "     .when(F.col('Valuation')<30, '30')\n",
        "     .when(F.col('Valuation')<40, '40')\n",
        "     .when(F.col('Valuation')<50, '50')\n",
        "     .otherwise('50+')\n",
        "     )\n",
        " .show(30)\n",
        ")"
      ],
      "metadata": {
        "colab": {
          "base_uri": "https://localhost:8080/"
        },
        "id": "DyAWiq5gj4z8",
        "outputId": "ef15943a-7b58-4d42-d748-0261070d6b14"
      },
      "execution_count": null,
      "outputs": [
        {
          "output_type": "stream",
          "name": "stdout",
          "text": [
            "+-----------------+---------+----------+--------------+--------------------+--------------------+------------------+\n",
            "|          Company|Valuation|Date_Added|       Country|            Category|    Select_Investors|Valuation_category|\n",
            "+-----------------+---------+----------+--------------+--------------------+--------------------+------------------+\n",
            "|           Maimai|      1.0|2017-11-15|         China|Mobile & telecomm...|Morningside Ventu...|                10|\n",
            "|       Apus Group|     1.73|2015-01-16|         China|Mobile & telecomm...|Redpoint Ventures...|                10|\n",
            "| Pantheon Systems|      1.0|2021-07-13| United States|Internet software...|Foundry Group, Sc...|                10|\n",
            "|            Groww|      3.0|2021-04-07|         India|             Fintech|Tiger Global Mana...|                10|\n",
            "|           Axtria|      1.0|2021-05-13| United States|Data management &...|Helion Venture Pa...|                10|\n",
            "|             Away|      1.4|2019-05-15| United States|E-commerce & dire...|Global Founders C...|                10|\n",
            "|     Reify Health|      2.2|2021-08-10| United States|              Health|Sierra Ventures, ...|                10|\n",
            "|          OpenWeb|      1.0|2021-11-09| United States|Internet software...|Insight Partners,...|                10|\n",
            "|    Arrail Dental|      2.0|2021-04-13|         China|              Health|Qiming Venture Pa...|                10|\n",
            "|   Iluvatar CoreX|     1.55|2021-03-01|         China|            Hardware|Centurium Capital...|                10|\n",
            "|          Degreed|      1.4|2021-04-13| United States|              Edtech|Signal Peak Ventu...|                10|\n",
            "| Shift Technology|      1.0|2021-05-05|        France|Artificial Intell...|Griffin Gaming Pa...|                10|\n",
            "|       Automattic|      1.8|2013-05-27| United States|Internet software...|Insight Venture P...|                10|\n",
            "|          YunQuNa|      1.5|2021-06-29|         China|Supply chain, log...|Source Code Capit...|                10|\n",
            "|        Chehaoduo|      9.0|2016-03-12|         China|E-commerce & dire...|Sequoia Capital C...|                10|\n",
            "|              Via|     2.25|2020-03-30| United States|Auto & transporta...|83North, RiverPar...|                10|\n",
            "|ABL Space Systems|      2.4|2021-03-25| United States|               Other|T. Rowe Price, Lo...|                10|\n",
            "|             Grab|     14.3|2014-12-04|     Singapore|Auto & transporta...|GGV Capital, Vert...|                20|\n",
            "|        DataRobot|      6.3|2019-07-29| United States|Artificial Intell...|New Enterprise As...|                10|\n",
            "|         Fanatics|     18.0|2012-06-06| United States|E-commerce & dire...|SoftBank Group, A...|                20|\n",
            "|             Opay|      2.0|2021-08-23|       Nigeria|             Fintech|Sequoia Capital C...|                10|\n",
            "| CoinSwitch Kuber|      1.9|2021-10-06|         India|             Fintech|Tiger Global Mana...|                10|\n",
            "|           Rubrik|      4.0|2017-04-28| United States|Data management &...|Greylock Partners...|                10|\n",
            "|           Mirakl|      3.5|2020-09-22|        France|E-commerce & dire...|Elaia Partners, 8...|                10|\n",
            "|           Hosjoy|      1.0|2018-10-18|         China|E-commerce & dire...|U.S.-China Green ...|                10|\n",
            "| Cerebras Systems|      4.0|2018-11-14| United States|            Hardware|Benchmark, Founda...|                10|\n",
            "|           Earnix|      2.0|2021-02-21|        Israel|             Fintech|Jerusalem Venture...|                10|\n",
            "|             Snyk|      8.6|2020-01-21|United Kingdom|       Cybersecurity|BOLDstart Venture...|                10|\n",
            "|           Tezign|      1.0|2021-11-02|         China|Internet software...|Sequoia Capital C...|                10|\n",
            "|             Sift|      1.0|2021-04-22| United States|Artificial Intell...|Union Square Vent...|                10|\n",
            "+-----------------+---------+----------+--------------+--------------------+--------------------+------------------+\n",
            "only showing top 30 rows\n",
            "\n"
          ]
        }
      ]
    },
    {
      "cell_type": "markdown",
      "source": [
        "## Window functions\n",
        "\n",
        "As window functions operam em um conjunto de linhas e retornam um único valor para essas linhas. Elas podem ser divididas em:\n",
        "\n",
        "- Ranking functions\n",
        "- Analytic functions\n",
        "- Aggregate functions"
      ],
      "metadata": {
        "id": "zL7shDuDXFUO"
      }
    },
    {
      "cell_type": "markdown",
      "source": [
        "![](https://sparkbyexamples.com/wp-content/uploads/2019/12/spark-sql-window-functions-768x435.jpg)\n",
        "\n",
        "[Source](https://sparkbyexamples.com/spark/spark-sql-window-functions/): Spark by examples\n",
        "\n",
        "Construa um dataframe onde cada linha é um país e as colunas são ordenadas pelas empresas de maior para menor valuation de um determinado país. Considere no máximo 3 empresas para cada país."
      ],
      "metadata": {
        "id": "wiip6DCoGJhb"
      }
    },
    {
      "cell_type": "code",
      "source": [
        "from pyspark.sql.window import Window\n",
        "w = Window().partitionBy('Country').orderBy(F.desc('Valuation'))\n",
        "\n",
        "df_top3_by_country = (\n",
        "  df\n",
        " .withColumn('rn', F.row_number().over(w))\n",
        " .where('rn <= 3')\n",
        " .select('Country','rn','Company','Category','Valuation')\n",
        " .orderBy('Country','rn')\n",
        ")\n",
        "\n",
        "df_top3_by_country.show(truncate=False)"
      ],
      "metadata": {
        "id": "35dlar0-XEvw",
        "colab": {
          "base_uri": "https://localhost:8080/"
        },
        "outputId": "fc5e2ea1-4de4-4109-d922-6b06616d56e9"
      },
      "execution_count": null,
      "outputs": [
        {
          "output_type": "stream",
          "name": "stdout",
          "text": [
            "+---------+---+--------------+-----------------------------------+---------+\n",
            "|Country  |rn |Company       |Category                           |Valuation|\n",
            "+---------+---+--------------+-----------------------------------+---------+\n",
            "|Argentina|1  |Uala          |Fintech                            |2.45     |\n",
            "|Australia|1  |Canva         |Internet software & services       |40.0     |\n",
            "|Australia|2  |Airwallex     |Fintech                            |5.5      |\n",
            "|Australia|3  |SafetyCulture |Internet software & services       |1.6      |\n",
            "|Austria  |1  |BitPanda      |Fintech                            |4.11     |\n",
            "|Austria  |2  |GoStudent     |Edtech                             |1.7      |\n",
            "|Belgium  |1  |Collibra      |Data management & analytics        |5.25     |\n",
            "|Belgium  |2  |Odoo          |Internet software & services       |2.3      |\n",
            "|Bermuda  |1  |Afiniti       |Artificial Intelligence            |1.6      |\n",
            "|Brazil   |1  |Nubank        |Fintech                            |30.0     |\n",
            "|Brazil   |2  |QuintoAndar   |E-commerce & direct-to-consumer    |5.1      |\n",
            "|Brazil   |3  |C6 Bank       |Fintech                            |5.05     |\n",
            "|Canada   |1  |Dapper Labs   |Fintech                            |7.6      |\n",
            "|Canada   |2  |SSENSE        |E-commerce & direct-to-consumer    |4.15     |\n",
            "|Canada   |3  |PointClickCare|Internet software & services       |4.0      |\n",
            "|Chile    |1  |NotCo         |Artificial Intelligence            |1.5      |\n",
            "|China    |1  |Bytedance     |Artificial Intelligence            |140.0    |\n",
            "|China    |2  |Xiaohongshu   |E-commerce & direct-to-consumer    |20.0     |\n",
            "|China    |3  |Yuanfudao     |Edtech                             |15.5     |\n",
            "|Colombia |1  |Rappi         |Supply chain, logistics, & delivery|5.25     |\n",
            "+---------+---+--------------+-----------------------------------+---------+\n",
            "only showing top 20 rows\n",
            "\n"
          ]
        }
      ]
    },
    {
      "cell_type": "markdown",
      "source": [
        "Funções `.lag()` e `.lead()` são usadas para \"arrastar\" os elementos de uma coluna \"para cima e para baixo\""
      ],
      "metadata": {
        "id": "JnXSi9rhh9K1"
      }
    },
    {
      "cell_type": "code",
      "source": [
        "w = Window().partitionBy('Country').orderBy('rn')\n",
        "\n",
        "(\n",
        "  df_top3_by_country\n",
        " .withColumn('Valuation_lag', F.lag('Valuation').over(w))\n",
        " .withColumn('Valuation_lead', F.lead('Valuation').over(w))\n",
        " .orderBy('Country','rn')\n",
        " .drop('Company','Category')\n",
        " .show()\n",
        ")"
      ],
      "metadata": {
        "colab": {
          "base_uri": "https://localhost:8080/"
        },
        "id": "Bg309Ao3g-C1",
        "outputId": "2112063f-0168-4ba5-cda1-b3ac39034c55"
      },
      "execution_count": null,
      "outputs": [
        {
          "output_type": "stream",
          "name": "stdout",
          "text": [
            "+---------+---+---------+-------------+--------------+\n",
            "|  Country| rn|Valuation|Valuation_lag|Valuation_lead|\n",
            "+---------+---+---------+-------------+--------------+\n",
            "|Argentina|  1|     2.45|         null|          null|\n",
            "|Australia|  1|     40.0|         null|           5.5|\n",
            "|Australia|  2|      5.5|         40.0|           1.6|\n",
            "|Australia|  3|      1.6|          5.5|          null|\n",
            "|  Austria|  1|     4.11|         null|           1.7|\n",
            "|  Austria|  2|      1.7|         4.11|          null|\n",
            "|  Belgium|  1|     5.25|         null|           2.3|\n",
            "|  Belgium|  2|      2.3|         5.25|          null|\n",
            "|  Bermuda|  1|      1.6|         null|          null|\n",
            "|   Brazil|  1|     30.0|         null|           5.1|\n",
            "|   Brazil|  2|      5.1|         30.0|          5.05|\n",
            "|   Brazil|  3|     5.05|          5.1|          null|\n",
            "|   Canada|  1|      7.6|         null|          4.15|\n",
            "|   Canada|  2|     4.15|          7.6|           4.0|\n",
            "|   Canada|  3|      4.0|         4.15|          null|\n",
            "|    Chile|  1|      1.5|         null|          null|\n",
            "|    China|  1|    140.0|         null|          20.0|\n",
            "|    China|  2|     20.0|        140.0|          15.5|\n",
            "|    China|  3|     15.5|         20.0|          null|\n",
            "| Colombia|  1|     5.25|         null|          1.15|\n",
            "+---------+---+---------+-------------+--------------+\n",
            "only showing top 20 rows\n",
            "\n"
          ]
        }
      ]
    },
    {
      "cell_type": "markdown",
      "source": [
        "## Pivot table\n",
        "\n",
        "O método [.pivot()](https://sparkbyexamples.com/pyspark/pyspark-pivot-and-unpivot-dataframe/) é utilizado para transformar linhas em colunas"
      ],
      "metadata": {
        "id": "Y6czJE3QHBxZ"
      }
    },
    {
      "cell_type": "code",
      "source": [
        "df_top3_by_country.groupby('Country').pivot('rn').agg(F.first('Company')).show(truncate=False)"
      ],
      "metadata": {
        "colab": {
          "base_uri": "https://localhost:8080/"
        },
        "id": "sl9ZJ4gkHA0L",
        "outputId": "dd3950b7-5682-485d-ebe6-d3d4d9c286ce"
      },
      "execution_count": null,
      "outputs": [
        {
          "output_type": "stream",
          "name": "stdout",
          "text": [
            "+--------------+-----------+--------------------+--------------------------+\n",
            "|Country       |1          |2                   |3                         |\n",
            "+--------------+-----------+--------------------+--------------------------+\n",
            "|Argentina     |Uala       |null                |null                      |\n",
            "|Australia     |Canva      |Airwallex           |SafetyCulture             |\n",
            "|Austria       |BitPanda   |GoStudent           |null                      |\n",
            "|Belgium       |Collibra   |Odoo                |null                      |\n",
            "|Bermuda       |Afiniti    |null                |null                      |\n",
            "|Brazil        |Nubank     |QuintoAndar         |C6 Bank                   |\n",
            "|Canada        |Dapper Labs|SSENSE              |PointClickCare            |\n",
            "|Chile         |NotCo      |null                |null                      |\n",
            "|China         |Bytedance  |Xiaohongshu         |Yuanfudao                 |\n",
            "|Colombia      |Rappi      |LifeMiles           |null                      |\n",
            "|Croatia       |Infobip    |null                |null                      |\n",
            "|Czech Republic|Rohlik     |null                |null                      |\n",
            "|Denmark       |Pleo       |Lunar               |null                      |\n",
            "|Estonia       |Bolt       |null                |null                      |\n",
            "|Finland       |Aiven      |HMD Global          |null                      |\n",
            "|France        |Sorare     |Mirakl              |Back Market               |\n",
            "|Germany       |Celonis    |N26                 |Personio                  |\n",
            "|Hong Kong     |FTX        |Lalamove            |Trendy Group International|\n",
            "|India         |BYJU's     |One97 Communications|OYO Rooms                 |\n",
            "|Indonesia     |J&T Express|Traveloka           |Ovo                       |\n",
            "+--------------+-----------+--------------------+--------------------------+\n",
            "only showing top 20 rows\n",
            "\n"
          ]
        }
      ]
    },
    {
      "cell_type": "markdown",
      "source": [
        "## Pandas API on Spark"
      ],
      "metadata": {
        "id": "b4W95zOQLHFj"
      }
    },
    {
      "cell_type": "code",
      "source": [
        "df.pandas_api().head() "
      ],
      "metadata": {
        "colab": {
          "base_uri": "https://localhost:8080/",
          "height": 244
        },
        "id": "LMQFsjXaLGPc",
        "outputId": "5e6d13b9-f7cd-41e2-92ee-f40f792ede16"
      },
      "execution_count": null,
      "outputs": [
        {
          "output_type": "stream",
          "name": "stderr",
          "text": [
            "WARNING:root:'PYARROW_IGNORE_TIMEZONE' environment variable was not set. It is required to set this environment variable to '1' in both driver and executor sides if you use pyarrow>=2.0.0. pandas-on-Spark will set it for you but it does not work if there is a Spark context already launched.\n"
          ]
        },
        {
          "output_type": "execute_result",
          "data": {
            "text/plain": [
              "            Company  Valuation  Date_Added        Country                      Category                                                                 Select_Investors\n",
              "0            Maimai       1.00  2017-11-15          China   Mobile & telecommunications                           Morningside Venture Capital, IDG Capital, DCM Ventures\n",
              "1        Apus Group       1.73  2015-01-16          China   Mobile & telecommunications                     Redpoint Ventures, QiMing Venture Partners, Chengwei Capital\n",
              "2  Pantheon Systems       1.00  2021-07-13  United States  Internet software & services                            Foundry Group, Scale Venture Partners, SoftBank Group\n",
              "3             Groww       3.00  2021-04-07          India                       Fintech                   Tiger Global Management, Sequoia Capital India, Ribbit Capital\n",
              "4            Axtria       1.00  2021-05-13  United States   Data management & analytics  Helion Venture Partners, Bain Capital Tech Opportunities, Sequoia Capital India"
            ],
            "text/html": [
              "<div>\n",
              "<style scoped>\n",
              "    .dataframe tbody tr th:only-of-type {\n",
              "        vertical-align: middle;\n",
              "    }\n",
              "\n",
              "    .dataframe tbody tr th {\n",
              "        vertical-align: top;\n",
              "    }\n",
              "\n",
              "    .dataframe thead th {\n",
              "        text-align: right;\n",
              "    }\n",
              "</style>\n",
              "<table border=\"1\" class=\"dataframe\">\n",
              "  <thead>\n",
              "    <tr style=\"text-align: right;\">\n",
              "      <th></th>\n",
              "      <th>Company</th>\n",
              "      <th>Valuation</th>\n",
              "      <th>Date_Added</th>\n",
              "      <th>Country</th>\n",
              "      <th>Category</th>\n",
              "      <th>Select_Investors</th>\n",
              "    </tr>\n",
              "  </thead>\n",
              "  <tbody>\n",
              "    <tr>\n",
              "      <th>0</th>\n",
              "      <td>Maimai</td>\n",
              "      <td>1.00</td>\n",
              "      <td>2017-11-15</td>\n",
              "      <td>China</td>\n",
              "      <td>Mobile &amp; telecommunications</td>\n",
              "      <td>Morningside Venture Capital, IDG Capital, DCM ...</td>\n",
              "    </tr>\n",
              "    <tr>\n",
              "      <th>1</th>\n",
              "      <td>Apus Group</td>\n",
              "      <td>1.73</td>\n",
              "      <td>2015-01-16</td>\n",
              "      <td>China</td>\n",
              "      <td>Mobile &amp; telecommunications</td>\n",
              "      <td>Redpoint Ventures, QiMing Venture Partners, Ch...</td>\n",
              "    </tr>\n",
              "    <tr>\n",
              "      <th>2</th>\n",
              "      <td>Pantheon Systems</td>\n",
              "      <td>1.00</td>\n",
              "      <td>2021-07-13</td>\n",
              "      <td>United States</td>\n",
              "      <td>Internet software &amp; services</td>\n",
              "      <td>Foundry Group, Scale Venture Partners, SoftBan...</td>\n",
              "    </tr>\n",
              "    <tr>\n",
              "      <th>3</th>\n",
              "      <td>Groww</td>\n",
              "      <td>3.00</td>\n",
              "      <td>2021-04-07</td>\n",
              "      <td>India</td>\n",
              "      <td>Fintech</td>\n",
              "      <td>Tiger Global Management, Sequoia Capital India...</td>\n",
              "    </tr>\n",
              "    <tr>\n",
              "      <th>4</th>\n",
              "      <td>Axtria</td>\n",
              "      <td>1.00</td>\n",
              "      <td>2021-05-13</td>\n",
              "      <td>United States</td>\n",
              "      <td>Data management &amp; analytics</td>\n",
              "      <td>Helion Venture Partners, Bain Capital Tech Opp...</td>\n",
              "    </tr>\n",
              "  </tbody>\n",
              "</table>\n",
              "</div>"
            ]
          },
          "metadata": {},
          "execution_count": 52
        }
      ]
    },
    {
      "cell_type": "code",
      "source": [
        "df.pandas_api().groupby(['Country','Category'])[['Valuation']].sum().head(10)"
      ],
      "metadata": {
        "colab": {
          "base_uri": "https://localhost:8080/",
          "height": 394
        },
        "id": "eoF-N0AxLbnM",
        "outputId": "f93bcc16-6992-4162-f85c-2038096c26af"
      },
      "execution_count": null,
      "outputs": [
        {
          "output_type": "execute_result",
          "data": {
            "text/plain": [
              "                                                          Valuation\n",
              "Country              Category                                      \n",
              "United States        Travel                                    9.55\n",
              "India                Supply chain, logistics, & delivery      14.68\n",
              "Japan                Artificial Intelligence                   2.00\n",
              "United States        E-commerce & direct-to-consumer          83.67\n",
              "United Arab Emirates Supply chain, logistics, & delivery       1.00\n",
              "Germany              Health                                    3.52\n",
              "Norway               E-commerce & direct-to-consumer           2.20\n",
              "Israel               Fintech                                   8.00\n",
              "Malaysia             E-commerce & direct-to-consumer           1.30\n",
              "Israel               Auto & transportation                     1.50"
            ],
            "text/html": [
              "<div>\n",
              "<style scoped>\n",
              "    .dataframe tbody tr th:only-of-type {\n",
              "        vertical-align: middle;\n",
              "    }\n",
              "\n",
              "    .dataframe tbody tr th {\n",
              "        vertical-align: top;\n",
              "    }\n",
              "\n",
              "    .dataframe thead th {\n",
              "        text-align: right;\n",
              "    }\n",
              "</style>\n",
              "<table border=\"1\" class=\"dataframe\">\n",
              "  <thead>\n",
              "    <tr style=\"text-align: right;\">\n",
              "      <th></th>\n",
              "      <th></th>\n",
              "      <th>Valuation</th>\n",
              "    </tr>\n",
              "    <tr>\n",
              "      <th>Country</th>\n",
              "      <th>Category</th>\n",
              "      <th></th>\n",
              "    </tr>\n",
              "  </thead>\n",
              "  <tbody>\n",
              "    <tr>\n",
              "      <th>United States</th>\n",
              "      <th>Travel</th>\n",
              "      <td>9.55</td>\n",
              "    </tr>\n",
              "    <tr>\n",
              "      <th>India</th>\n",
              "      <th>Supply chain, logistics, &amp; delivery</th>\n",
              "      <td>14.68</td>\n",
              "    </tr>\n",
              "    <tr>\n",
              "      <th>Japan</th>\n",
              "      <th>Artificial Intelligence</th>\n",
              "      <td>2.00</td>\n",
              "    </tr>\n",
              "    <tr>\n",
              "      <th>United States</th>\n",
              "      <th>E-commerce &amp; direct-to-consumer</th>\n",
              "      <td>83.67</td>\n",
              "    </tr>\n",
              "    <tr>\n",
              "      <th>United Arab Emirates</th>\n",
              "      <th>Supply chain, logistics, &amp; delivery</th>\n",
              "      <td>1.00</td>\n",
              "    </tr>\n",
              "    <tr>\n",
              "      <th>Germany</th>\n",
              "      <th>Health</th>\n",
              "      <td>3.52</td>\n",
              "    </tr>\n",
              "    <tr>\n",
              "      <th>Norway</th>\n",
              "      <th>E-commerce &amp; direct-to-consumer</th>\n",
              "      <td>2.20</td>\n",
              "    </tr>\n",
              "    <tr>\n",
              "      <th>Israel</th>\n",
              "      <th>Fintech</th>\n",
              "      <td>8.00</td>\n",
              "    </tr>\n",
              "    <tr>\n",
              "      <th>Malaysia</th>\n",
              "      <th>E-commerce &amp; direct-to-consumer</th>\n",
              "      <td>1.30</td>\n",
              "    </tr>\n",
              "    <tr>\n",
              "      <th>Israel</th>\n",
              "      <th>Auto &amp; transportation</th>\n",
              "      <td>1.50</td>\n",
              "    </tr>\n",
              "  </tbody>\n",
              "</table>\n",
              "</div>"
            ]
          },
          "metadata": {},
          "execution_count": 53
        }
      ]
    },
    {
      "cell_type": "markdown",
      "source": [
        "### Plot using pandas API"
      ],
      "metadata": {
        "id": "3IDe5_zWTeor"
      }
    },
    {
      "cell_type": "code",
      "source": [
        "df.groupby('Category').agg(F.sum('Valuation').alias('Valuation')).pandas_api().plot.bar(x='Category', y='Valuation')"
      ],
      "metadata": {
        "colab": {
          "base_uri": "https://localhost:8080/",
          "height": 542
        },
        "id": "m7K_rdIvTbdL",
        "outputId": "d4c11a0a-3ecf-41b9-ecb7-50f95eb798e9"
      },
      "execution_count": null,
      "outputs": [
        {
          "output_type": "display_data",
          "data": {
            "text/html": [
              "<html>\n",
              "<head><meta charset=\"utf-8\" /></head>\n",
              "<body>\n",
              "    <div>            <script src=\"https://cdnjs.cloudflare.com/ajax/libs/mathjax/2.7.5/MathJax.js?config=TeX-AMS-MML_SVG\"></script><script type=\"text/javascript\">if (window.MathJax) {MathJax.Hub.Config({SVG: {font: \"STIX-Web\"}});}</script>                <script type=\"text/javascript\">window.PlotlyConfig = {MathJaxConfig: 'local'};</script>\n",
              "        <script src=\"https://cdn.plot.ly/plotly-2.8.3.min.js\"></script>                <div id=\"b6ddbb88-5ffd-4e63-926f-fb06dd053e85\" class=\"plotly-graph-div\" style=\"height:525px; width:100%;\"></div>            <script type=\"text/javascript\">                                    window.PLOTLYENV=window.PLOTLYENV || {};                                    if (document.getElementById(\"b6ddbb88-5ffd-4e63-926f-fb06dd053e85\")) {                    Plotly.newPlot(                        \"b6ddbb88-5ffd-4e63-926f-fb06dd053e85\",                        [{\"alignmentgroup\":\"True\",\"hovertemplate\":\"Category=%{x}<br>Valuation=%{y}<extra></extra>\",\"legendgroup\":\"\",\"marker\":{\"color\":\"#636efa\",\"pattern\":{\"shape\":\"\"}},\"name\":\"\",\"offsetgroup\":\"\",\"orientation\":\"v\",\"showlegend\":false,\"textposition\":\"auto\",\"x\":[\"Cybersecurity\",\"E-commerce & direct-to-consumer\",\"Travel\",\"Health\",\"Fintech\",\"Edtech\",\"Data management & analytics\",\"Auto & transportation\",\"Other\",\"Supply chain, logistics, & delivery\",\"Mobile & telecommunications\",\"Finttech\",\"Artificial Intelligence\",\"Internet software & services\",\"Hardware\",\"Consumer & retail\"],\"xaxis\":\"x\",\"y\":[103.88999999999999,283.11999999999995,36.6,161.49,726.39,85.37,120.7,101.35000000000001,245.46,134.08999999999997,74.09,10.0,311.8399999999999,479.7099999999999,98.59,64.13],\"yaxis\":\"y\",\"type\":\"bar\"}],                        {\"template\":{\"data\":{\"bar\":[{\"error_x\":{\"color\":\"#2a3f5f\"},\"error_y\":{\"color\":\"#2a3f5f\"},\"marker\":{\"line\":{\"color\":\"#E5ECF6\",\"width\":0.5},\"pattern\":{\"fillmode\":\"overlay\",\"size\":10,\"solidity\":0.2}},\"type\":\"bar\"}],\"barpolar\":[{\"marker\":{\"line\":{\"color\":\"#E5ECF6\",\"width\":0.5},\"pattern\":{\"fillmode\":\"overlay\",\"size\":10,\"solidity\":0.2}},\"type\":\"barpolar\"}],\"carpet\":[{\"aaxis\":{\"endlinecolor\":\"#2a3f5f\",\"gridcolor\":\"white\",\"linecolor\":\"white\",\"minorgridcolor\":\"white\",\"startlinecolor\":\"#2a3f5f\"},\"baxis\":{\"endlinecolor\":\"#2a3f5f\",\"gridcolor\":\"white\",\"linecolor\":\"white\",\"minorgridcolor\":\"white\",\"startlinecolor\":\"#2a3f5f\"},\"type\":\"carpet\"}],\"choropleth\":[{\"colorbar\":{\"outlinewidth\":0,\"ticks\":\"\"},\"type\":\"choropleth\"}],\"contour\":[{\"colorbar\":{\"outlinewidth\":0,\"ticks\":\"\"},\"colorscale\":[[0.0,\"#0d0887\"],[0.1111111111111111,\"#46039f\"],[0.2222222222222222,\"#7201a8\"],[0.3333333333333333,\"#9c179e\"],[0.4444444444444444,\"#bd3786\"],[0.5555555555555556,\"#d8576b\"],[0.6666666666666666,\"#ed7953\"],[0.7777777777777778,\"#fb9f3a\"],[0.8888888888888888,\"#fdca26\"],[1.0,\"#f0f921\"]],\"type\":\"contour\"}],\"contourcarpet\":[{\"colorbar\":{\"outlinewidth\":0,\"ticks\":\"\"},\"type\":\"contourcarpet\"}],\"heatmap\":[{\"colorbar\":{\"outlinewidth\":0,\"ticks\":\"\"},\"colorscale\":[[0.0,\"#0d0887\"],[0.1111111111111111,\"#46039f\"],[0.2222222222222222,\"#7201a8\"],[0.3333333333333333,\"#9c179e\"],[0.4444444444444444,\"#bd3786\"],[0.5555555555555556,\"#d8576b\"],[0.6666666666666666,\"#ed7953\"],[0.7777777777777778,\"#fb9f3a\"],[0.8888888888888888,\"#fdca26\"],[1.0,\"#f0f921\"]],\"type\":\"heatmap\"}],\"heatmapgl\":[{\"colorbar\":{\"outlinewidth\":0,\"ticks\":\"\"},\"colorscale\":[[0.0,\"#0d0887\"],[0.1111111111111111,\"#46039f\"],[0.2222222222222222,\"#7201a8\"],[0.3333333333333333,\"#9c179e\"],[0.4444444444444444,\"#bd3786\"],[0.5555555555555556,\"#d8576b\"],[0.6666666666666666,\"#ed7953\"],[0.7777777777777778,\"#fb9f3a\"],[0.8888888888888888,\"#fdca26\"],[1.0,\"#f0f921\"]],\"type\":\"heatmapgl\"}],\"histogram\":[{\"marker\":{\"pattern\":{\"fillmode\":\"overlay\",\"size\":10,\"solidity\":0.2}},\"type\":\"histogram\"}],\"histogram2d\":[{\"colorbar\":{\"outlinewidth\":0,\"ticks\":\"\"},\"colorscale\":[[0.0,\"#0d0887\"],[0.1111111111111111,\"#46039f\"],[0.2222222222222222,\"#7201a8\"],[0.3333333333333333,\"#9c179e\"],[0.4444444444444444,\"#bd3786\"],[0.5555555555555556,\"#d8576b\"],[0.6666666666666666,\"#ed7953\"],[0.7777777777777778,\"#fb9f3a\"],[0.8888888888888888,\"#fdca26\"],[1.0,\"#f0f921\"]],\"type\":\"histogram2d\"}],\"histogram2dcontour\":[{\"colorbar\":{\"outlinewidth\":0,\"ticks\":\"\"},\"colorscale\":[[0.0,\"#0d0887\"],[0.1111111111111111,\"#46039f\"],[0.2222222222222222,\"#7201a8\"],[0.3333333333333333,\"#9c179e\"],[0.4444444444444444,\"#bd3786\"],[0.5555555555555556,\"#d8576b\"],[0.6666666666666666,\"#ed7953\"],[0.7777777777777778,\"#fb9f3a\"],[0.8888888888888888,\"#fdca26\"],[1.0,\"#f0f921\"]],\"type\":\"histogram2dcontour\"}],\"mesh3d\":[{\"colorbar\":{\"outlinewidth\":0,\"ticks\":\"\"},\"type\":\"mesh3d\"}],\"parcoords\":[{\"line\":{\"colorbar\":{\"outlinewidth\":0,\"ticks\":\"\"}},\"type\":\"parcoords\"}],\"pie\":[{\"automargin\":true,\"type\":\"pie\"}],\"scatter\":[{\"marker\":{\"colorbar\":{\"outlinewidth\":0,\"ticks\":\"\"}},\"type\":\"scatter\"}],\"scatter3d\":[{\"line\":{\"colorbar\":{\"outlinewidth\":0,\"ticks\":\"\"}},\"marker\":{\"colorbar\":{\"outlinewidth\":0,\"ticks\":\"\"}},\"type\":\"scatter3d\"}],\"scattercarpet\":[{\"marker\":{\"colorbar\":{\"outlinewidth\":0,\"ticks\":\"\"}},\"type\":\"scattercarpet\"}],\"scattergeo\":[{\"marker\":{\"colorbar\":{\"outlinewidth\":0,\"ticks\":\"\"}},\"type\":\"scattergeo\"}],\"scattergl\":[{\"marker\":{\"colorbar\":{\"outlinewidth\":0,\"ticks\":\"\"}},\"type\":\"scattergl\"}],\"scattermapbox\":[{\"marker\":{\"colorbar\":{\"outlinewidth\":0,\"ticks\":\"\"}},\"type\":\"scattermapbox\"}],\"scatterpolar\":[{\"marker\":{\"colorbar\":{\"outlinewidth\":0,\"ticks\":\"\"}},\"type\":\"scatterpolar\"}],\"scatterpolargl\":[{\"marker\":{\"colorbar\":{\"outlinewidth\":0,\"ticks\":\"\"}},\"type\":\"scatterpolargl\"}],\"scatterternary\":[{\"marker\":{\"colorbar\":{\"outlinewidth\":0,\"ticks\":\"\"}},\"type\":\"scatterternary\"}],\"surface\":[{\"colorbar\":{\"outlinewidth\":0,\"ticks\":\"\"},\"colorscale\":[[0.0,\"#0d0887\"],[0.1111111111111111,\"#46039f\"],[0.2222222222222222,\"#7201a8\"],[0.3333333333333333,\"#9c179e\"],[0.4444444444444444,\"#bd3786\"],[0.5555555555555556,\"#d8576b\"],[0.6666666666666666,\"#ed7953\"],[0.7777777777777778,\"#fb9f3a\"],[0.8888888888888888,\"#fdca26\"],[1.0,\"#f0f921\"]],\"type\":\"surface\"}],\"table\":[{\"cells\":{\"fill\":{\"color\":\"#EBF0F8\"},\"line\":{\"color\":\"white\"}},\"header\":{\"fill\":{\"color\":\"#C8D4E3\"},\"line\":{\"color\":\"white\"}},\"type\":\"table\"}]},\"layout\":{\"annotationdefaults\":{\"arrowcolor\":\"#2a3f5f\",\"arrowhead\":0,\"arrowwidth\":1},\"autotypenumbers\":\"strict\",\"coloraxis\":{\"colorbar\":{\"outlinewidth\":0,\"ticks\":\"\"}},\"colorscale\":{\"diverging\":[[0,\"#8e0152\"],[0.1,\"#c51b7d\"],[0.2,\"#de77ae\"],[0.3,\"#f1b6da\"],[0.4,\"#fde0ef\"],[0.5,\"#f7f7f7\"],[0.6,\"#e6f5d0\"],[0.7,\"#b8e186\"],[0.8,\"#7fbc41\"],[0.9,\"#4d9221\"],[1,\"#276419\"]],\"sequential\":[[0.0,\"#0d0887\"],[0.1111111111111111,\"#46039f\"],[0.2222222222222222,\"#7201a8\"],[0.3333333333333333,\"#9c179e\"],[0.4444444444444444,\"#bd3786\"],[0.5555555555555556,\"#d8576b\"],[0.6666666666666666,\"#ed7953\"],[0.7777777777777778,\"#fb9f3a\"],[0.8888888888888888,\"#fdca26\"],[1.0,\"#f0f921\"]],\"sequentialminus\":[[0.0,\"#0d0887\"],[0.1111111111111111,\"#46039f\"],[0.2222222222222222,\"#7201a8\"],[0.3333333333333333,\"#9c179e\"],[0.4444444444444444,\"#bd3786\"],[0.5555555555555556,\"#d8576b\"],[0.6666666666666666,\"#ed7953\"],[0.7777777777777778,\"#fb9f3a\"],[0.8888888888888888,\"#fdca26\"],[1.0,\"#f0f921\"]]},\"colorway\":[\"#636efa\",\"#EF553B\",\"#00cc96\",\"#ab63fa\",\"#FFA15A\",\"#19d3f3\",\"#FF6692\",\"#B6E880\",\"#FF97FF\",\"#FECB52\"],\"font\":{\"color\":\"#2a3f5f\"},\"geo\":{\"bgcolor\":\"white\",\"lakecolor\":\"white\",\"landcolor\":\"#E5ECF6\",\"showlakes\":true,\"showland\":true,\"subunitcolor\":\"white\"},\"hoverlabel\":{\"align\":\"left\"},\"hovermode\":\"closest\",\"mapbox\":{\"style\":\"light\"},\"paper_bgcolor\":\"white\",\"plot_bgcolor\":\"#E5ECF6\",\"polar\":{\"angularaxis\":{\"gridcolor\":\"white\",\"linecolor\":\"white\",\"ticks\":\"\"},\"bgcolor\":\"#E5ECF6\",\"radialaxis\":{\"gridcolor\":\"white\",\"linecolor\":\"white\",\"ticks\":\"\"}},\"scene\":{\"xaxis\":{\"backgroundcolor\":\"#E5ECF6\",\"gridcolor\":\"white\",\"gridwidth\":2,\"linecolor\":\"white\",\"showbackground\":true,\"ticks\":\"\",\"zerolinecolor\":\"white\"},\"yaxis\":{\"backgroundcolor\":\"#E5ECF6\",\"gridcolor\":\"white\",\"gridwidth\":2,\"linecolor\":\"white\",\"showbackground\":true,\"ticks\":\"\",\"zerolinecolor\":\"white\"},\"zaxis\":{\"backgroundcolor\":\"#E5ECF6\",\"gridcolor\":\"white\",\"gridwidth\":2,\"linecolor\":\"white\",\"showbackground\":true,\"ticks\":\"\",\"zerolinecolor\":\"white\"}},\"shapedefaults\":{\"line\":{\"color\":\"#2a3f5f\"}},\"ternary\":{\"aaxis\":{\"gridcolor\":\"white\",\"linecolor\":\"white\",\"ticks\":\"\"},\"baxis\":{\"gridcolor\":\"white\",\"linecolor\":\"white\",\"ticks\":\"\"},\"bgcolor\":\"#E5ECF6\",\"caxis\":{\"gridcolor\":\"white\",\"linecolor\":\"white\",\"ticks\":\"\"}},\"title\":{\"x\":0.05},\"xaxis\":{\"automargin\":true,\"gridcolor\":\"white\",\"linecolor\":\"white\",\"ticks\":\"\",\"title\":{\"standoff\":15},\"zerolinecolor\":\"white\",\"zerolinewidth\":2},\"yaxis\":{\"automargin\":true,\"gridcolor\":\"white\",\"linecolor\":\"white\",\"ticks\":\"\",\"title\":{\"standoff\":15},\"zerolinecolor\":\"white\",\"zerolinewidth\":2}}},\"xaxis\":{\"anchor\":\"y\",\"domain\":[0.0,1.0],\"title\":{\"text\":\"Category\"}},\"yaxis\":{\"anchor\":\"x\",\"domain\":[0.0,1.0],\"title\":{\"text\":\"Valuation\"}},\"legend\":{\"tracegroupgap\":0},\"margin\":{\"t\":60},\"barmode\":\"relative\"},                        {\"responsive\": true}                    ).then(function(){\n",
              "                            \n",
              "var gd = document.getElementById('b6ddbb88-5ffd-4e63-926f-fb06dd053e85');\n",
              "var x = new MutationObserver(function (mutations, observer) {{\n",
              "        var display = window.getComputedStyle(gd).display;\n",
              "        if (!display || display === 'none') {{\n",
              "            console.log([gd, 'removed!']);\n",
              "            Plotly.purge(gd);\n",
              "            observer.disconnect();\n",
              "        }}\n",
              "}});\n",
              "\n",
              "// Listen for the removal of the full notebook cells\n",
              "var notebookContainer = gd.closest('#notebook-container');\n",
              "if (notebookContainer) {{\n",
              "    x.observe(notebookContainer, {childList: true});\n",
              "}}\n",
              "\n",
              "// Listen for the clearing of the current output cell\n",
              "var outputEl = gd.closest('.output');\n",
              "if (outputEl) {{\n",
              "    x.observe(outputEl, {childList: true});\n",
              "}}\n",
              "\n",
              "                        })                };                            </script>        </div>\n",
              "</body>\n",
              "</html>"
            ]
          },
          "metadata": {}
        }
      ]
    },
    {
      "cell_type": "markdown",
      "source": [
        "## -> Example Break point\n",
        "\n",
        "Calcule a soma das avaliações por ano e categoria, então faça um gráfico de linhas com o ano no eixo x e avaliação no eixo y, sendo uma linha por categoria.\n"
      ],
      "metadata": {
        "id": "4EfSWdkuVDZj"
      }
    },
    {
      "cell_type": "code",
      "source": [
        "(\n",
        "  df\n",
        " .withColumn('Year', F.year('Date_Added'))\n",
        " .groupby('Year','Category')\n",
        " .sum('Valuation')\n",
        " .orderBy('Year','Category')\n",
        " .pandas_api()\n",
        " .plot.line(x='Year', y='sum(Valuation)', color='Category')\n",
        ")"
      ],
      "metadata": {
        "colab": {
          "base_uri": "https://localhost:8080/",
          "height": 542
        },
        "id": "gK-dQPkXVEUa",
        "outputId": "fe32b294-5ba8-427f-d27c-4bcbffb66ce8"
      },
      "execution_count": null,
      "outputs": [
        {
          "output_type": "display_data",
          "data": {
            "text/html": [
              "<html>\n",
              "<head><meta charset=\"utf-8\" /></head>\n",
              "<body>\n",
              "    <div>            <script src=\"https://cdnjs.cloudflare.com/ajax/libs/mathjax/2.7.5/MathJax.js?config=TeX-AMS-MML_SVG\"></script><script type=\"text/javascript\">if (window.MathJax) {MathJax.Hub.Config({SVG: {font: \"STIX-Web\"}});}</script>                <script type=\"text/javascript\">window.PlotlyConfig = {MathJaxConfig: 'local'};</script>\n",
              "        <script src=\"https://cdn.plot.ly/plotly-2.8.3.min.js\"></script>                <div id=\"0908ef92-187f-4574-8ab9-2b5a093733ca\" class=\"plotly-graph-div\" style=\"height:525px; width:100%;\"></div>            <script type=\"text/javascript\">                                    window.PLOTLYENV=window.PLOTLYENV || {};                                    if (document.getElementById(\"0908ef92-187f-4574-8ab9-2b5a093733ca\")) {                    Plotly.newPlot(                        \"0908ef92-187f-4574-8ab9-2b5a093733ca\",                        [{\"hovertemplate\":\"Category=E-commerce & direct-to-consumer<br>Year=%{x}<br>sum(Valuation)=%{y}<extra></extra>\",\"legendgroup\":\"E-commerce & direct-to-consumer\",\"line\":{\"color\":\"#636efa\",\"dash\":\"solid\"},\"marker\":{\"symbol\":\"circle\"},\"mode\":\"lines\",\"name\":\"E-commerce & direct-to-consumer\",\"orientation\":\"v\",\"showlegend\":true,\"x\":[2007,2010,2012,2014,2015,2016,2017,2018,2019,2020,2021],\"xaxis\":\"x\",\"y\":[1.38,3.0,18.0,7.4,13.690000000000001,39.37,9.18,25.8,33.01,58.190000000000005,74.1],\"yaxis\":\"y\",\"type\":\"scatter\"},{\"hovertemplate\":\"Category=Fintech<br>Year=%{x}<br>sum(Valuation)=%{y}<extra></extra>\",\"legendgroup\":\"Fintech\",\"line\":{\"color\":\"#EF553B\",\"dash\":\"solid\"},\"marker\":{\"symbol\":\"circle\"},\"mode\":\"lines\",\"name\":\"Fintech\",\"orientation\":\"v\",\"showlegend\":true,\"x\":[2011,2014,2015,2017,2018,2019,2020,2021],\"xaxis\":\"x\",\"y\":[45.6,95.0,31.5,13.879999999999999,111.74000000000001,107.02,50.800000000000004,270.85],\"yaxis\":\"y\",\"type\":\"scatter\"},{\"hovertemplate\":\"Category=Internet software & services<br>Year=%{x}<br>sum(Valuation)=%{y}<extra></extra>\",\"legendgroup\":\"Internet software & services\",\"line\":{\"color\":\"#00cc96\",\"dash\":\"solid\"},\"marker\":{\"symbol\":\"circle\"},\"mode\":\"lines\",\"name\":\"Internet software & services\",\"orientation\":\"v\",\"showlegend\":true,\"x\":[2011,2013,2015,2016,2017,2018,2019,2020,2021],\"xaxis\":\"x\",\"y\":[5.7,1.8,8.73,1.0,15.15,102.1,55.6,78.88,210.75],\"yaxis\":\"y\",\"type\":\"scatter\"},{\"hovertemplate\":\"Category=Artificial Intelligence<br>Year=%{x}<br>sum(Valuation)=%{y}<extra></extra>\",\"legendgroup\":\"Artificial Intelligence\",\"line\":{\"color\":\"#ab63fa\",\"dash\":\"solid\"},\"marker\":{\"symbol\":\"circle\"},\"mode\":\"lines\",\"name\":\"Artificial Intelligence\",\"orientation\":\"v\",\"showlegend\":true,\"x\":[2012,2015,2016,2017,2018,2019,2020,2021],\"xaxis\":\"x\",\"y\":[2.0,3.3,1.0,161.1,35.129999999999995,55.85999999999999,10.3,43.15],\"yaxis\":\"y\",\"type\":\"scatter\"},{\"hovertemplate\":\"Category=Consumer & retail<br>Year=%{x}<br>sum(Valuation)=%{y}<extra></extra>\",\"legendgroup\":\"Consumer & retail\",\"line\":{\"color\":\"#FFA15A\",\"dash\":\"solid\"},\"marker\":{\"symbol\":\"circle\"},\"mode\":\"lines\",\"name\":\"Consumer & retail\",\"orientation\":\"v\",\"showlegend\":true,\"x\":[2012,2016,2017,2018,2019,2020,2021],\"xaxis\":\"x\",\"y\":[2.0,3.78,15.34,13.93,7.2,6.0,15.88],\"yaxis\":\"y\",\"type\":\"scatter\"},{\"hovertemplate\":\"Category=Other<br>Year=%{x}<br>sum(Valuation)=%{y}<extra></extra>\",\"legendgroup\":\"Other\",\"line\":{\"color\":\"#19d3f3\",\"dash\":\"solid\"},\"marker\":{\"symbol\":\"circle\"},\"mode\":\"lines\",\"name\":\"Other\",\"orientation\":\"v\",\"showlegend\":true,\"x\":[2012,2015,2016,2017,2018,2019,2020,2021],\"xaxis\":\"x\",\"y\":[100.3,4.35,4.34,6.57,32.22,31.240000000000002,34.11,32.33],\"yaxis\":\"y\",\"type\":\"scatter\"},{\"hovertemplate\":\"Category=Cybersecurity<br>Year=%{x}<br>sum(Valuation)=%{y}<extra></extra>\",\"legendgroup\":\"Cybersecurity\",\"line\":{\"color\":\"#FF6692\",\"dash\":\"solid\"},\"marker\":{\"symbol\":\"circle\"},\"mode\":\"lines\",\"name\":\"Cybersecurity\",\"orientation\":\"v\",\"showlegend\":true,\"x\":[2013,2015,2018,2019,2020,2021],\"xaxis\":\"x\",\"y\":[1.0,11.75,7.5,8.26,22.4,52.98],\"yaxis\":\"y\",\"type\":\"scatter\"},{\"hovertemplate\":\"Category=Data management & analytics<br>Year=%{x}<br>sum(Valuation)=%{y}<extra></extra>\",\"legendgroup\":\"Data management & analytics\",\"line\":{\"color\":\"#B6E880\",\"dash\":\"solid\"},\"marker\":{\"symbol\":\"circle\"},\"mode\":\"lines\",\"name\":\"Data management & analytics\",\"orientation\":\"v\",\"showlegend\":true,\"x\":[2013,2017,2018,2019,2020,2021],\"xaxis\":\"x\",\"y\":[1.5,5.5,16.32,46.3,17.2,33.879999999999995],\"yaxis\":\"y\",\"type\":\"scatter\"},{\"hovertemplate\":\"Category=Auto & transportation<br>Year=%{x}<br>sum(Valuation)=%{y}<extra></extra>\",\"legendgroup\":\"Auto & transportation\",\"line\":{\"color\":\"#FF97FF\",\"dash\":\"solid\"},\"marker\":{\"symbol\":\"circle\"},\"mode\":\"lines\",\"name\":\"Auto & transportation\",\"orientation\":\"v\",\"showlegend\":true,\"x\":[2014,2015,2016,2018,2019,2020,2021],\"xaxis\":\"x\",\"y\":[20.6,2.0,3.5,24.75,22.93,11.02,16.55],\"yaxis\":\"y\",\"type\":\"scatter\"},{\"hovertemplate\":\"Category=Hardware<br>Year=%{x}<br>sum(Valuation)=%{y}<extra></extra>\",\"legendgroup\":\"Hardware\",\"line\":{\"color\":\"#FECB52\",\"dash\":\"solid\"},\"marker\":{\"symbol\":\"circle\"},\"mode\":\"lines\",\"name\":\"Hardware\",\"orientation\":\"v\",\"showlegend\":true,\"x\":[2014,2015,2016,2018,2020,2021],\"xaxis\":\"x\",\"y\":[6.58,25.0,15.55,30.75,3.92,16.79],\"yaxis\":\"y\",\"type\":\"scatter\"},{\"hovertemplate\":\"Category=Health<br>Year=%{x}<br>sum(Valuation)=%{y}<extra></extra>\",\"legendgroup\":\"Health\",\"line\":{\"color\":\"#636efa\",\"dash\":\"solid\"},\"marker\":{\"symbol\":\"circle\"},\"mode\":\"lines\",\"name\":\"Health\",\"orientation\":\"v\",\"showlegend\":true,\"x\":[2014,2015,2016,2017,2018,2019,2020,2021],\"xaxis\":\"x\",\"y\":[3.8,8.8,1.0,10.82,35.7,9.18,25.21,66.98],\"yaxis\":\"y\",\"type\":\"scatter\"},{\"hovertemplate\":\"Category=Mobile & telecommunications<br>Year=%{x}<br>sum(Valuation)=%{y}<extra></extra>\",\"legendgroup\":\"Mobile & telecommunications\",\"line\":{\"color\":\"#EF553B\",\"dash\":\"solid\"},\"marker\":{\"symbol\":\"circle\"},\"mode\":\"lines\",\"name\":\"Mobile & telecommunications\",\"orientation\":\"v\",\"showlegend\":true,\"x\":[2014,2015,2016,2017,2018,2019,2020,2021],\"xaxis\":\"x\",\"y\":[6.1,6.73,2.8,13.92,6.79,8.49,19.509999999999998,9.75],\"yaxis\":\"y\",\"type\":\"scatter\"},{\"hovertemplate\":\"Category=Supply chain, logistics, & delivery<br>Year=%{x}<br>sum(Valuation)=%{y}<extra></extra>\",\"legendgroup\":\"Supply chain, logistics, & delivery\",\"line\":{\"color\":\"#00cc96\",\"dash\":\"solid\"},\"marker\":{\"symbol\":\"circle\"},\"mode\":\"lines\",\"name\":\"Supply chain, logistics, & delivery\",\"orientation\":\"v\",\"showlegend\":true,\"x\":[2014,2016,2017,2018,2019,2020,2021],\"xaxis\":\"x\",\"y\":[39.0,1.2,1.0,26.65,24.590000000000003,4.05,37.6],\"yaxis\":\"y\",\"type\":\"scatter\"},{\"hovertemplate\":\"Category=Edtech<br>Year=%{x}<br>sum(Valuation)=%{y}<extra></extra>\",\"legendgroup\":\"Edtech\",\"line\":{\"color\":\"#ab63fa\",\"dash\":\"solid\"},\"marker\":{\"symbol\":\"circle\"},\"mode\":\"lines\",\"name\":\"Edtech\",\"orientation\":\"v\",\"showlegend\":true,\"x\":[2015,2016,2017,2018,2019,2020,2021],\"xaxis\":\"x\",\"y\":[2.0,7.5,39.18,4.0,1.0,8.54,23.15],\"yaxis\":\"y\",\"type\":\"scatter\"},{\"hovertemplate\":\"Category=Travel<br>Year=%{x}<br>sum(Valuation)=%{y}<extra></extra>\",\"legendgroup\":\"Travel\",\"line\":{\"color\":\"#FFA15A\",\"dash\":\"solid\"},\"marker\":{\"symbol\":\"circle\"},\"mode\":\"lines\",\"name\":\"Travel\",\"orientation\":\"v\",\"showlegend\":true,\"x\":[2015,2017,2018,2019,2021],\"xaxis\":\"x\",\"y\":[1.5,4.5,19.2,6.4,5.0],\"yaxis\":\"y\",\"type\":\"scatter\"},{\"hovertemplate\":\"Category=Finttech<br>Year=%{x}<br>sum(Valuation)=%{y}<extra></extra>\",\"legendgroup\":\"Finttech\",\"line\":{\"color\":\"#19d3f3\",\"dash\":\"solid\"},\"marker\":{\"symbol\":\"circle\"},\"mode\":\"lines\",\"name\":\"Finttech\",\"orientation\":\"v\",\"showlegend\":true,\"x\":[2021],\"xaxis\":\"x\",\"y\":[10.0],\"yaxis\":\"y\",\"type\":\"scatter\"}],                        {\"template\":{\"data\":{\"bar\":[{\"error_x\":{\"color\":\"#2a3f5f\"},\"error_y\":{\"color\":\"#2a3f5f\"},\"marker\":{\"line\":{\"color\":\"#E5ECF6\",\"width\":0.5},\"pattern\":{\"fillmode\":\"overlay\",\"size\":10,\"solidity\":0.2}},\"type\":\"bar\"}],\"barpolar\":[{\"marker\":{\"line\":{\"color\":\"#E5ECF6\",\"width\":0.5},\"pattern\":{\"fillmode\":\"overlay\",\"size\":10,\"solidity\":0.2}},\"type\":\"barpolar\"}],\"carpet\":[{\"aaxis\":{\"endlinecolor\":\"#2a3f5f\",\"gridcolor\":\"white\",\"linecolor\":\"white\",\"minorgridcolor\":\"white\",\"startlinecolor\":\"#2a3f5f\"},\"baxis\":{\"endlinecolor\":\"#2a3f5f\",\"gridcolor\":\"white\",\"linecolor\":\"white\",\"minorgridcolor\":\"white\",\"startlinecolor\":\"#2a3f5f\"},\"type\":\"carpet\"}],\"choropleth\":[{\"colorbar\":{\"outlinewidth\":0,\"ticks\":\"\"},\"type\":\"choropleth\"}],\"contour\":[{\"colorbar\":{\"outlinewidth\":0,\"ticks\":\"\"},\"colorscale\":[[0.0,\"#0d0887\"],[0.1111111111111111,\"#46039f\"],[0.2222222222222222,\"#7201a8\"],[0.3333333333333333,\"#9c179e\"],[0.4444444444444444,\"#bd3786\"],[0.5555555555555556,\"#d8576b\"],[0.6666666666666666,\"#ed7953\"],[0.7777777777777778,\"#fb9f3a\"],[0.8888888888888888,\"#fdca26\"],[1.0,\"#f0f921\"]],\"type\":\"contour\"}],\"contourcarpet\":[{\"colorbar\":{\"outlinewidth\":0,\"ticks\":\"\"},\"type\":\"contourcarpet\"}],\"heatmap\":[{\"colorbar\":{\"outlinewidth\":0,\"ticks\":\"\"},\"colorscale\":[[0.0,\"#0d0887\"],[0.1111111111111111,\"#46039f\"],[0.2222222222222222,\"#7201a8\"],[0.3333333333333333,\"#9c179e\"],[0.4444444444444444,\"#bd3786\"],[0.5555555555555556,\"#d8576b\"],[0.6666666666666666,\"#ed7953\"],[0.7777777777777778,\"#fb9f3a\"],[0.8888888888888888,\"#fdca26\"],[1.0,\"#f0f921\"]],\"type\":\"heatmap\"}],\"heatmapgl\":[{\"colorbar\":{\"outlinewidth\":0,\"ticks\":\"\"},\"colorscale\":[[0.0,\"#0d0887\"],[0.1111111111111111,\"#46039f\"],[0.2222222222222222,\"#7201a8\"],[0.3333333333333333,\"#9c179e\"],[0.4444444444444444,\"#bd3786\"],[0.5555555555555556,\"#d8576b\"],[0.6666666666666666,\"#ed7953\"],[0.7777777777777778,\"#fb9f3a\"],[0.8888888888888888,\"#fdca26\"],[1.0,\"#f0f921\"]],\"type\":\"heatmapgl\"}],\"histogram\":[{\"marker\":{\"pattern\":{\"fillmode\":\"overlay\",\"size\":10,\"solidity\":0.2}},\"type\":\"histogram\"}],\"histogram2d\":[{\"colorbar\":{\"outlinewidth\":0,\"ticks\":\"\"},\"colorscale\":[[0.0,\"#0d0887\"],[0.1111111111111111,\"#46039f\"],[0.2222222222222222,\"#7201a8\"],[0.3333333333333333,\"#9c179e\"],[0.4444444444444444,\"#bd3786\"],[0.5555555555555556,\"#d8576b\"],[0.6666666666666666,\"#ed7953\"],[0.7777777777777778,\"#fb9f3a\"],[0.8888888888888888,\"#fdca26\"],[1.0,\"#f0f921\"]],\"type\":\"histogram2d\"}],\"histogram2dcontour\":[{\"colorbar\":{\"outlinewidth\":0,\"ticks\":\"\"},\"colorscale\":[[0.0,\"#0d0887\"],[0.1111111111111111,\"#46039f\"],[0.2222222222222222,\"#7201a8\"],[0.3333333333333333,\"#9c179e\"],[0.4444444444444444,\"#bd3786\"],[0.5555555555555556,\"#d8576b\"],[0.6666666666666666,\"#ed7953\"],[0.7777777777777778,\"#fb9f3a\"],[0.8888888888888888,\"#fdca26\"],[1.0,\"#f0f921\"]],\"type\":\"histogram2dcontour\"}],\"mesh3d\":[{\"colorbar\":{\"outlinewidth\":0,\"ticks\":\"\"},\"type\":\"mesh3d\"}],\"parcoords\":[{\"line\":{\"colorbar\":{\"outlinewidth\":0,\"ticks\":\"\"}},\"type\":\"parcoords\"}],\"pie\":[{\"automargin\":true,\"type\":\"pie\"}],\"scatter\":[{\"marker\":{\"colorbar\":{\"outlinewidth\":0,\"ticks\":\"\"}},\"type\":\"scatter\"}],\"scatter3d\":[{\"line\":{\"colorbar\":{\"outlinewidth\":0,\"ticks\":\"\"}},\"marker\":{\"colorbar\":{\"outlinewidth\":0,\"ticks\":\"\"}},\"type\":\"scatter3d\"}],\"scattercarpet\":[{\"marker\":{\"colorbar\":{\"outlinewidth\":0,\"ticks\":\"\"}},\"type\":\"scattercarpet\"}],\"scattergeo\":[{\"marker\":{\"colorbar\":{\"outlinewidth\":0,\"ticks\":\"\"}},\"type\":\"scattergeo\"}],\"scattergl\":[{\"marker\":{\"colorbar\":{\"outlinewidth\":0,\"ticks\":\"\"}},\"type\":\"scattergl\"}],\"scattermapbox\":[{\"marker\":{\"colorbar\":{\"outlinewidth\":0,\"ticks\":\"\"}},\"type\":\"scattermapbox\"}],\"scatterpolar\":[{\"marker\":{\"colorbar\":{\"outlinewidth\":0,\"ticks\":\"\"}},\"type\":\"scatterpolar\"}],\"scatterpolargl\":[{\"marker\":{\"colorbar\":{\"outlinewidth\":0,\"ticks\":\"\"}},\"type\":\"scatterpolargl\"}],\"scatterternary\":[{\"marker\":{\"colorbar\":{\"outlinewidth\":0,\"ticks\":\"\"}},\"type\":\"scatterternary\"}],\"surface\":[{\"colorbar\":{\"outlinewidth\":0,\"ticks\":\"\"},\"colorscale\":[[0.0,\"#0d0887\"],[0.1111111111111111,\"#46039f\"],[0.2222222222222222,\"#7201a8\"],[0.3333333333333333,\"#9c179e\"],[0.4444444444444444,\"#bd3786\"],[0.5555555555555556,\"#d8576b\"],[0.6666666666666666,\"#ed7953\"],[0.7777777777777778,\"#fb9f3a\"],[0.8888888888888888,\"#fdca26\"],[1.0,\"#f0f921\"]],\"type\":\"surface\"}],\"table\":[{\"cells\":{\"fill\":{\"color\":\"#EBF0F8\"},\"line\":{\"color\":\"white\"}},\"header\":{\"fill\":{\"color\":\"#C8D4E3\"},\"line\":{\"color\":\"white\"}},\"type\":\"table\"}]},\"layout\":{\"annotationdefaults\":{\"arrowcolor\":\"#2a3f5f\",\"arrowhead\":0,\"arrowwidth\":1},\"autotypenumbers\":\"strict\",\"coloraxis\":{\"colorbar\":{\"outlinewidth\":0,\"ticks\":\"\"}},\"colorscale\":{\"diverging\":[[0,\"#8e0152\"],[0.1,\"#c51b7d\"],[0.2,\"#de77ae\"],[0.3,\"#f1b6da\"],[0.4,\"#fde0ef\"],[0.5,\"#f7f7f7\"],[0.6,\"#e6f5d0\"],[0.7,\"#b8e186\"],[0.8,\"#7fbc41\"],[0.9,\"#4d9221\"],[1,\"#276419\"]],\"sequential\":[[0.0,\"#0d0887\"],[0.1111111111111111,\"#46039f\"],[0.2222222222222222,\"#7201a8\"],[0.3333333333333333,\"#9c179e\"],[0.4444444444444444,\"#bd3786\"],[0.5555555555555556,\"#d8576b\"],[0.6666666666666666,\"#ed7953\"],[0.7777777777777778,\"#fb9f3a\"],[0.8888888888888888,\"#fdca26\"],[1.0,\"#f0f921\"]],\"sequentialminus\":[[0.0,\"#0d0887\"],[0.1111111111111111,\"#46039f\"],[0.2222222222222222,\"#7201a8\"],[0.3333333333333333,\"#9c179e\"],[0.4444444444444444,\"#bd3786\"],[0.5555555555555556,\"#d8576b\"],[0.6666666666666666,\"#ed7953\"],[0.7777777777777778,\"#fb9f3a\"],[0.8888888888888888,\"#fdca26\"],[1.0,\"#f0f921\"]]},\"colorway\":[\"#636efa\",\"#EF553B\",\"#00cc96\",\"#ab63fa\",\"#FFA15A\",\"#19d3f3\",\"#FF6692\",\"#B6E880\",\"#FF97FF\",\"#FECB52\"],\"font\":{\"color\":\"#2a3f5f\"},\"geo\":{\"bgcolor\":\"white\",\"lakecolor\":\"white\",\"landcolor\":\"#E5ECF6\",\"showlakes\":true,\"showland\":true,\"subunitcolor\":\"white\"},\"hoverlabel\":{\"align\":\"left\"},\"hovermode\":\"closest\",\"mapbox\":{\"style\":\"light\"},\"paper_bgcolor\":\"white\",\"plot_bgcolor\":\"#E5ECF6\",\"polar\":{\"angularaxis\":{\"gridcolor\":\"white\",\"linecolor\":\"white\",\"ticks\":\"\"},\"bgcolor\":\"#E5ECF6\",\"radialaxis\":{\"gridcolor\":\"white\",\"linecolor\":\"white\",\"ticks\":\"\"}},\"scene\":{\"xaxis\":{\"backgroundcolor\":\"#E5ECF6\",\"gridcolor\":\"white\",\"gridwidth\":2,\"linecolor\":\"white\",\"showbackground\":true,\"ticks\":\"\",\"zerolinecolor\":\"white\"},\"yaxis\":{\"backgroundcolor\":\"#E5ECF6\",\"gridcolor\":\"white\",\"gridwidth\":2,\"linecolor\":\"white\",\"showbackground\":true,\"ticks\":\"\",\"zerolinecolor\":\"white\"},\"zaxis\":{\"backgroundcolor\":\"#E5ECF6\",\"gridcolor\":\"white\",\"gridwidth\":2,\"linecolor\":\"white\",\"showbackground\":true,\"ticks\":\"\",\"zerolinecolor\":\"white\"}},\"shapedefaults\":{\"line\":{\"color\":\"#2a3f5f\"}},\"ternary\":{\"aaxis\":{\"gridcolor\":\"white\",\"linecolor\":\"white\",\"ticks\":\"\"},\"baxis\":{\"gridcolor\":\"white\",\"linecolor\":\"white\",\"ticks\":\"\"},\"bgcolor\":\"#E5ECF6\",\"caxis\":{\"gridcolor\":\"white\",\"linecolor\":\"white\",\"ticks\":\"\"}},\"title\":{\"x\":0.05},\"xaxis\":{\"automargin\":true,\"gridcolor\":\"white\",\"linecolor\":\"white\",\"ticks\":\"\",\"title\":{\"standoff\":15},\"zerolinecolor\":\"white\",\"zerolinewidth\":2},\"yaxis\":{\"automargin\":true,\"gridcolor\":\"white\",\"linecolor\":\"white\",\"ticks\":\"\",\"title\":{\"standoff\":15},\"zerolinecolor\":\"white\",\"zerolinewidth\":2}}},\"xaxis\":{\"anchor\":\"y\",\"domain\":[0.0,1.0],\"title\":{\"text\":\"Year\"}},\"yaxis\":{\"anchor\":\"x\",\"domain\":[0.0,1.0],\"title\":{\"text\":\"sum(Valuation)\"}},\"legend\":{\"title\":{\"text\":\"Category\"},\"tracegroupgap\":0},\"margin\":{\"t\":60}},                        {\"responsive\": true}                    ).then(function(){\n",
              "                            \n",
              "var gd = document.getElementById('0908ef92-187f-4574-8ab9-2b5a093733ca');\n",
              "var x = new MutationObserver(function (mutations, observer) {{\n",
              "        var display = window.getComputedStyle(gd).display;\n",
              "        if (!display || display === 'none') {{\n",
              "            console.log([gd, 'removed!']);\n",
              "            Plotly.purge(gd);\n",
              "            observer.disconnect();\n",
              "        }}\n",
              "}});\n",
              "\n",
              "// Listen for the removal of the full notebook cells\n",
              "var notebookContainer = gd.closest('#notebook-container');\n",
              "if (notebookContainer) {{\n",
              "    x.observe(notebookContainer, {childList: true});\n",
              "}}\n",
              "\n",
              "// Listen for the clearing of the current output cell\n",
              "var outputEl = gd.closest('.output');\n",
              "if (outputEl) {{\n",
              "    x.observe(outputEl, {childList: true});\n",
              "}}\n",
              "\n",
              "                        })                };                            </script>        </div>\n",
              "</body>\n",
              "</html>"
            ]
          },
          "metadata": {}
        }
      ]
    },
    {
      "cell_type": "markdown",
      "source": [
        "## Further functionalities"
      ],
      "metadata": {
        "id": "DCd8jSGfVtXX"
      }
    },
    {
      "cell_type": "markdown",
      "source": [
        "- [.coalesce()](https://sparkbyexamples.com/pyspark/pyspark-repartition-vs-coalesce/): seleciona o primeiro item não-nulo de uma lista\n",
        "- [.isNull()/.isNotNull()](https://sparkbyexamples.com/pyspark/pyspark-isnull/): indica se um valor é nulo/não-nulo\n",
        "- [.concat()/.concat_ws()](https://sparkbyexamples.com/pyspark/pyspark-concatenate-columns/): concatena valores (_with separator_)\n",
        "- [.split()](https://sparkbyexamples.com/pyspark/pyspark-split-dataframe-column-into-multiple-columns/): quebra uma string em um array a partir de um caracter\n",
        "- [.getItem()](https://spark.apache.org/docs/latest/api/python/reference/pyspark.sql/api/pyspark.sql.Column.getItem.html): seleciona o item _i_ de uma lista ou a valor da chave _i_ de um dicionário\n",
        "- [.explode()](https://sparkbyexamples.com/pyspark/pyspark-explode-array-and-map-columns-to-rows/): quebra um array em várias linhas"
      ],
      "metadata": {
        "id": "gw2aPQnKQJN7"
      }
    },
    {
      "cell_type": "code",
      "source": [
        "(\n",
        "    df.join(df_country, on='Country')\n",
        "    .withColumn('region_test', F.coalesce('Region_2', 'Region_1', F.lit('NA')))\n",
        "    .withColumn('country_company', F.concat_ws('_', 'country','company'))\n",
        "    .withColumn('country_company_split', F.split('country_company', '_'))\n",
        "    .filter(F.col('Region_2').isNotNull())\n",
        "    .withColumn('country_recovery', F.col('country_company_split').getItem(0))\n",
        "    .withColumn('exploded', F.explode('country_company_split'))\n",
        "    .show()\n",
        ")"
      ],
      "metadata": {
        "colab": {
          "base_uri": "https://localhost:8080/"
        },
        "id": "DyCqRzMAPD12",
        "outputId": "b33a6e0d-e470-41cb-ca7f-a02125c1baae"
      },
      "execution_count": null,
      "outputs": [
        {
          "output_type": "stream",
          "name": "stdout",
          "text": [
            "+------------+-------------------+---------+----------+--------------------+--------------------+---------------+--------+---------------+--------------------+-------------+--------------------+--------------------+---------------------+----------------+-------------------+\n",
            "|     Country|            Company|Valuation|Date_Added|            Category|    Select_Investors|ISO_Alpha3_Code|M49_Code|       Region_1|            Region_2|    Continent|         region_test|     country_company|country_company_split|country_recovery|           exploded|\n",
            "+------------+-------------------+---------+----------+--------------------+--------------------+---------------+--------+---------------+--------------------+-------------+--------------------+--------------------+---------------------+----------------+-------------------+\n",
            "|     Nigeria|               Opay|      2.0|2021-08-23|             Fintech|Sequoia Capital C...|            NGA|     566| Western Africa|  Sub-Saharan Africa|       Africa|  Sub-Saharan Africa|        Nigeria_Opay|      [Nigeria, Opay]|         Nigeria|            Nigeria|\n",
            "|     Nigeria|               Opay|      2.0|2021-08-23|             Fintech|Sequoia Capital C...|            NGA|     566| Western Africa|  Sub-Saharan Africa|       Africa|  Sub-Saharan Africa|        Nigeria_Opay|      [Nigeria, Opay]|         Nigeria|               Opay|\n",
            "|      Brazil|              Unico|      1.0|2021-08-03|Artificial Intell...|Big Bets, General...|            BRA|      76|  South America|Latin America and...|South America|Latin America and...|        Brazil_Unico|      [Brazil, Unico]|          Brazil|             Brazil|\n",
            "|      Brazil|              Unico|      1.0|2021-08-03|Artificial Intell...|Big Bets, General...|            BRA|      76|  South America|Latin America and...|South America|Latin America and...|        Brazil_Unico|      [Brazil, Unico]|          Brazil|              Unico|\n",
            "|      Brazil|     MadeiraMadeira|      1.0|2021-01-07|E-commerce & dire...|Flybridge Capital...|            BRA|      76|  South America|Latin America and...|South America|Latin America and...|Brazil_MadeiraMad...| [Brazil, MadeiraM...|          Brazil|             Brazil|\n",
            "|      Brazil|     MadeiraMadeira|      1.0|2021-01-07|E-commerce & dire...|Flybridge Capital...|            BRA|      76|  South America|Latin America and...|South America|Latin America and...|Brazil_MadeiraMad...| [Brazil, MadeiraM...|          Brazil|     MadeiraMadeira|\n",
            "|      Brazil|          Nuvemshop|      3.1|2021-08-17|E-commerce & dire...|Kaszek Ventures, ...|            BRA|      76|  South America|Latin America and...|South America|Latin America and...|    Brazil_Nuvemshop|  [Brazil, Nuvemshop]|          Brazil|             Brazil|\n",
            "|      Brazil|          Nuvemshop|      3.1|2021-08-17|E-commerce & dire...|Kaszek Ventures, ...|            BRA|      76|  South America|Latin America and...|South America|Latin America and...|    Brazil_Nuvemshop|  [Brazil, Nuvemshop]|          Brazil|          Nuvemshop|\n",
            "|      Brazil|            C6 Bank|     5.05|2020-12-02|             Fintech|       Credit Suisse|            BRA|      76|  South America|Latin America and...|South America|Latin America and...|      Brazil_C6 Bank|    [Brazil, C6 Bank]|          Brazil|             Brazil|\n",
            "|      Brazil|            C6 Bank|     5.05|2020-12-02|             Fintech|       Credit Suisse|            BRA|      76|  South America|Latin America and...|South America|Latin America and...|      Brazil_C6 Bank|    [Brazil, C6 Bank]|          Brazil|            C6 Bank|\n",
            "|      Brazil|              Loggi|      2.0|2019-06-05|Supply chain, log...|Qualcomm Ventures...|            BRA|      76|  South America|Latin America and...|South America|Latin America and...|        Brazil_Loggi|      [Brazil, Loggi]|          Brazil|             Brazil|\n",
            "|      Brazil|              Loggi|      2.0|2019-06-05|Supply chain, log...|Qualcomm Ventures...|            BRA|      76|  South America|Latin America and...|South America|Latin America and...|        Brazil_Loggi|      [Brazil, Loggi]|          Brazil|              Loggi|\n",
            "|      Brazil|              iFood|      1.0|2018-11-13|Supply chain, log...|Movile, Just Eat,...|            BRA|      76|  South America|Latin America and...|South America|Latin America and...|        Brazil_iFood|      [Brazil, iFood]|          Brazil|             Brazil|\n",
            "|      Brazil|              iFood|      1.0|2018-11-13|Supply chain, log...|Movile, Just Eat,...|            BRA|      76|  South America|Latin America and...|South America|Latin America and...|        Brazil_iFood|      [Brazil, iFood]|          Brazil|              iFood|\n",
            "|      Brazil|           Creditas|     1.75|2020-12-18|             Fintech|Kaszek Ventures, ...|            BRA|      76|  South America|Latin America and...|South America|Latin America and...|     Brazil_Creditas|   [Brazil, Creditas]|          Brazil|             Brazil|\n",
            "|      Brazil|           Creditas|     1.75|2020-12-18|             Fintech|Kaszek Ventures, ...|            BRA|      76|  South America|Latin America and...|South America|Latin America and...|     Brazil_Creditas|   [Brazil, Creditas]|          Brazil|           Creditas|\n",
            "|South Africa|Promasidor Holdings|     1.59|2016-11-08|   Consumer & retail|      IFC, Ajinomoto|            ZAF|     710|Southern Africa|  Sub-Saharan Africa|       Africa|  Sub-Saharan Africa|South Africa_Prom...| [South Africa, Pr...|    South Africa|       South Africa|\n",
            "|South Africa|Promasidor Holdings|     1.59|2016-11-08|   Consumer & retail|      IFC, Ajinomoto|            ZAF|     710|Southern Africa|  Sub-Saharan Africa|       Africa|  Sub-Saharan Africa|South Africa_Prom...| [South Africa, Pr...|    South Africa|Promasidor Holdings|\n",
            "|      Brazil|             Nubank|     30.0|2018-03-01|             Fintech|Sequoia Capital, ...|            BRA|      76|  South America|Latin America and...|South America|Latin America and...|       Brazil_Nubank|     [Brazil, Nubank]|          Brazil|             Brazil|\n",
            "|      Brazil|             Nubank|     30.0|2018-03-01|             Fintech|Sequoia Capital, ...|            BRA|      76|  South America|Latin America and...|South America|Latin America and...|       Brazil_Nubank|     [Brazil, Nubank]|          Brazil|             Nubank|\n",
            "+------------+-------------------+---------+----------+--------------------+--------------------+---------------+--------+---------------+--------------------+-------------+--------------------+--------------------+---------------------+----------------+-------------------+\n",
            "only showing top 20 rows\n",
            "\n"
          ]
        }
      ]
    },
    {
      "cell_type": "markdown",
      "source": [
        "## DataType-specific funtions\n",
        "\n",
        "Acesse [este link](https://sparkbyexamples.com/) para ver outros métodos para cada data type (Spark SQL Functions)."
      ],
      "metadata": {
        "id": "UMvi8rxBQhYj"
      }
    },
    {
      "cell_type": "markdown",
      "source": [
        "## Date functions\n",
        "\n",
        "Acesse [este link](https://sparkbyexamples.com/spark/spark-sql-date-and-time-functions/) para ver todas cas possibilidades de funções de data/timestamp."
      ],
      "metadata": {
        "id": "zL8ppJOxNq9j"
      }
    },
    {
      "cell_type": "code",
      "source": [
        "(\n",
        "  df\n",
        " .select(\n",
        "     F.date_trunc('month', 'Date_Added'),\n",
        "     F.month('Date_Added'),\n",
        "     F.dayofyear('Date_Added'),\n",
        "     F.lit(F.current_date())\n",
        "  )\n",
        " .show(10)\n",
        ")"
      ],
      "metadata": {
        "colab": {
          "base_uri": "https://localhost:8080/"
        },
        "id": "m0Zh--92VTev",
        "outputId": "add13704-b27f-482b-ae65-aebd08c9b1c5"
      },
      "execution_count": null,
      "outputs": [
        {
          "output_type": "stream",
          "name": "stdout",
          "text": [
            "+-----------------------------+-----------------+---------------------+--------------+\n",
            "|date_trunc(month, Date_Added)|month(Date_Added)|dayofyear(Date_Added)|current_date()|\n",
            "+-----------------------------+-----------------+---------------------+--------------+\n",
            "|          2021-11-01 00:00:00|               11|                  306|    2022-11-04|\n",
            "|          2021-02-01 00:00:00|                2|                   38|    2022-11-04|\n",
            "|          2019-12-01 00:00:00|               12|                  337|    2022-11-04|\n",
            "|          2017-01-01 00:00:00|                1|                    1|    2022-11-04|\n",
            "|          2019-07-01 00:00:00|                7|                  212|    2022-11-04|\n",
            "|          2017-05-01 00:00:00|                5|                  131|    2022-11-04|\n",
            "|          2017-08-01 00:00:00|                8|                  237|    2022-11-04|\n",
            "|          2021-03-01 00:00:00|                3|                   84|    2022-11-04|\n",
            "|          2021-03-01 00:00:00|                3|                   84|    2022-11-04|\n",
            "|          2021-03-01 00:00:00|                3|                   89|    2022-11-04|\n",
            "+-----------------------------+-----------------+---------------------+--------------+\n",
            "only showing top 10 rows\n",
            "\n"
          ]
        }
      ]
    },
    {
      "cell_type": "markdown",
      "source": [
        "## Exemplos de perguntas"
      ],
      "metadata": {
        "id": "N-bAG12IVUm2"
      }
    },
    {
      "cell_type": "markdown",
      "source": [
        "Quantos investidores distintos tem por continente-país? Ordene pela quantidade de investidores distintos de forma decrescente."
      ],
      "metadata": {
        "id": "u70ZYlBeUGM6"
      }
    },
    {
      "cell_type": "code",
      "source": [
        "(\n",
        "  df\n",
        " .join(df_country, on='Country')\n",
        " .withColumn('investors', F.split('Select_investors', ','))\n",
        " .withColumn('investors', F.explode('investors'))\n",
        " .groupby('Continent','Country')\n",
        " .agg(F.countDistinct('investors').alias('n_investors'))\n",
        " .orderBy(F.desc('n_investors'))\n",
        " .show()\n",
        ")"
      ],
      "metadata": {
        "colab": {
          "base_uri": "https://localhost:8080/"
        },
        "id": "MdPaT8m4PVVl",
        "outputId": "48a8e181-05a6-4b76-bd6f-5cd428e7cc7c"
      },
      "execution_count": null,
      "outputs": [
        {
          "output_type": "stream",
          "name": "stdout",
          "text": [
            "+-------------+--------------+-----------+\n",
            "|    Continent|       Country|n_investors|\n",
            "+-------------+--------------+-----------+\n",
            "|North America| United States|        717|\n",
            "|         Asia|         China|        311|\n",
            "|         Asia|         India|         91|\n",
            "|       Europe|United Kingdom|         81|\n",
            "|       Europe|       Germany|         57|\n",
            "|         Asia|        Israel|         53|\n",
            "|       Europe|        France|         46|\n",
            "|North America|        Canada|         42|\n",
            "|         Asia|     Singapore|         33|\n",
            "|South America|        Brazil|         33|\n",
            "|         Asia|   South Korea|         22|\n",
            "|         Asia|         Japan|         18|\n",
            "|         Asia|     Hong Kong|         18|\n",
            "|         Asia|     Indonesia|         15|\n",
            "|      Oceania|     Australia|         14|\n",
            "|       Europe|        Sweden|         11|\n",
            "|       Europe|   Netherlands|         10|\n",
            "|North America|        Mexico|         10|\n",
            "|       Europe|   Switzerland|          9|\n",
            "|       Europe|        Norway|          9|\n",
            "+-------------+--------------+-----------+\n",
            "only showing top 20 rows\n",
            "\n"
          ]
        }
      ]
    }
  ]
}